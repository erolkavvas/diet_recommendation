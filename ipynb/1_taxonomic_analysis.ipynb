{
 "cells": [
  {
   "cell_type": "markdown",
   "metadata": {},
   "source": [
    "# Taxonomic Analysis\n",
    "\n",
    "Inputs:\n",
    "- qiime files taxonomy.qza and metadata.tsv\n",
    "- folder of AGORA2 reconstructions\n",
    "\n",
    "Outputs:\n",
    "- SILVA_genus_counts.csv (taxon_genus_asvs)\n",
    "- \n",
    "\n",
    "\n",
    "With filtasv_abund_thresh=0.0001, we get about 621 ASVs for 7700 samples.  \n",
    "With filtasv_abund_thresh=0.00001, we get about 2176 ASVs for 7700 samples.  "
   ]
  },
  {
   "cell_type": "code",
   "execution_count": 19,
   "metadata": {},
   "outputs": [],
   "source": [
    "import sys\n",
    "sys.path.append('../')\n",
    "import os\n",
    "import pandas as pd\n",
    "import numpy as np\n",
    "import matplotlib.pyplot as plt\n",
    "from mb_xai import mb_utils\n",
    "from functools import reduce\n",
    "# df = reduce(lambda df1,df2: pd.merge(df1,df2,on='id'), dfList)\n",
    "\n",
    "filt=True\n",
    "filtasv_sample_thresh=2\n",
    "filtasv_abund_thresh=0.0001\n",
    "asv_count_threshold = 0\n",
    "SAVE_OUTPUT = True\n",
    "\n",
    "DATA_LOC = '../../../Data/microbiome_xai/'\n",
    "FIG_SAVE_LOC = \"../figures/\"\n",
    "# TABLE_SAVE_LOC = \"../tables/\"\n",
    "TABLE_SAVE_LOC = DATA_LOC+\"agp_data/\"\n",
    "\n",
    "dir_agora2 = \"/mnt/d/Microbiome_project/reconstructions/AGORA2_recons/\"\n",
    "# dir_taxon = \"../merged-data/\"\n",
    "dir_taxon_asv = DATA_LOC+\"agp_data/taxonomy-data/\"\n",
    "dir_taxon_silva = DATA_LOC+\"agp_data/silva_merged-data/\""
   ]
  },
  {
   "cell_type": "code",
   "execution_count": 2,
   "metadata": {},
   "outputs": [
    {
     "name": "stdout",
     "output_type": "stream",
     "text": [
      "'$RECYCLE.BIN'\t\t\t 'Install Discovery for Windows.exe'\n",
      "'$UGM'\t\t\t\t  Microbiome_project\n",
      " IBA_project\t\t\t 'System Volume Information'\n",
      "'Install Discovery for Mac.dmg'\n"
     ]
    }
   ],
   "source": [
    "!ls /mnt/d"
   ]
  },
  {
   "cell_type": "markdown",
   "metadata": {},
   "source": [
    "Load batches of final dataset and concatenate\n",
    "- the below code crashes when loading sample 3 (2gb), so use \"run_taxonomic_analysis.py\" in terminal instead."
   ]
  },
  {
   "cell_type": "code",
   "execution_count": 3,
   "metadata": {},
   "outputs": [
    {
     "name": "stdout",
     "output_type": "stream",
     "text": [
      "../../../Data/microbiome_xai/agp_data/merged-data_fd_3/metadata.tsv\n"
     ]
    }
   ],
   "source": [
    "frames = []\n",
    "frames_asv = []\n",
    "\n",
    "filtasv_abund_thresh = 0.0001 # 0.0001\n",
    "for i in [3, 4, 5, 6, 7, 8, 11, 12, 13, 14, 15, 17, 18, 22, 23, 24, 25, 30, 33, 34, 35, 36, 37, 38, 39]:\n",
    "# for i in [30, 33, 34, 35, 36, 37, 38, 39]:\n",
    "    fn_taxon_silva_fd = DATA_LOC+\"agp_data/\"+\"merged-data_fd_%d/metadata.tsv\"%(i)\n",
    "    print(fn_taxon_silva_fd)\n",
    "\n",
    "    taxon_df = pd.read_csv(fn_taxon_silva_fd, sep='\\t',header=0,index_col=\"id\", skiprows=[1])\n",
    "    taxon_df.columns = [x.replace(\".R1\", \"\") for x in taxon_df.columns]\n",
    "    taxon_df, asv_df = mb_utils.get_silva_taxon_df(\n",
    "        taxon_df, filt=filt, filtasv_sample_thresh=filtasv_sample_thresh, filtasv_abund_thresh=filtasv_abund_thresh)\n",
    "    # frames_asv.append(asv_df)\n",
    "    \n",
    "    taxon_df_reset = taxon_df.reset_index().copy()\n",
    "    frames.append(taxon_df_reset)\n",
    "    \n",
    "# Now merge all the dataframes\n",
    "#taxon_df_merge = pd.merge(taxon_df_reset, taxon_df_4_reset, on=[\"id\",\"Taxon\", \"Confidence\", \"genus_species\", \"species\", \"genus\", \"family\"], how=\"outer\")\n",
    "# taxon_df_merge = pd.merge(taxon_df_reset, taxon_df_4_reset, on=[\"id\",\"Taxon\", \"Confidence\", \"genus_species\", \"species\", \"genus\", \"family\"], how=\"outer\")\n",
    "taxon_df_merge = reduce(lambda df1,df2: pd.merge(df1,df2,on=[\"id\",\"Taxon\", \"Confidence\", \"genus_species\", \"species\", \"genus\", \"family\"], how=\"outer\"), frames)\n",
    "\n",
    "taxon_df_merge_drop = taxon_df_merge.drop([\"genus_species\", \"species\", \"genus\", \"family\"],axis=1).copy()\n",
    "taxon_df_merge_drop.fillna(0,inplace=True)\n",
    "taxon_df_merge_drop.set_index(\"id\",inplace=True)\n",
    "print(taxon_df_merge_drop.shape)\n",
    "print(\"run filtering once again...\")\n",
    "taxon_df_merge, asv_df_merged = mb_utils.get_silva_taxon_df(\n",
    "    taxon_df_merge_drop, filt=filt, filtasv_sample_thresh=filtasv_sample_thresh, filtasv_abund_thresh=filtasv_abund_thresh)\n",
    "\n",
    "print(taxon_df_merge.shape)\n",
    "print(len(set(taxon_df_merge.columns)))\n",
    "print(len(taxon_df_merge.index.unique()))\n",
    "# print(len(taxon_df_merge[\"id\"].unique()))\n",
    "\n",
    "# asv_df_merged = pd.concat(frames_asv, axis=1)\n",
    "print(asv_df_merged.shape)\n",
    "print(len(set(asv_df_merged.columns)))\n",
    "print(len(asv_df_merged.index.unique()))\n",
    "\n",
    "taxon_df_merge.head()"
   ]
  },
  {
   "cell_type": "code",
   "execution_count": 3,
   "metadata": {},
   "outputs": [
    {
     "data": {
      "text/plain": [
       "(622, 7724)"
      ]
     },
     "execution_count": 3,
     "metadata": {},
     "output_type": "execute_result"
    }
   ],
   "source": [
    "taxon_df_merge.shape"
   ]
  },
  {
   "cell_type": "code",
   "execution_count": 7,
   "metadata": {},
   "outputs": [
    {
     "data": {
      "text/html": [
       "<div>\n",
       "<style scoped>\n",
       "    .dataframe tbody tr th:only-of-type {\n",
       "        vertical-align: middle;\n",
       "    }\n",
       "\n",
       "    .dataframe tbody tr th {\n",
       "        vertical-align: top;\n",
       "    }\n",
       "\n",
       "    .dataframe thead th {\n",
       "        text-align: right;\n",
       "    }\n",
       "</style>\n",
       "<table border=\"1\" class=\"dataframe\">\n",
       "  <thead>\n",
       "    <tr style=\"text-align: right;\">\n",
       "      <th></th>\n",
       "      <th>Confidence</th>\n",
       "      <th>10317.000007058</th>\n",
       "      <th>10317.000007068</th>\n",
       "      <th>10317.000007072</th>\n",
       "      <th>10317.000007073</th>\n",
       "      <th>10317.000007075</th>\n",
       "      <th>10317.000007083</th>\n",
       "      <th>10317.000007108</th>\n",
       "      <th>10317.000007127</th>\n",
       "      <th>10317.000007139</th>\n",
       "      <th>...</th>\n",
       "      <th>10317.000100430</th>\n",
       "      <th>10317.000100436</th>\n",
       "      <th>10317.000100441</th>\n",
       "      <th>10317.000100445</th>\n",
       "      <th>10317.000100492</th>\n",
       "      <th>10317.000100493</th>\n",
       "      <th>10317.000100535</th>\n",
       "      <th>10317.000101026</th>\n",
       "      <th>10317.000101034</th>\n",
       "      <th>10317.000101035</th>\n",
       "    </tr>\n",
       "  </thead>\n",
       "  <tbody>\n",
       "    <tr>\n",
       "      <th>0</th>\n",
       "      <td>0</td>\n",
       "      <td>2694</td>\n",
       "      <td>0</td>\n",
       "      <td>1123</td>\n",
       "      <td>183</td>\n",
       "      <td>28</td>\n",
       "      <td>30007</td>\n",
       "      <td>3983</td>\n",
       "      <td>20959</td>\n",
       "      <td>1148</td>\n",
       "      <td>...</td>\n",
       "      <td>773</td>\n",
       "      <td>510</td>\n",
       "      <td>690</td>\n",
       "      <td>1055</td>\n",
       "      <td>243</td>\n",
       "      <td>0</td>\n",
       "      <td>2093</td>\n",
       "      <td>923</td>\n",
       "      <td>730</td>\n",
       "      <td>1534</td>\n",
       "    </tr>\n",
       "    <tr>\n",
       "      <th>1</th>\n",
       "      <td>0</td>\n",
       "      <td>482</td>\n",
       "      <td>0</td>\n",
       "      <td>37</td>\n",
       "      <td>287</td>\n",
       "      <td>0</td>\n",
       "      <td>9943</td>\n",
       "      <td>902</td>\n",
       "      <td>4049</td>\n",
       "      <td>301</td>\n",
       "      <td>...</td>\n",
       "      <td>142</td>\n",
       "      <td>198</td>\n",
       "      <td>923</td>\n",
       "      <td>79</td>\n",
       "      <td>346</td>\n",
       "      <td>76</td>\n",
       "      <td>207</td>\n",
       "      <td>1270</td>\n",
       "      <td>880</td>\n",
       "      <td>388</td>\n",
       "    </tr>\n",
       "    <tr>\n",
       "      <th>2</th>\n",
       "      <td>0</td>\n",
       "      <td>0</td>\n",
       "      <td>0</td>\n",
       "      <td>1193</td>\n",
       "      <td>1180</td>\n",
       "      <td>47</td>\n",
       "      <td>6240</td>\n",
       "      <td>4159</td>\n",
       "      <td>583</td>\n",
       "      <td>520</td>\n",
       "      <td>...</td>\n",
       "      <td>186</td>\n",
       "      <td>85</td>\n",
       "      <td>0</td>\n",
       "      <td>197</td>\n",
       "      <td>30</td>\n",
       "      <td>222</td>\n",
       "      <td>157</td>\n",
       "      <td>322</td>\n",
       "      <td>418</td>\n",
       "      <td>453</td>\n",
       "    </tr>\n",
       "    <tr>\n",
       "      <th>3</th>\n",
       "      <td>0</td>\n",
       "      <td>0</td>\n",
       "      <td>0</td>\n",
       "      <td>0</td>\n",
       "      <td>0</td>\n",
       "      <td>0</td>\n",
       "      <td>9941</td>\n",
       "      <td>0</td>\n",
       "      <td>0</td>\n",
       "      <td>994</td>\n",
       "      <td>...</td>\n",
       "      <td>0</td>\n",
       "      <td>0</td>\n",
       "      <td>1304</td>\n",
       "      <td>48</td>\n",
       "      <td>0</td>\n",
       "      <td>272</td>\n",
       "      <td>0</td>\n",
       "      <td>348</td>\n",
       "      <td>0</td>\n",
       "      <td>125</td>\n",
       "    </tr>\n",
       "    <tr>\n",
       "      <th>4</th>\n",
       "      <td>0</td>\n",
       "      <td>277</td>\n",
       "      <td>0</td>\n",
       "      <td>106</td>\n",
       "      <td>0</td>\n",
       "      <td>0</td>\n",
       "      <td>7675</td>\n",
       "      <td>854</td>\n",
       "      <td>1171</td>\n",
       "      <td>313</td>\n",
       "      <td>...</td>\n",
       "      <td>233</td>\n",
       "      <td>37</td>\n",
       "      <td>65</td>\n",
       "      <td>34</td>\n",
       "      <td>414</td>\n",
       "      <td>57</td>\n",
       "      <td>75</td>\n",
       "      <td>385</td>\n",
       "      <td>778</td>\n",
       "      <td>178</td>\n",
       "    </tr>\n",
       "  </tbody>\n",
       "</table>\n",
       "<p>5 rows × 5124 columns</p>\n",
       "</div>"
      ],
      "text/plain": [
       "   Confidence  10317.000007058  10317.000007068  10317.000007072  \\\n",
       "0           0             2694                0             1123   \n",
       "1           0              482                0               37   \n",
       "2           0                0                0             1193   \n",
       "3           0                0                0                0   \n",
       "4           0              277                0              106   \n",
       "\n",
       "   10317.000007073  10317.000007075  10317.000007083  10317.000007108  \\\n",
       "0              183               28            30007             3983   \n",
       "1              287                0             9943              902   \n",
       "2             1180               47             6240             4159   \n",
       "3                0                0             9941                0   \n",
       "4                0                0             7675              854   \n",
       "\n",
       "   10317.000007127  10317.000007139  ...  10317.000100430  10317.000100436  \\\n",
       "0            20959             1148  ...              773              510   \n",
       "1             4049              301  ...              142              198   \n",
       "2              583              520  ...              186               85   \n",
       "3                0              994  ...                0                0   \n",
       "4             1171              313  ...              233               37   \n",
       "\n",
       "   10317.000100441  10317.000100445  10317.000100492  10317.000100493  \\\n",
       "0              690             1055              243                0   \n",
       "1              923               79              346               76   \n",
       "2                0              197               30              222   \n",
       "3             1304               48                0              272   \n",
       "4               65               34              414               57   \n",
       "\n",
       "   10317.000100535  10317.000101026  10317.000101034  10317.000101035  \n",
       "0             2093              923              730             1534  \n",
       "1              207             1270              880              388  \n",
       "2              157              322              418              453  \n",
       "3                0              348                0              125  \n",
       "4               75              385              778              178  \n",
       "\n",
       "[5 rows x 5124 columns]"
      ]
     },
     "execution_count": 7,
     "metadata": {},
     "output_type": "execute_result"
    }
   ],
   "source": [
    "asv_df_merged.head()"
   ]
  },
  {
   "cell_type": "code",
   "execution_count": 4,
   "metadata": {},
   "outputs": [
    {
     "name": "stdout",
     "output_type": "stream",
     "text": [
      "...generating species, genus-species, and genus counts dataframes...\n",
      "(89, 8807)\n",
      "(89, 8807)\n",
      "(321, 8807)\n",
      "(321, 8807)\n",
      "(133, 8807)\n",
      "(133, 8807)\n"
     ]
    }
   ],
   "source": [
    "if SAVE_OUTPUT==True:\n",
    "    taxon_df_merge.to_csv(TABLE_SAVE_LOC + \"SILVA_taxon_df_merge_fd.csv\")\n",
    "    asv_df_merged.to_csv(TABLE_SAVE_LOC + \"asv_df_merged_fd.csv\")\n",
    "\n",
    "print(\"...generating species, genus-species, and genus counts dataframes...\")\n",
    "genus_species_df = mb_utils.group_asvs(\n",
    "    taxon_df_merge, asv_df_merged, grp_id=\"species\", asv_count_threshold=asv_count_threshold)\n",
    "if SAVE_OUTPUT==True:\n",
    "    genus_species_df.to_csv(TABLE_SAVE_LOC + \"SILVA_species_counts_fd.csv\")\n",
    "    \n",
    "genus_species_df = mb_utils.group_asvs(\n",
    "    taxon_df_merge, asv_df_merged, grp_id=\"genus_species\", asv_count_threshold=asv_count_threshold)\n",
    "if SAVE_OUTPUT==True:\n",
    "    genus_species_df.to_csv(TABLE_SAVE_LOC + \"SILVA_genus-species_counts_fd.csv\")\n",
    "    \n",
    "genus_species_df = mb_utils.group_asvs(\n",
    "    taxon_df_merge, asv_df_merged, grp_id=\"genus\", asv_count_threshold=asv_count_threshold)\n",
    "if SAVE_OUTPUT==True:\n",
    "    genus_species_df.to_csv(TABLE_SAVE_LOC + \"SILVA_genus_counts_fd.csv\")"
   ]
  },
  {
   "cell_type": "code",
   "execution_count": 3,
   "metadata": {},
   "outputs": [
    {
     "name": "stdout",
     "output_type": "stream",
     "text": [
      "../../../Data/microbiome_xai/agp_data/merged-data_fd_4/metadata.tsv\n",
      "../../../Data/microbiome_xai/agp_data/merged-data_fd_5/metadata.tsv\n",
      "../../../Data/microbiome_xai/agp_data/merged-data_fd_6/metadata.tsv\n",
      "../../../Data/microbiome_xai/agp_data/merged-data_fd_7/metadata.tsv\n",
      "../../../Data/microbiome_xai/agp_data/merged-data_fd_8/metadata.tsv\n",
      "../../../Data/microbiome_xai/agp_data/merged-data_fd_30/metadata.tsv\n",
      "../../../Data/microbiome_xai/agp_data/merged-data_fd_33/metadata.tsv\n",
      "../../../Data/microbiome_xai/agp_data/merged-data_fd_34/metadata.tsv\n",
      "../../../Data/microbiome_xai/agp_data/merged-data_fd_35/metadata.tsv\n",
      "../../../Data/microbiome_xai/agp_data/merged-data_fd_36/metadata.tsv\n",
      "../../../Data/microbiome_xai/agp_data/merged-data_fd_37/metadata.tsv\n",
      "../../../Data/microbiome_xai/agp_data/merged-data_fd_38/metadata.tsv\n",
      "../../../Data/microbiome_xai/agp_data/merged-data_fd_39/metadata.tsv\n"
     ]
    }
   ],
   "source": [
    "# Second appproach, don't filter till AFTER joining dataframes\n",
    "frames = []\n",
    "for i in [4, 5, 6, 7, 8, 30, 33, 34, 35, 36, 37, 38, 39]:\n",
    "# for i in [38, 39]:\n",
    "    fn_taxon_silva_fd = DATA_LOC+\"agp_data/\"+\"merged-data_fd_%d/metadata.tsv\"%(i)\n",
    "    print(fn_taxon_silva_fd)\n",
    "\n",
    "    taxon_df = pd.read_csv(fn_taxon_silva_fd, sep='\\t',header=0,index_col=\"id\", skiprows=[1])\n",
    "    taxon_df.columns = [x.replace(\".R1\", \"\") for x in taxon_df.columns]\n",
    "    taxon_df_reset = taxon_df.reset_index().copy()\n",
    "    frames.append(taxon_df_reset)\n",
    "    \n",
    "# Now merge all the dataframes\n",
    "taxon_df_merge = reduce(lambda df1,df2: pd.merge(df1,df2,on=[\"id\",\"Taxon\", \"Confidence\"], how=\"outer\"), frames)\n",
    "taxon_df_merge.set_index(\"id\",inplace=True)\n",
    "\n",
    "taxon_df_merge, asv_df_merged = mb_utils.get_silva_taxon_df(\n",
    "        taxon_df_merge.fillna(0), filt=filt, filtasv_sample_thresh=filtasv_sample_thresh, filtasv_abund_thresh=filtasv_abund_thresh)\n",
    "\n",
    "print(taxon_df_merge.shape)\n",
    "print(len(set(taxon_df_merge.columns)))\n",
    "print(len(taxon_df_merge.index.unique()))\n",
    "\n",
    "print(asv_df_merged.shape)\n",
    "print(len(set(asv_df_merged.columns)))\n",
    "print(len(asv_df_merged.index.unique()))\n",
    "del frames\n",
    "taxon_df_merge.head()"
   ]
  },
  {
   "cell_type": "code",
   "execution_count": 8,
   "metadata": {},
   "outputs": [
    {
     "name": "stdout",
     "output_type": "stream",
     "text": [
      "(1417, 5123)\n",
      "5123\n",
      "1417\n"
     ]
    },
    {
     "data": {
      "text/html": [
       "<div>\n",
       "<style scoped>\n",
       "    .dataframe tbody tr th:only-of-type {\n",
       "        vertical-align: middle;\n",
       "    }\n",
       "\n",
       "    .dataframe tbody tr th {\n",
       "        vertical-align: top;\n",
       "    }\n",
       "\n",
       "    .dataframe thead th {\n",
       "        text-align: right;\n",
       "    }\n",
       "</style>\n",
       "<table border=\"1\" class=\"dataframe\">\n",
       "  <thead>\n",
       "    <tr style=\"text-align: right;\">\n",
       "      <th></th>\n",
       "      <th>id</th>\n",
       "      <th>Taxon</th>\n",
       "      <th>Confidence</th>\n",
       "      <th>10317.000007058</th>\n",
       "      <th>10317.000007068</th>\n",
       "      <th>10317.000007072</th>\n",
       "      <th>10317.000007073</th>\n",
       "      <th>10317.000007075</th>\n",
       "      <th>10317.000007083</th>\n",
       "      <th>10317.000007108</th>\n",
       "      <th>...</th>\n",
       "      <th>10317.000100430</th>\n",
       "      <th>10317.000100436</th>\n",
       "      <th>10317.000100441</th>\n",
       "      <th>10317.000100445</th>\n",
       "      <th>10317.000100492</th>\n",
       "      <th>10317.000100493</th>\n",
       "      <th>10317.000100535</th>\n",
       "      <th>10317.000101026</th>\n",
       "      <th>10317.000101034</th>\n",
       "      <th>10317.000101035</th>\n",
       "    </tr>\n",
       "  </thead>\n",
       "  <tbody>\n",
       "    <tr>\n",
       "      <th>0</th>\n",
       "      <td>ac5402de1ddf427ab8d2b0a8a0a44f19</td>\n",
       "      <td>d__Bacteria; p__Bacteroidota; c__Bacteroidia; ...</td>\n",
       "      <td>0.85988</td>\n",
       "      <td>2694.0</td>\n",
       "      <td>0.0</td>\n",
       "      <td>1123.0</td>\n",
       "      <td>183.0</td>\n",
       "      <td>28.0</td>\n",
       "      <td>30007.0</td>\n",
       "      <td>3983.0</td>\n",
       "      <td>...</td>\n",
       "      <td>773.0</td>\n",
       "      <td>510.0</td>\n",
       "      <td>690.0</td>\n",
       "      <td>1055.0</td>\n",
       "      <td>243.0</td>\n",
       "      <td>0.0</td>\n",
       "      <td>2093.0</td>\n",
       "      <td>923.0</td>\n",
       "      <td>730.0</td>\n",
       "      <td>1534.0</td>\n",
       "    </tr>\n",
       "    <tr>\n",
       "      <th>1</th>\n",
       "      <td>ea2b0e4a93c24c6c3661cbe347f93b74</td>\n",
       "      <td>d__Bacteria; p__Bacteroidota; c__Bacteroidia; ...</td>\n",
       "      <td>1.00000</td>\n",
       "      <td>482.0</td>\n",
       "      <td>0.0</td>\n",
       "      <td>37.0</td>\n",
       "      <td>287.0</td>\n",
       "      <td>0.0</td>\n",
       "      <td>9943.0</td>\n",
       "      <td>902.0</td>\n",
       "      <td>...</td>\n",
       "      <td>142.0</td>\n",
       "      <td>198.0</td>\n",
       "      <td>923.0</td>\n",
       "      <td>79.0</td>\n",
       "      <td>346.0</td>\n",
       "      <td>76.0</td>\n",
       "      <td>207.0</td>\n",
       "      <td>1270.0</td>\n",
       "      <td>880.0</td>\n",
       "      <td>388.0</td>\n",
       "    </tr>\n",
       "    <tr>\n",
       "      <th>2</th>\n",
       "      <td>79280cea51a6fe8a3432b2f266dd34db</td>\n",
       "      <td>d__Bacteria; p__Firmicutes; c__Clostridia; o__...</td>\n",
       "      <td>0.99915</td>\n",
       "      <td>0.0</td>\n",
       "      <td>0.0</td>\n",
       "      <td>1193.0</td>\n",
       "      <td>1180.0</td>\n",
       "      <td>47.0</td>\n",
       "      <td>6240.0</td>\n",
       "      <td>4159.0</td>\n",
       "      <td>...</td>\n",
       "      <td>186.0</td>\n",
       "      <td>85.0</td>\n",
       "      <td>0.0</td>\n",
       "      <td>197.0</td>\n",
       "      <td>30.0</td>\n",
       "      <td>222.0</td>\n",
       "      <td>157.0</td>\n",
       "      <td>322.0</td>\n",
       "      <td>418.0</td>\n",
       "      <td>453.0</td>\n",
       "    </tr>\n",
       "    <tr>\n",
       "      <th>3</th>\n",
       "      <td>c4f9ef34bd2919511069f409c25de6f1</td>\n",
       "      <td>d__Bacteria; p__Bacteroidota; c__Bacteroidia; ...</td>\n",
       "      <td>1.00000</td>\n",
       "      <td>0.0</td>\n",
       "      <td>0.0</td>\n",
       "      <td>0.0</td>\n",
       "      <td>0.0</td>\n",
       "      <td>0.0</td>\n",
       "      <td>9941.0</td>\n",
       "      <td>0.0</td>\n",
       "      <td>...</td>\n",
       "      <td>0.0</td>\n",
       "      <td>0.0</td>\n",
       "      <td>1304.0</td>\n",
       "      <td>48.0</td>\n",
       "      <td>0.0</td>\n",
       "      <td>272.0</td>\n",
       "      <td>0.0</td>\n",
       "      <td>348.0</td>\n",
       "      <td>0.0</td>\n",
       "      <td>125.0</td>\n",
       "    </tr>\n",
       "    <tr>\n",
       "      <th>4</th>\n",
       "      <td>c162a4f3943238810eba8a25f0563cca</td>\n",
       "      <td>d__Bacteria; p__Bacteroidota; c__Bacteroidia; ...</td>\n",
       "      <td>1.00000</td>\n",
       "      <td>277.0</td>\n",
       "      <td>0.0</td>\n",
       "      <td>106.0</td>\n",
       "      <td>0.0</td>\n",
       "      <td>0.0</td>\n",
       "      <td>7675.0</td>\n",
       "      <td>854.0</td>\n",
       "      <td>...</td>\n",
       "      <td>233.0</td>\n",
       "      <td>37.0</td>\n",
       "      <td>65.0</td>\n",
       "      <td>34.0</td>\n",
       "      <td>414.0</td>\n",
       "      <td>57.0</td>\n",
       "      <td>75.0</td>\n",
       "      <td>385.0</td>\n",
       "      <td>778.0</td>\n",
       "      <td>178.0</td>\n",
       "    </tr>\n",
       "  </tbody>\n",
       "</table>\n",
       "<p>5 rows × 5130 columns</p>\n",
       "</div>"
      ],
      "text/plain": [
       "                                 id  \\\n",
       "0  ac5402de1ddf427ab8d2b0a8a0a44f19   \n",
       "1  ea2b0e4a93c24c6c3661cbe347f93b74   \n",
       "2  79280cea51a6fe8a3432b2f266dd34db   \n",
       "3  c4f9ef34bd2919511069f409c25de6f1   \n",
       "4  c162a4f3943238810eba8a25f0563cca   \n",
       "\n",
       "                                               Taxon  Confidence  \\\n",
       "0  d__Bacteria; p__Bacteroidota; c__Bacteroidia; ...     0.85988   \n",
       "1  d__Bacteria; p__Bacteroidota; c__Bacteroidia; ...     1.00000   \n",
       "2  d__Bacteria; p__Firmicutes; c__Clostridia; o__...     0.99915   \n",
       "3  d__Bacteria; p__Bacteroidota; c__Bacteroidia; ...     1.00000   \n",
       "4  d__Bacteria; p__Bacteroidota; c__Bacteroidia; ...     1.00000   \n",
       "\n",
       "   10317.000007058  10317.000007068  10317.000007072  10317.000007073  \\\n",
       "0           2694.0              0.0           1123.0            183.0   \n",
       "1            482.0              0.0             37.0            287.0   \n",
       "2              0.0              0.0           1193.0           1180.0   \n",
       "3              0.0              0.0              0.0              0.0   \n",
       "4            277.0              0.0            106.0              0.0   \n",
       "\n",
       "   10317.000007075  10317.000007083  10317.000007108  ...  10317.000100430  \\\n",
       "0             28.0          30007.0           3983.0  ...            773.0   \n",
       "1              0.0           9943.0            902.0  ...            142.0   \n",
       "2             47.0           6240.0           4159.0  ...            186.0   \n",
       "3              0.0           9941.0              0.0  ...              0.0   \n",
       "4              0.0           7675.0            854.0  ...            233.0   \n",
       "\n",
       "   10317.000100436  10317.000100441  10317.000100445  10317.000100492  \\\n",
       "0            510.0            690.0           1055.0            243.0   \n",
       "1            198.0            923.0             79.0            346.0   \n",
       "2             85.0              0.0            197.0             30.0   \n",
       "3              0.0           1304.0             48.0              0.0   \n",
       "4             37.0             65.0             34.0            414.0   \n",
       "\n",
       "   10317.000100493  10317.000100535  10317.000101026  10317.000101034  \\\n",
       "0              0.0           2093.0            923.0            730.0   \n",
       "1             76.0            207.0           1270.0            880.0   \n",
       "2            222.0            157.0            322.0            418.0   \n",
       "3            272.0              0.0            348.0              0.0   \n",
       "4             57.0             75.0            385.0            778.0   \n",
       "\n",
       "   10317.000101035  \n",
       "0           1534.0  \n",
       "1            388.0  \n",
       "2            453.0  \n",
       "3            125.0  \n",
       "4            178.0  \n",
       "\n",
       "[5 rows x 5130 columns]"
      ]
     },
     "execution_count": 8,
     "metadata": {},
     "output_type": "execute_result"
    }
   ],
   "source": [
    "asv_df_merged = pd.concat(frames_asv, axis=1)\n",
    "print(asv_df_merged.shape)\n",
    "print(len(set(asv_df_merged.columns)))\n",
    "print(len(asv_df_merged.index.unique()))\n",
    "\n",
    "taxon_df_merge.head()"
   ]
  },
  {
   "cell_type": "markdown",
   "metadata": {},
   "source": [
    "Previous approach"
   ]
  },
  {
   "cell_type": "code",
   "execution_count": 3,
   "metadata": {},
   "outputs": [
    {
     "name": "stdout",
     "output_type": "stream",
     "text": [
      "FILTERED: # of asvs < sample count: 21609 , # of asvs < percent abundance: 23875\n"
     ]
    }
   ],
   "source": [
    "### Generate tables and figures for taxonomy\n",
    "\n",
    "taxon_asv_df = pd.read_csv(dir_taxon_asv+'taxonomy.tsv', sep='\\t') # , dtype=np.float64\n",
    "taxon_asv_df.head()\n",
    "# print(len(taxon_asv_df[\"Feature ID\"].unique()))\n",
    "# print(taxon_asv_df.shape)\n",
    "\n",
    "taxon_df = pd.read_csv(dir_taxon_silva+'metadata.tsv', sep='\\t',header=0,index_col=\"id\", skiprows=[1])\n",
    "taxon_df.columns = [x.replace(\".R1\", \"\") for x in taxon_df.columns]\n",
    "\n",
    "taxon_df, asv_df = mb_utils.get_silva_taxon_df(\n",
    "    taxon_df, filt=filt, filtasv_sample_thresh=filtasv_sample_thresh, filtasv_abund_thresh=filtasv_abund_thresh)"
   ]
  },
  {
   "cell_type": "code",
   "execution_count": 4,
   "metadata": {},
   "outputs": [
    {
     "data": {
      "text/plain": [
       "(715, 976)"
      ]
     },
     "execution_count": 4,
     "metadata": {},
     "output_type": "execute_result"
    }
   ],
   "source": [
    "taxon_df.shape"
   ]
  },
  {
   "cell_type": "code",
   "execution_count": 11,
   "metadata": {},
   "outputs": [
    {
     "name": "stdout",
     "output_type": "stream",
     "text": [
      "(110, 970)\n",
      "(110, 970)\n",
      "0.17572500298390425\n"
     ]
    },
    {
     "data": {
      "image/png": "[encoded data removed]",
      "text/plain": [
       "<Figure size 432x288 with 1 Axes>"
      ]
     },
     "metadata": {
      "needs_background": "light"
     },
     "output_type": "display_data"
    }
   ],
   "source": [
    "genus_species_df = mb_utils.group_asvs(\n",
    "    taxon_df, asv_df, grp_id=\"species\", asv_count_threshold=asv_count_threshold)\n",
    "# genus_species_df = group_asvs(taxon_df,asv_df, grp_id=\"species\", asv_count_threshold=1000)\n",
    "g = mb_utils.plot_asv_frac(genus_species_df, grp_id=\"Species\")\n",
    "if SAVE_OUTPUT==True:\n",
    "    genus_species_df.to_csv(TABLE_SAVE_LOC + \"SILVA_species_counts.csv\")"
   ]
  },
  {
   "cell_type": "code",
   "execution_count": 12,
   "metadata": {},
   "outputs": [
    {
     "name": "stdout",
     "output_type": "stream",
     "text": [
      "(369, 970)\n",
      "(369, 970)\n",
      "0.9507375296400385\n"
     ]
    },
    {
     "data": {
      "image/png": "[encoded data removed]",
      "text/plain": [
       "<Figure size 432x288 with 1 Axes>"
      ]
     },
     "metadata": {
      "needs_background": "light"
     },
     "output_type": "display_data"
    }
   ],
   "source": [
    "genus_species_df = mb_utils.group_asvs(\n",
    "    taxon_df, asv_df, grp_id=\"genus_species\", asv_count_threshold=asv_count_threshold)\n",
    "# genus_species_df = group_asvs(taxon_df,asv_df, grp_id=\"species\", asv_count_threshold=1000)\n",
    "g = mb_utils.plot_asv_frac(genus_species_df, grp_id=\"Genus_Species\")\n",
    "if SAVE_OUTPUT==True:\n",
    "    genus_species_df.to_csv(TABLE_SAVE_LOC + \"SILVA_genus-species_counts.csv\")"
   ]
  },
  {
   "cell_type": "code",
   "execution_count": 20,
   "metadata": {},
   "outputs": [
    {
     "name": "stdout",
     "output_type": "stream",
     "text": [
      "(167, 970)\n",
      "(167, 970)\n",
      "0.9417018576174304\n"
     ]
    },
    {
     "data": {
      "image/png": "[encoded data removed]",
      "text/plain": [
       "<Figure size 432x288 with 1 Axes>"
      ]
     },
     "metadata": {
      "needs_background": "light"
     },
     "output_type": "display_data"
    }
   ],
   "source": [
    "genus_species_df = mb_utils.group_asvs(taxon_df,asv_df, grp_id=\"genus\", asv_count_threshold=asv_count_threshold)\n",
    "g = mb_utils.plot_asv_frac(genus_species_df, grp_id=\"Genus\")\n",
    "if SAVE_OUTPUT==True:\n",
    "    genus_species_df.to_csv(TABLE_SAVE_LOC + \"SILVA_genus_counts.csv\")"
   ]
  },
  {
   "cell_type": "markdown",
   "metadata": {},
   "source": [
    "# Compare AGORA models with strains"
   ]
  },
  {
   "cell_type": "code",
   "execution_count": 2,
   "metadata": {},
   "outputs": [],
   "source": [
    "taxon_df = pd.read_csv(TABLE_SAVE_LOC + \"SILVA_taxon_df_merge_fd.csv\",index_col=0)\n",
    "taxon_df.fillna(\"\",inplace=True)\n",
    "asv_df = pd.read_csv(TABLE_SAVE_LOC + \"asv_df_merged_fd.csv\",index_col=0)"
   ]
  },
  {
   "cell_type": "code",
   "execution_count": 3,
   "metadata": {},
   "outputs": [
    {
     "data": {
      "text/plain": [
       "(639, 9586)"
      ]
     },
     "execution_count": 3,
     "metadata": {},
     "output_type": "execute_result"
    }
   ],
   "source": [
    "taxon_df.shape"
   ]
  },
  {
   "cell_type": "code",
   "execution_count": 4,
   "metadata": {},
   "outputs": [
    {
     "name": "stdout",
     "output_type": "stream",
     "text": [
      "Total number of unique genera in our data is 133\n"
     ]
    }
   ],
   "source": [
    "total_num_genus = len(list(set(taxon_df[\"genus\"].values)))\n",
    "print(\"Total number of unique genera in our data is %d\"%(total_num_genus))"
   ]
  },
  {
   "cell_type": "code",
   "execution_count": 5,
   "metadata": {},
   "outputs": [
    {
     "name": "stdout",
     "output_type": "stream",
     "text": [
      "414\n",
      "genus: in- 99 , not in- 34\n",
      "species: in- 51 , not in- 37\n"
     ]
    }
   ],
   "source": [
    "genus_strain_dict, species_strain_dict, genus_species_dict = mb_utils.get_agora_strain_dicts(dir_agora2)\n",
    "taxon_df, agora_notin = mb_utils.get_agora_taxon_df(taxon_df, genus_strain_dict, species_strain_dict)"
   ]
  },
  {
   "cell_type": "code",
   "execution_count": 6,
   "metadata": {},
   "outputs": [
    {
     "name": "stdout",
     "output_type": "stream",
     "text": [
      "(100, 9580)\n",
      "(100, 9580)\n",
      "0.8284570994318335\n"
     ]
    },
    {
     "data": {
      "image/png": "[encoded data removed]",
      "text/plain": [
       "<Figure size 432x288 with 1 Axes>"
      ]
     },
     "metadata": {
      "needs_background": "light"
     },
     "output_type": "display_data"
    }
   ],
   "source": [
    "genus_species_df = mb_utils.group_asvs(taxon_df, asv_df, grp_id=\"agora\", asv_count_threshold=0)\n",
    "g = mb_utils.plot_asv_frac(genus_species_df, grp_id=\"AGORA2 genus-level\")\n",
    "if SAVE_OUTPUT==True:\n",
    "    genus_species_df.to_csv(TABLE_SAVE_LOC + \"AGORA_SILVA_genus_counts_fd.csv\")"
   ]
  },
  {
   "cell_type": "markdown",
   "metadata": {},
   "source": [
    "## How about the top 25 AGORA genus?"
   ]
  },
  {
   "cell_type": "code",
   "execution_count": 25,
   "metadata": {},
   "outputs": [],
   "source": [
    "DIR_MERGED = \"/mnt/d/Microbiome_project/reconstructions/merged_recons/\"\n",
    "number_of_genus = 70"
   ]
  },
  {
   "cell_type": "code",
   "execution_count": 26,
   "metadata": {},
   "outputs": [
    {
     "name": "stdout",
     "output_type": "stream",
     "text": [
      "(133, 9580)\n",
      "(133, 9580)\n",
      "# of models to build into community: 50\n",
      "50 70\n"
     ]
    }
   ],
   "source": [
    "genus_ASV = mb_utils.group_asvs(taxon_df,asv_df, grp_id=\"genus\", asv_count_threshold=asv_count_threshold)\n",
    "\n",
    "common_genus = genus_ASV.loc[genus_ASV.index.notnull()].sum(axis=1).sort_values(\n",
    "    ascending=False\n",
    ")[:number_of_genus].index.tolist()\n",
    "\n",
    "models_2_join, topX_genus = [],[]\n",
    "for mod in os.listdir(DIR_MERGED):\n",
    "    mod_name = mod.split(\".json\")[0]\n",
    "    if mod_name in genus_species_dict.keys() and mod_name in common_genus:\n",
    "        models_2_join.append(mod)\n",
    "        topX_genus.append(mod_name)\n",
    "print(\"# of models to build into community:\",len(models_2_join))\n",
    "print(len(topX_genus),len(common_genus))"
   ]
  },
  {
   "cell_type": "code",
   "execution_count": 9,
   "metadata": {},
   "outputs": [
    {
     "data": {
      "text/plain": [
       "['',\n",
       " 'muribaculaceae',\n",
       " 'nk4a214',\n",
       " 'prevotellaceae',\n",
       " 'clostridia',\n",
       " 'agathobacter',\n",
       " 'uba1819',\n",
       " 'cag-352',\n",
       " 'monoglobus',\n",
       " 'cag-56',\n",
       " 'holdemanella',\n",
       " 'ucg-005',\n",
       " 'incertae',\n",
       " 'ucg-003',\n",
       " 'fenollaria',\n",
       " 'escherichia-shigella',\n",
       " 'colidextribacter',\n",
       " 'rf39',\n",
       " 'hafnia-obesumbacterium',\n",
       " 'ucg-002']"
      ]
     },
     "execution_count": 9,
     "metadata": {},
     "output_type": "execute_result"
    }
   ],
   "source": [
    "list(set(common_genus)-set(topX_genus))"
   ]
  },
  {
   "cell_type": "code",
   "execution_count": 27,
   "metadata": {},
   "outputs": [
    {
     "name": "stdout",
     "output_type": "stream",
     "text": [
      "(51, 9580)\n",
      "(51, 9580)\n",
      "0.7994936207673118\n"
     ]
    },
    {
     "data": {
      "image/png": "[encoded data removed]",
      "text/plain": [
       "<Figure size 432x288 with 1 Axes>"
      ]
     },
     "metadata": {
      "needs_background": "light"
     },
     "output_type": "display_data"
    }
   ],
   "source": [
    "taxon_df[\"agora_top50\"]=taxon_df[\"agora\"].map(lambda x: x if x in topX_genus else \"\")\n",
    "genus_species_df = mb_utils.group_asvs(taxon_df, asv_df, grp_id=\"agora_top50\", asv_count_threshold=0)\n",
    "g = mb_utils.plot_asv_frac(genus_species_df, grp_id=\"AGORA2 top 50 Genera\")"
   ]
  },
  {
   "cell_type": "code",
   "execution_count": 14,
   "metadata": {},
   "outputs": [],
   "source": [
    "taxon_agora_top_df = taxon_df.copy()\n",
    "genus_ASV = mb_utils.group_asvs(taxon_df,asv_df, grp_id=\"genus\", asv_count_threshold=asv_count_threshold, verbose=False)\n",
    "\n",
    "x_list = list(range(2, 100))\n",
    "x_list_model_overlap = []\n",
    "y_list = []\n",
    "for number_of_genus in x_list:\n",
    "\n",
    "    common_genus = genus_ASV.loc[genus_ASV.index.notnull()].sum(axis=1).sort_values(\n",
    "        ascending=False)[:number_of_genus].index.tolist()\n",
    "    models_2_join, topX_genus = [],[]\n",
    "    for mod in os.listdir(DIR_MERGED):\n",
    "        mod_name = mod.split(\".json\")[0]\n",
    "        if mod_name in genus_species_dict.keys() and mod_name in common_genus:\n",
    "            topX_genus.append(mod_name)\n",
    "\n",
    "    x_list_model_overlap.append(len(topX_genus))\n",
    "    taxon_agora_top_df[\"agora_topX\"]=taxon_agora_top_df[\"agora\"].map(lambda x: x if x in topX_genus else \"\")\n",
    "\n",
    "    g_s_df= mb_utils.group_asvs(taxon_agora_top_df, asv_df, grp_id=\"agora_topX\", asv_count_threshold=0,verbose=False)\n",
    "    g_s_frac = 1 - g_s_df.iloc[0,]/g_s_df.sum()\n",
    "    y_list.append(np.mean(g_s_frac))"
   ]
  },
  {
   "cell_type": "code",
   "execution_count": 16,
   "metadata": {},
   "outputs": [
    {
     "data": {
      "image/png": "[encoded data removed]",
      "text/plain": [
       "<Figure size 360x288 with 1 Axes>"
      ]
     },
     "metadata": {
      "needs_background": "light"
     },
     "output_type": "display_data"
    }
   ],
   "source": [
    "f, ax1 = plt.subplots(1, 1, figsize=(5, 4))\n",
    "# ax1.plot(x_list, y_list)\n",
    "ax1.plot(x_list_model_overlap, y_list)\n",
    "ax1.set_title(\"Community size vs fraction of total ASVs captured\")\n",
    "ax1.set_xlabel(\"# of AGORA2 models (genus-level)\")\n",
    "ax1.set_ylabel(\"Avg % of ASVs per sample\")\n",
    "ax1.axvline(x=50, c=\"red\")\n",
    "f.tight_layout()\n",
    "f.savefig(FIG_SAVE_LOC+\"topN-AGORA2_vs_ASVs_fd.png\")\n",
    "f.savefig(FIG_SAVE_LOC+\"topN-AGORA2_vs_ASVs_fd.svg\", format=\"svg\")\n",
    "f.savefig(FIG_SAVE_LOC+\"topN-AGORA2_vs_ASVs_fd.eps\", format=\"eps\")"
   ]
  },
  {
   "cell_type": "markdown",
   "metadata": {},
   "source": [
    "# Compare current 50 genera model with the new set of top 50 genus"
   ]
  },
  {
   "cell_type": "code",
   "execution_count": 29,
   "metadata": {},
   "outputs": [],
   "source": [
    "import mb_xai.gut_data as gd"
   ]
  },
  {
   "cell_type": "code",
   "execution_count": 30,
   "metadata": {},
   "outputs": [
    {
     "name": "stdout",
     "output_type": "stream",
     "text": [
      "Fixed EX_tDHNACOA(e)\n",
      "... normalizing raw ASV abundances to fractions, dropping samples with 0 total abundances\n",
      "# of genus in model and not filterd out of QA/QC: 50, # of genus not in model:0\n"
     ]
    }
   ],
   "source": [
    "DATA_LOC = '../../../Data/microbiome_xai/'\n",
    "gut_data = gd.GutData()\n",
    "gut_data.load_data(\n",
    "    # FILE_COMM_MODEL='../data/reconstructions/community_5_TOP-vegan.pickle',\n",
    "    FILE_COMM_MODEL= DATA_LOC + 'reconstructions/community_50_TOP.pickle',\n",
    "    # FILE_GENUS_ASVS = \"../data/agp_data/taxon_genus_asvs.csv\",\n",
    "    FILE_GENUS_ASVS = DATA_LOC + 'agp_data/taxon_genus_asvs.csv',\n",
    "    # FILE_METADATA = DATA_LOC + \"agp_data/mcdonald_agp_metadata.txt\",\n",
    "    FILE_METADATA = DATA_LOC + \"agp_data/metadata_biosample_filtered.csv\",\n",
    "    DIR_SIM_DATA = DATA_LOC + \"micom-sim-data/\"  # \"../data/micom-sim-data/\",\n",
    ")\n",
    "gut_data.norm_abundances(filter_model=True, add_delta=True) ## Filters genus to those in model, adds small value to abundaces\n",
    "gut_data.X_df = gut_data.asv_df.T.copy()\n",
    "gut_data.sample_list = gut_data.X_df.index.to_list()\n",
    "# gut_data.set_vegan_df(sample_num=40)\n",
    "# ## Set vegan df changes X_df and y_df and will therefore change medium_df. Be sure to run medium df after setting samples\n",
    "# medium_df = pd.DataFrame(1000, columns=gut_data.com_model.medium.keys(), index = gut_data.X_df.index)\n",
    "# gut_data.sample_medium_dict = medium_df.T.to_dict()\n",
    "# gut_data.return_fluxes = True\n",
    "# gut_data.pfba_bool = True # otherwise optimum values will not be fluxes but intead min(sum flux)"
   ]
  },
  {
   "cell_type": "code",
   "execution_count": 31,
   "metadata": {},
   "outputs": [
    {
     "data": {
      "text/html": [
       "\n",
       "        <table>\n",
       "            <tr>\n",
       "                <td><strong>Name</strong></td>\n",
       "                <td>None</td>\n",
       "            </tr><tr>\n",
       "                <td><strong>Memory address</strong></td>\n",
       "                <td>0x07fa3066d8700</td>\n",
       "            </tr><tr>\n",
       "                <td><strong>Number of metabolites</strong></td>\n",
       "                <td>94710</td>\n",
       "            </tr><tr>\n",
       "                <td><strong>Number of reactions</strong></td>\n",
       "                <td>115248</td>\n",
       "            </tr><tr>\n",
       "                <td><strong>Number of groups</strong></td>\n",
       "                <td>0</td>\n",
       "            </tr><tr>\n",
       "                <td><strong>Objective expression</strong></td>\n",
       "                <td>1.0*community_objective</td>\n",
       "            </tr><tr>\n",
       "                <td><strong>Compartments</strong></td>\n",
       "                <td>c__prevotella, e__prevotella, p__prevotella, m, c__roseburia, e__roseburia, c__bacteroides, e__bacteroides, p__bacteroides, c__lachnospira, e__lachnospira, c__bifidobacterium, e__bifidobacterium, c__blautia, e__blautia, c__streptococcus, e__streptococcus, c__lactobacillus, e__lactobacillus, c__cutibacterium, e__cutibacterium, c__rothia, e__rothia, c__pseudomonas, e__pseudomonas, p__pseudomonas, c__alistipes, e__alistipes, p__alistipes, e__clostridium, c__clostridium, c__actinomyces, e__actinomyces, c__christensenellaceae, e__christensenellaceae, c__brevundimonas, e__brevundimonas, p__brevundimonas, c__phascolarctobacterium, e__phascolarctobacterium, p__phascolarctobacterium, c__corynebacterium, e__corynebacterium, c__gemella, e__gemella, c__lachnoclostridium, e__lachnoclostridium, c__veillonella, e__veillonella, p__veillonella, c__haemophilus, e__haemophilus, p__haemophilus, c__enterococcus, e__enterococcus, c__stenotrophomonas, e__stenotrophomonas, p__stenotrophomonas, c__parasutterella, e__parasutterella, p__parasutterella, c__coprococcus, e__coprococcus, c__faecalibacterium, e__faecalibacterium, c__morganella, e__morganella, p__morganella, c__subdoligranulum, e__subdoligranulum, c__romboutsia, e__romboutsia, c__dialister, e__dialister, p__dialister, c__eubacterium, e__eubacterium, c__parabacteroides, e__parabacteroides, p__parabacteroides, c__staphylococcus, e__staphylococcus, c__dorea, e__dorea, c__comamonas, e__comamonas, p__comamonas, c__erysipelotrichaceae, e__erysipelotrichaceae, c__lachnospiraceae, e__lachnospiraceae, c__bilophila, e__bilophila, p__bilophila, c__barnesiella, e__barnesiella, p__barnesiella, e__ruminococcus, c__ruminococcus, c__butyricicoccus, e__butyricicoccus, c__acinetobacter, e__acinetobacter, p__acinetobacter, c__akkermansia, e__akkermansia, p__akkermansia, c__porphyromonas, e__porphyromonas, p__porphyromonas, c__neisseria, e__neisseria, p__neisseria, c__anaerostipes, e__anaerostipes, c__paraprevotella, e__paraprevotella, p__paraprevotella, c__fusicatenibacter, e__fusicatenibacter, c__serratia, e__serratia, p__serratia</td>\n",
       "            </tr>\n",
       "          </table>"
      ],
      "text/plain": [
       "<Community None at 0x7fa3066d8700>"
      ]
     },
     "execution_count": 31,
     "metadata": {},
     "output_type": "execute_result"
    }
   ],
   "source": [
    "gut_data.com_model"
   ]
  },
  {
   "cell_type": "code",
   "execution_count": 35,
   "metadata": {},
   "outputs": [
    {
     "data": {
      "text/plain": [
       "40"
      ]
     },
     "execution_count": 35,
     "metadata": {},
     "output_type": "execute_result"
    }
   ],
   "source": [
    "len(list(set(topX_genus).intersection(set(list(gut_data.com_model.taxonomy.index)))))"
   ]
  },
  {
   "cell_type": "code",
   "execution_count": 24,
   "metadata": {},
   "outputs": [
    {
     "data": {
      "text/plain": [
       "Index(['prevotella', 'roseburia', 'bacteroides', 'lachnospira',\n",
       "       'bifidobacterium', 'blautia', 'streptococcus', 'lactobacillus',\n",
       "       'cutibacterium', 'rothia', 'pseudomonas', 'alistipes', 'clostridium',\n",
       "       'actinomyces', 'christensenellaceae', 'brevundimonas',\n",
       "       'phascolarctobacterium', 'corynebacterium', 'gemella',\n",
       "       'lachnoclostridium', 'veillonella', 'haemophilus', 'enterococcus',\n",
       "       'stenotrophomonas', 'parasutterella', 'coprococcus', 'faecalibacterium',\n",
       "       'morganella', 'subdoligranulum', 'romboutsia', 'dialister',\n",
       "       'eubacterium', 'parabacteroides', 'staphylococcus', 'dorea',\n",
       "       'comamonas', 'erysipelotrichaceae', 'lachnospiraceae', 'bilophila',\n",
       "       'barnesiella', 'ruminococcus', 'butyricicoccus', 'acinetobacter',\n",
       "       'akkermansia', 'porphyromonas', 'neisseria', 'anaerostipes',\n",
       "       'paraprevotella', 'fusicatenibacter', 'serratia'],\n",
       "      dtype='object', name='id')"
      ]
     },
     "execution_count": 24,
     "metadata": {},
     "output_type": "execute_result"
    }
   ],
   "source": [
    "gut_data.com_model.taxonomy.index"
   ]
  },
  {
   "cell_type": "markdown",
   "metadata": {},
   "source": [
    "# Final plots"
   ]
  },
  {
   "cell_type": "code",
   "execution_count": 20,
   "metadata": {},
   "outputs": [],
   "source": [
    "taxon_df = pd.read_csv(TABLE_SAVE_LOC + \"SILVA_taxon_df_merge_fd.csv\",index_col=0)\n",
    "taxon_df.fillna(\"\",inplace=True)\n",
    "asv_df = pd.read_csv(TABLE_SAVE_LOC + \"asv_df_merged_fd.csv\",index_col=0)"
   ]
  },
  {
   "cell_type": "code",
   "execution_count": 29,
   "metadata": {},
   "outputs": [],
   "source": [
    "def plot_asv_frac(g_s_df, ax=None, grp_id=\"Genus\"):\n",
    "    \"\"\"\n",
    "    Plot histogram of total ASVs per sample classified as specific tax grp\n",
    "    \"\"\"\n",
    "    g_s_frac = 1 - g_s_df.iloc[0,]/g_s_df.sum()\n",
    "    print(np.mean(g_s_frac))\n",
    "    if ax==None:\n",
    "        g = g_s_frac.plot(kind=\"hist\")\n",
    "    else:\n",
    "        g = g_s_frac.plot(kind=\"hist\", ax=ax)\n",
    "    g.set_title(\"Avg %s classification percent = %.2f\"%(grp_id,np.mean(g_s_frac)))\n",
    "    g.set_xlabel(\"Fraction of ASVs classified into %s\"%(grp_id))\n",
    "    g.set_ylabel(\"Samples\")\n",
    "    return g"
   ]
  },
  {
   "cell_type": "code",
   "execution_count": 10,
   "metadata": {},
   "outputs": [
    {
     "name": "stdout",
     "output_type": "stream",
     "text": [
      "(196, 5123)\n",
      "(196, 5123)\n",
      "0.9997236548365124\n"
     ]
    },
    {
     "ename": "KeyError",
     "evalue": "'agora'",
     "output_type": "error",
     "traceback": [
      "\u001b[0;31m---------------------------------------------------------------------------\u001b[0m",
      "\u001b[0;31mKeyError\u001b[0m                                  Traceback (most recent call last)",
      "\u001b[0;32m<ipython-input-10-2f57802ace0d>\u001b[0m in \u001b[0;36m<module>\u001b[0;34m\u001b[0m\n\u001b[1;32m      6\u001b[0m \u001b[0max1\u001b[0m\u001b[0;34m.\u001b[0m\u001b[0mset_ylabel\u001b[0m\u001b[0;34m(\u001b[0m\u001b[0;34m\"American gut samples\"\u001b[0m\u001b[0;34m)\u001b[0m\u001b[0;34m\u001b[0m\u001b[0;34m\u001b[0m\u001b[0m\n\u001b[1;32m      7\u001b[0m \u001b[0;34m\u001b[0m\u001b[0m\n\u001b[0;32m----> 8\u001b[0;31m \u001b[0mgenus_species_df\u001b[0m \u001b[0;34m=\u001b[0m \u001b[0mmb_utils\u001b[0m\u001b[0;34m.\u001b[0m\u001b[0mgroup_asvs\u001b[0m\u001b[0;34m(\u001b[0m\u001b[0mtaxon_df\u001b[0m\u001b[0;34m,\u001b[0m \u001b[0masv_df\u001b[0m\u001b[0;34m,\u001b[0m \u001b[0mgrp_id\u001b[0m\u001b[0;34m=\u001b[0m\u001b[0;34m\"agora\"\u001b[0m\u001b[0;34m,\u001b[0m \u001b[0masv_count_threshold\u001b[0m\u001b[0;34m=\u001b[0m\u001b[0;36m0\u001b[0m\u001b[0;34m)\u001b[0m\u001b[0;34m\u001b[0m\u001b[0;34m\u001b[0m\u001b[0m\n\u001b[0m\u001b[1;32m      9\u001b[0m \u001b[0max2\u001b[0m \u001b[0;34m=\u001b[0m \u001b[0mmb_utils\u001b[0m\u001b[0;34m.\u001b[0m\u001b[0mplot_asv_frac\u001b[0m\u001b[0;34m(\u001b[0m\u001b[0mgenus_species_df\u001b[0m\u001b[0;34m,\u001b[0m \u001b[0max\u001b[0m\u001b[0;34m=\u001b[0m\u001b[0max2\u001b[0m\u001b[0;34m,\u001b[0m \u001b[0mgrp_id\u001b[0m\u001b[0;34m=\u001b[0m\u001b[0;34m\"AGORA2 genus-level\"\u001b[0m\u001b[0;34m)\u001b[0m\u001b[0;34m\u001b[0m\u001b[0;34m\u001b[0m\u001b[0m\n\u001b[1;32m     10\u001b[0m \u001b[0max2\u001b[0m\u001b[0;34m.\u001b[0m\u001b[0mset_xlabel\u001b[0m\u001b[0;34m(\u001b[0m\u001b[0;34m\"Fraction of total ASVs captured by AGORA2 models\"\u001b[0m\u001b[0;34m)\u001b[0m\u001b[0;34m\u001b[0m\u001b[0;34m\u001b[0m\u001b[0m\n",
      "\u001b[0;32m/mnt/c/Users/eskav/Dropbox/Projects/microbiome_xai/mb_xai/mb_utils.py\u001b[0m in \u001b[0;36mgroup_asvs\u001b[0;34m(tax_df, asv_df, grp_id, asv_count_threshold, verbose)\u001b[0m\n\u001b[1;32m     86\u001b[0m     \"\"\"\n\u001b[1;32m     87\u001b[0m     \u001b[0mg_s_df\u001b[0m \u001b[0;34m=\u001b[0m \u001b[0mpd\u001b[0m\u001b[0;34m.\u001b[0m\u001b[0mDataFrame\u001b[0m\u001b[0;34m(\u001b[0m\u001b[0;34m)\u001b[0m\u001b[0;34m\u001b[0m\u001b[0;34m\u001b[0m\u001b[0m\n\u001b[0;32m---> 88\u001b[0;31m     \u001b[0;32mfor\u001b[0m \u001b[0mg_s_index\u001b[0m\u001b[0;34m,\u001b[0m \u001b[0mg_s_grp\u001b[0m \u001b[0;32min\u001b[0m \u001b[0mtax_df\u001b[0m\u001b[0;34m[\u001b[0m\u001b[0;34m:\u001b[0m\u001b[0;34m]\u001b[0m\u001b[0;34m.\u001b[0m\u001b[0mgroupby\u001b[0m\u001b[0;34m(\u001b[0m\u001b[0mgrp_id\u001b[0m\u001b[0;34m)\u001b[0m\u001b[0;34m:\u001b[0m\u001b[0;34m\u001b[0m\u001b[0;34m\u001b[0m\u001b[0m\n\u001b[0m\u001b[1;32m     89\u001b[0m         \u001b[0;31m# print(g_s_index, len(g_s_grp.index))\u001b[0m\u001b[0;34m\u001b[0m\u001b[0;34m\u001b[0m\u001b[0;34m\u001b[0m\u001b[0m\n\u001b[1;32m     90\u001b[0m         \u001b[0mg_s_series\u001b[0m \u001b[0;34m=\u001b[0m \u001b[0masv_df\u001b[0m\u001b[0;34m.\u001b[0m\u001b[0mloc\u001b[0m\u001b[0;34m[\u001b[0m\u001b[0mg_s_grp\u001b[0m\u001b[0;34m.\u001b[0m\u001b[0mindex\u001b[0m\u001b[0;34m]\u001b[0m\u001b[0;34m.\u001b[0m\u001b[0msum\u001b[0m\u001b[0;34m(\u001b[0m\u001b[0;34m)\u001b[0m\u001b[0;34m.\u001b[0m\u001b[0mcopy\u001b[0m\u001b[0;34m(\u001b[0m\u001b[0;34m)\u001b[0m\u001b[0;34m\u001b[0m\u001b[0;34m\u001b[0m\u001b[0m\n",
      "\u001b[0;32m~/anaconda3/lib/python3.8/site-packages/pandas/core/frame.py\u001b[0m in \u001b[0;36mgroupby\u001b[0;34m(self, by, axis, level, as_index, sort, group_keys, squeeze, observed, dropna)\u001b[0m\n\u001b[1;32m   7629\u001b[0m         \u001b[0;31m# error: Argument \"squeeze\" to \"DataFrameGroupBy\" has incompatible type\u001b[0m\u001b[0;34m\u001b[0m\u001b[0;34m\u001b[0m\u001b[0;34m\u001b[0m\u001b[0m\n\u001b[1;32m   7630\u001b[0m         \u001b[0;31m# \"Union[bool, NoDefault]\"; expected \"bool\"\u001b[0m\u001b[0;34m\u001b[0m\u001b[0;34m\u001b[0m\u001b[0;34m\u001b[0m\u001b[0m\n\u001b[0;32m-> 7631\u001b[0;31m         return DataFrameGroupBy(\n\u001b[0m\u001b[1;32m   7632\u001b[0m             \u001b[0mobj\u001b[0m\u001b[0;34m=\u001b[0m\u001b[0mself\u001b[0m\u001b[0;34m,\u001b[0m\u001b[0;34m\u001b[0m\u001b[0;34m\u001b[0m\u001b[0m\n\u001b[1;32m   7633\u001b[0m             \u001b[0mkeys\u001b[0m\u001b[0;34m=\u001b[0m\u001b[0mby\u001b[0m\u001b[0;34m,\u001b[0m\u001b[0;34m\u001b[0m\u001b[0;34m\u001b[0m\u001b[0m\n",
      "\u001b[0;32m~/anaconda3/lib/python3.8/site-packages/pandas/core/groupby/groupby.py\u001b[0m in \u001b[0;36m__init__\u001b[0;34m(self, obj, keys, axis, level, grouper, exclusions, selection, as_index, sort, group_keys, squeeze, observed, mutated, dropna)\u001b[0m\n\u001b[1;32m    887\u001b[0m             \u001b[0;32mfrom\u001b[0m \u001b[0mpandas\u001b[0m\u001b[0;34m.\u001b[0m\u001b[0mcore\u001b[0m\u001b[0;34m.\u001b[0m\u001b[0mgroupby\u001b[0m\u001b[0;34m.\u001b[0m\u001b[0mgrouper\u001b[0m \u001b[0;32mimport\u001b[0m \u001b[0mget_grouper\u001b[0m\u001b[0;34m\u001b[0m\u001b[0;34m\u001b[0m\u001b[0m\n\u001b[1;32m    888\u001b[0m \u001b[0;34m\u001b[0m\u001b[0m\n\u001b[0;32m--> 889\u001b[0;31m             grouper, exclusions, obj = get_grouper(\n\u001b[0m\u001b[1;32m    890\u001b[0m                 \u001b[0mobj\u001b[0m\u001b[0;34m,\u001b[0m\u001b[0;34m\u001b[0m\u001b[0;34m\u001b[0m\u001b[0m\n\u001b[1;32m    891\u001b[0m                 \u001b[0mkeys\u001b[0m\u001b[0;34m,\u001b[0m\u001b[0;34m\u001b[0m\u001b[0;34m\u001b[0m\u001b[0m\n",
      "\u001b[0;32m~/anaconda3/lib/python3.8/site-packages/pandas/core/groupby/grouper.py\u001b[0m in \u001b[0;36mget_grouper\u001b[0;34m(obj, key, axis, level, sort, observed, mutated, validate, dropna)\u001b[0m\n\u001b[1;32m    860\u001b[0m                 \u001b[0min_axis\u001b[0m\u001b[0;34m,\u001b[0m \u001b[0mlevel\u001b[0m\u001b[0;34m,\u001b[0m \u001b[0mgpr\u001b[0m \u001b[0;34m=\u001b[0m \u001b[0;32mFalse\u001b[0m\u001b[0;34m,\u001b[0m \u001b[0mgpr\u001b[0m\u001b[0;34m,\u001b[0m \u001b[0;32mNone\u001b[0m\u001b[0;34m\u001b[0m\u001b[0;34m\u001b[0m\u001b[0m\n\u001b[1;32m    861\u001b[0m             \u001b[0;32melse\u001b[0m\u001b[0;34m:\u001b[0m\u001b[0;34m\u001b[0m\u001b[0;34m\u001b[0m\u001b[0m\n\u001b[0;32m--> 862\u001b[0;31m                 \u001b[0;32mraise\u001b[0m \u001b[0mKeyError\u001b[0m\u001b[0;34m(\u001b[0m\u001b[0mgpr\u001b[0m\u001b[0;34m)\u001b[0m\u001b[0;34m\u001b[0m\u001b[0;34m\u001b[0m\u001b[0m\n\u001b[0m\u001b[1;32m    863\u001b[0m         \u001b[0;32melif\u001b[0m \u001b[0misinstance\u001b[0m\u001b[0;34m(\u001b[0m\u001b[0mgpr\u001b[0m\u001b[0;34m,\u001b[0m \u001b[0mGrouper\u001b[0m\u001b[0;34m)\u001b[0m \u001b[0;32mand\u001b[0m \u001b[0mgpr\u001b[0m\u001b[0;34m.\u001b[0m\u001b[0mkey\u001b[0m \u001b[0;32mis\u001b[0m \u001b[0;32mnot\u001b[0m \u001b[0;32mNone\u001b[0m\u001b[0;34m:\u001b[0m\u001b[0;34m\u001b[0m\u001b[0;34m\u001b[0m\u001b[0m\n\u001b[1;32m    864\u001b[0m             \u001b[0;31m# Add key to exclusions\u001b[0m\u001b[0;34m\u001b[0m\u001b[0;34m\u001b[0m\u001b[0;34m\u001b[0m\u001b[0m\n",
      "\u001b[0;31mKeyError\u001b[0m: 'agora'"
     ]
    },
    {
     "data": {
      "image/png": "[encoded data removed]",
      "text/plain": [
       "<Figure size 720x288 with 2 Axes>"
      ]
     },
     "metadata": {
      "needs_background": "light"
     },
     "output_type": "display_data"
    }
   ],
   "source": [
    "f, (ax1, ax2) = plt.subplots(1, 2, figsize=(10, 4))\n",
    "\n",
    "genus_species_df = mb_utils.group_asvs(taxon_df,asv_df, grp_id=\"genus\", asv_count_threshold=asv_count_threshold)\n",
    "ax1 = mb_utils.plot_asv_frac(genus_species_df, ax=ax1, grp_id=\"Genus\")\n",
    "ax1.set_xlabel(\"Fraction of total ASVs classified into genera\")\n",
    "ax1.set_ylabel(\"American gut samples\")\n",
    "\n",
    "genus_species_df = mb_utils.group_asvs(taxon_df, asv_df, grp_id=\"agora\", asv_count_threshold=0)\n",
    "ax2 = mb_utils.plot_asv_frac(genus_species_df, ax=ax2, grp_id=\"AGORA2 genus-level\")\n",
    "ax2.set_xlabel(\"Fraction of total ASVs captured by AGORA2 models\")\n",
    "ax2.set_ylabel(\"American gut samples\")\n",
    "\n",
    "f.tight_layout()\n",
    "# f.savefig(FIG_SAVE_LOC+\"percent_ASVs_captured_fd.png\")\n",
    "# f.savefig(FIG_SAVE_LOC+\"percent_ASVs_captured_fd.svg\")\n",
    "f.savefig(FIG_SAVE_LOC+\"percent_ASVs_captured_fd.png\")\n",
    "f.savefig(FIG_SAVE_LOC+\"percent_ASVs_captured_fd.svg\")\n",
    "f.savefig(FIG_SAVE_LOC+\"percent_ASVs_captured_fd.eps\", format=\"eps\")\n",
    "TABLE_SAVE_LOC\n"
   ]
  },
  {
   "cell_type": "code",
   "execution_count": 17,
   "metadata": {},
   "outputs": [],
   "source": [
    "def plot_asv_frac(g_s_df, ax=None, grp_id=\"Genus\", alpha=0.8):\n",
    "    \"\"\"\n",
    "    Plot histogram of total ASVs per sample classified as specific tax grp\n",
    "    alpha=.8, edgecolor = 'black',\n",
    "    \"\"\"\n",
    "    g_s_frac = 1 - g_s_df.iloc[0,]/g_s_df.sum()\n",
    "    print(np.mean(g_s_frac))\n",
    "    if ax==None:\n",
    "        g = g_s_frac.plot(kind=\"hist\", alpha=0.5)\n",
    "    else:\n",
    "        g = g_s_frac.plot(\n",
    "            kind=\"hist\", ax=ax, alpha=0.5, edgecolor = 'black', bins=10,\n",
    "            label=\"Avg %s classification = %.1f%%\"%(grp_id,np.mean(g_s_frac)*100)\n",
    "            # label=\"Avg %s classification = %.2f%%\"%(grp_id,np.mean(g_s_frac))\n",
    "        )\n",
    "    # g.set_title(\"Avg %s classification percent = %.2f\"%(grp_id,np.mean(g_s_frac)))\n",
    "    g.set_xlabel(\"Fraction of ASVs described by %s\"%(grp_id))\n",
    "    g.set_ylabel(\"American Gut Project samples\")\n",
    "    return g\n",
    "\n",
    "# handles = [Rectangle((0,0),1,1,color=c,ec=\"k\") for c in [low,medium, high]]\n",
    "# labels= [\"low\",\"medium\", \"high\"]\n",
    "# plt.legend(handles, labels)"
   ]
  },
  {
   "cell_type": "code",
   "execution_count": 18,
   "metadata": {},
   "outputs": [
    {
     "name": "stdout",
     "output_type": "stream",
     "text": [
      "(88, 9580)\n",
      "(88, 9580)\n",
      "0.20188271540434646\n",
      "(133, 9580)\n",
      "(133, 9580)\n",
      "0.9525146969373569\n",
      "414\n",
      "genus: in- 99 , not in- 34\n",
      "species: in- 51 , not in- 37\n",
      "(100, 9580)\n",
      "(100, 9580)\n",
      "0.8284570994318335\n"
     ]
    },
    {
     "name": "stderr",
     "output_type": "stream",
     "text": [
      "The PostScript backend does not support transparency; partially transparent artists will be rendered opaque.\n",
      "The PostScript backend does not support transparency; partially transparent artists will be rendered opaque.\n",
      "The PostScript backend does not support transparency; partially transparent artists will be rendered opaque.\n",
      "The PostScript backend does not support transparency; partially transparent artists will be rendered opaque.\n",
      "The PostScript backend does not support transparency; partially transparent artists will be rendered opaque.\n",
      "The PostScript backend does not support transparency; partially transparent artists will be rendered opaque.\n",
      "The PostScript backend does not support transparency; partially transparent artists will be rendered opaque.\n",
      "The PostScript backend does not support transparency; partially transparent artists will be rendered opaque.\n",
      "The PostScript backend does not support transparency; partially transparent artists will be rendered opaque.\n",
      "The PostScript backend does not support transparency; partially transparent artists will be rendered opaque.\n",
      "The PostScript backend does not support transparency; partially transparent artists will be rendered opaque.\n",
      "The PostScript backend does not support transparency; partially transparent artists will be rendered opaque.\n",
      "The PostScript backend does not support transparency; partially transparent artists will be rendered opaque.\n",
      "The PostScript backend does not support transparency; partially transparent artists will be rendered opaque.\n",
      "The PostScript backend does not support transparency; partially transparent artists will be rendered opaque.\n",
      "The PostScript backend does not support transparency; partially transparent artists will be rendered opaque.\n",
      "The PostScript backend does not support transparency; partially transparent artists will be rendered opaque.\n",
      "The PostScript backend does not support transparency; partially transparent artists will be rendered opaque.\n",
      "The PostScript backend does not support transparency; partially transparent artists will be rendered opaque.\n",
      "The PostScript backend does not support transparency; partially transparent artists will be rendered opaque.\n",
      "The PostScript backend does not support transparency; partially transparent artists will be rendered opaque.\n",
      "The PostScript backend does not support transparency; partially transparent artists will be rendered opaque.\n",
      "The PostScript backend does not support transparency; partially transparent artists will be rendered opaque.\n",
      "The PostScript backend does not support transparency; partially transparent artists will be rendered opaque.\n",
      "The PostScript backend does not support transparency; partially transparent artists will be rendered opaque.\n",
      "The PostScript backend does not support transparency; partially transparent artists will be rendered opaque.\n",
      "The PostScript backend does not support transparency; partially transparent artists will be rendered opaque.\n",
      "The PostScript backend does not support transparency; partially transparent artists will be rendered opaque.\n",
      "The PostScript backend does not support transparency; partially transparent artists will be rendered opaque.\n",
      "The PostScript backend does not support transparency; partially transparent artists will be rendered opaque.\n",
      "The PostScript backend does not support transparency; partially transparent artists will be rendered opaque.\n",
      "The PostScript backend does not support transparency; partially transparent artists will be rendered opaque.\n",
      "The PostScript backend does not support transparency; partially transparent artists will be rendered opaque.\n",
      "The PostScript backend does not support transparency; partially transparent artists will be rendered opaque.\n",
      "The PostScript backend does not support transparency; partially transparent artists will be rendered opaque.\n",
      "The PostScript backend does not support transparency; partially transparent artists will be rendered opaque.\n",
      "The PostScript backend does not support transparency; partially transparent artists will be rendered opaque.\n",
      "The PostScript backend does not support transparency; partially transparent artists will be rendered opaque.\n",
      "The PostScript backend does not support transparency; partially transparent artists will be rendered opaque.\n",
      "The PostScript backend does not support transparency; partially transparent artists will be rendered opaque.\n",
      "The PostScript backend does not support transparency; partially transparent artists will be rendered opaque.\n",
      "The PostScript backend does not support transparency; partially transparent artists will be rendered opaque.\n",
      "The PostScript backend does not support transparency; partially transparent artists will be rendered opaque.\n",
      "The PostScript backend does not support transparency; partially transparent artists will be rendered opaque.\n",
      "The PostScript backend does not support transparency; partially transparent artists will be rendered opaque.\n",
      "The PostScript backend does not support transparency; partially transparent artists will be rendered opaque.\n",
      "The PostScript backend does not support transparency; partially transparent artists will be rendered opaque.\n",
      "The PostScript backend does not support transparency; partially transparent artists will be rendered opaque.\n",
      "The PostScript backend does not support transparency; partially transparent artists will be rendered opaque.\n",
      "The PostScript backend does not support transparency; partially transparent artists will be rendered opaque.\n",
      "The PostScript backend does not support transparency; partially transparent artists will be rendered opaque.\n",
      "The PostScript backend does not support transparency; partially transparent artists will be rendered opaque.\n",
      "The PostScript backend does not support transparency; partially transparent artists will be rendered opaque.\n",
      "The PostScript backend does not support transparency; partially transparent artists will be rendered opaque.\n",
      "The PostScript backend does not support transparency; partially transparent artists will be rendered opaque.\n",
      "The PostScript backend does not support transparency; partially transparent artists will be rendered opaque.\n",
      "The PostScript backend does not support transparency; partially transparent artists will be rendered opaque.\n",
      "The PostScript backend does not support transparency; partially transparent artists will be rendered opaque.\n",
      "The PostScript backend does not support transparency; partially transparent artists will be rendered opaque.\n",
      "The PostScript backend does not support transparency; partially transparent artists will be rendered opaque.\n",
      "The PostScript backend does not support transparency; partially transparent artists will be rendered opaque.\n",
      "The PostScript backend does not support transparency; partially transparent artists will be rendered opaque.\n",
      "The PostScript backend does not support transparency; partially transparent artists will be rendered opaque.\n",
      "The PostScript backend does not support transparency; partially transparent artists will be rendered opaque.\n",
      "The PostScript backend does not support transparency; partially transparent artists will be rendered opaque.\n",
      "The PostScript backend does not support transparency; partially transparent artists will be rendered opaque.\n",
      "The PostScript backend does not support transparency; partially transparent artists will be rendered opaque.\n",
      "The PostScript backend does not support transparency; partially transparent artists will be rendered opaque.\n"
     ]
    },
    {
     "data": {
      "image/png": "[encoded data removed]",
      "text/plain": [
       "<Figure size 360x288 with 1 Axes>"
      ]
     },
     "metadata": {
      "needs_background": "light"
     },
     "output_type": "display_data"
    }
   ],
   "source": [
    "f, ax1 = plt.subplots(1, 1, figsize=(5, 4))\n",
    "\n",
    "genus_species_df = mb_utils.group_asvs(taxon_df, asv_df, grp_id=\"species\", asv_count_threshold=asv_count_threshold)\n",
    "ax1 = plot_asv_frac(genus_species_df, ax=ax1, grp_id=\"Species\")\n",
    "\n",
    "genus_species_df = mb_utils.group_asvs(taxon_df,asv_df, grp_id=\"genus\", asv_count_threshold=asv_count_threshold)\n",
    "ax1 = plot_asv_frac(genus_species_df, ax=ax1, grp_id=\"Genus\")\n",
    "\n",
    "genus_strain_dict, species_strain_dict, genus_species_dict = mb_utils.get_agora_strain_dicts(dir_agora2)\n",
    "taxon_df, agora_notin = mb_utils.get_agora_taxon_df(taxon_df, genus_strain_dict, species_strain_dict)\n",
    "genus_species_df = mb_utils.group_asvs(taxon_df, asv_df, grp_id=\"agora\", asv_count_threshold=0)\n",
    "ax1 = plot_asv_frac(genus_species_df, ax=ax1, grp_id=\"AGORA2 genus-level\")\n",
    "\n",
    "ax1.set_xlabel(\"Fraction of total ASVs captured\")\n",
    "ax1.set_ylabel(\"# of AGP samples\")\n",
    "ax1.set_title(\"Representation of ASVs\")\n",
    "ax1.legend()\n",
    "\n",
    "f.tight_layout()\n",
    "# f.savefig(FIG_SAVE_LOC+\"percent_ASVs_captured.png\")\n",
    "# f.savefig(FIG_SAVE_LOC+\"percent_ASVs_captured.svg\")\n",
    "\n",
    "f.savefig(FIG_SAVE_LOC+\"percent_ASVs_captured_fd.png\")\n",
    "f.savefig(FIG_SAVE_LOC+\"percent_ASVs_captured_fd.svg\")\n",
    "f.savefig(FIG_SAVE_LOC+\"percent_ASVs_captured_fd.eps\", format=\"eps\")"
   ]
  },
  {
   "cell_type": "code",
   "execution_count": 22,
   "metadata": {},
   "outputs": [
    {
     "data": {
      "text/html": [
       "<div>\n",
       "<style scoped>\n",
       "    .dataframe tbody tr th:only-of-type {\n",
       "        vertical-align: middle;\n",
       "    }\n",
       "\n",
       "    .dataframe tbody tr th {\n",
       "        vertical-align: top;\n",
       "    }\n",
       "\n",
       "    .dataframe thead th {\n",
       "        text-align: right;\n",
       "    }\n",
       "</style>\n",
       "<table border=\"1\" class=\"dataframe\">\n",
       "  <thead>\n",
       "    <tr style=\"text-align: right;\">\n",
       "      <th></th>\n",
       "      <th>10317.000007058</th>\n",
       "      <th>10317.000007068</th>\n",
       "      <th>10317.000007072</th>\n",
       "      <th>10317.000007073</th>\n",
       "      <th>10317.000007075</th>\n",
       "      <th>10317.000007083</th>\n",
       "      <th>10317.000007108</th>\n",
       "      <th>10317.000007127</th>\n",
       "      <th>10317.000007139</th>\n",
       "      <th>10317.000007151</th>\n",
       "      <th>...</th>\n",
       "      <th>10317.000100430</th>\n",
       "      <th>10317.000100436</th>\n",
       "      <th>10317.000100441</th>\n",
       "      <th>10317.000100445</th>\n",
       "      <th>10317.000100492</th>\n",
       "      <th>10317.000100493</th>\n",
       "      <th>10317.000100535</th>\n",
       "      <th>10317.000101026</th>\n",
       "      <th>10317.000101034</th>\n",
       "      <th>10317.000101035</th>\n",
       "    </tr>\n",
       "  </thead>\n",
       "  <tbody>\n",
       "    <tr>\n",
       "      <th></th>\n",
       "      <td>600.0</td>\n",
       "      <td>0.0</td>\n",
       "      <td>1652.0</td>\n",
       "      <td>3097.0</td>\n",
       "      <td>3252.0</td>\n",
       "      <td>43740.0</td>\n",
       "      <td>25877.0</td>\n",
       "      <td>13046.0</td>\n",
       "      <td>4712.0</td>\n",
       "      <td>3168.0</td>\n",
       "      <td>...</td>\n",
       "      <td>710.0</td>\n",
       "      <td>673.0</td>\n",
       "      <td>1833.0</td>\n",
       "      <td>3469.0</td>\n",
       "      <td>361.0</td>\n",
       "      <td>609.0</td>\n",
       "      <td>668.0</td>\n",
       "      <td>1278.0</td>\n",
       "      <td>6644.0</td>\n",
       "      <td>902.0</td>\n",
       "    </tr>\n",
       "    <tr>\n",
       "      <th>acidaminococcus</th>\n",
       "      <td>0.0</td>\n",
       "      <td>0.0</td>\n",
       "      <td>0.0</td>\n",
       "      <td>0.0</td>\n",
       "      <td>0.0</td>\n",
       "      <td>0.0</td>\n",
       "      <td>0.0</td>\n",
       "      <td>0.0</td>\n",
       "      <td>0.0</td>\n",
       "      <td>0.0</td>\n",
       "      <td>...</td>\n",
       "      <td>0.0</td>\n",
       "      <td>0.0</td>\n",
       "      <td>0.0</td>\n",
       "      <td>0.0</td>\n",
       "      <td>0.0</td>\n",
       "      <td>0.0</td>\n",
       "      <td>0.0</td>\n",
       "      <td>0.0</td>\n",
       "      <td>0.0</td>\n",
       "      <td>0.0</td>\n",
       "    </tr>\n",
       "    <tr>\n",
       "      <th>acinetobacter</th>\n",
       "      <td>0.0</td>\n",
       "      <td>0.0</td>\n",
       "      <td>3.0</td>\n",
       "      <td>0.0</td>\n",
       "      <td>0.0</td>\n",
       "      <td>0.0</td>\n",
       "      <td>0.0</td>\n",
       "      <td>0.0</td>\n",
       "      <td>34.0</td>\n",
       "      <td>0.0</td>\n",
       "      <td>...</td>\n",
       "      <td>0.0</td>\n",
       "      <td>0.0</td>\n",
       "      <td>0.0</td>\n",
       "      <td>0.0</td>\n",
       "      <td>0.0</td>\n",
       "      <td>0.0</td>\n",
       "      <td>0.0</td>\n",
       "      <td>0.0</td>\n",
       "      <td>0.0</td>\n",
       "      <td>0.0</td>\n",
       "    </tr>\n",
       "    <tr>\n",
       "      <th>aeromonas</th>\n",
       "      <td>0.0</td>\n",
       "      <td>0.0</td>\n",
       "      <td>0.0</td>\n",
       "      <td>0.0</td>\n",
       "      <td>0.0</td>\n",
       "      <td>0.0</td>\n",
       "      <td>0.0</td>\n",
       "      <td>0.0</td>\n",
       "      <td>0.0</td>\n",
       "      <td>0.0</td>\n",
       "      <td>...</td>\n",
       "      <td>0.0</td>\n",
       "      <td>0.0</td>\n",
       "      <td>0.0</td>\n",
       "      <td>0.0</td>\n",
       "      <td>0.0</td>\n",
       "      <td>0.0</td>\n",
       "      <td>0.0</td>\n",
       "      <td>0.0</td>\n",
       "      <td>0.0</td>\n",
       "      <td>0.0</td>\n",
       "    </tr>\n",
       "    <tr>\n",
       "      <th>akkermansia</th>\n",
       "      <td>10.0</td>\n",
       "      <td>0.0</td>\n",
       "      <td>560.0</td>\n",
       "      <td>0.0</td>\n",
       "      <td>202.0</td>\n",
       "      <td>4477.0</td>\n",
       "      <td>10.0</td>\n",
       "      <td>0.0</td>\n",
       "      <td>152.0</td>\n",
       "      <td>20.0</td>\n",
       "      <td>...</td>\n",
       "      <td>3352.0</td>\n",
       "      <td>0.0</td>\n",
       "      <td>0.0</td>\n",
       "      <td>688.0</td>\n",
       "      <td>129.0</td>\n",
       "      <td>46.0</td>\n",
       "      <td>31.0</td>\n",
       "      <td>0.0</td>\n",
       "      <td>0.0</td>\n",
       "      <td>7.0</td>\n",
       "    </tr>\n",
       "    <tr>\n",
       "      <th>...</th>\n",
       "      <td>...</td>\n",
       "      <td>...</td>\n",
       "      <td>...</td>\n",
       "      <td>...</td>\n",
       "      <td>...</td>\n",
       "      <td>...</td>\n",
       "      <td>...</td>\n",
       "      <td>...</td>\n",
       "      <td>...</td>\n",
       "      <td>...</td>\n",
       "      <td>...</td>\n",
       "      <td>...</td>\n",
       "      <td>...</td>\n",
       "      <td>...</td>\n",
       "      <td>...</td>\n",
       "      <td>...</td>\n",
       "      <td>...</td>\n",
       "      <td>...</td>\n",
       "      <td>...</td>\n",
       "      <td>...</td>\n",
       "      <td>...</td>\n",
       "    </tr>\n",
       "    <tr>\n",
       "      <th>terrisporobacter</th>\n",
       "      <td>0.0</td>\n",
       "      <td>0.0</td>\n",
       "      <td>0.0</td>\n",
       "      <td>429.0</td>\n",
       "      <td>35.0</td>\n",
       "      <td>21.0</td>\n",
       "      <td>0.0</td>\n",
       "      <td>0.0</td>\n",
       "      <td>0.0</td>\n",
       "      <td>0.0</td>\n",
       "      <td>...</td>\n",
       "      <td>5.0</td>\n",
       "      <td>0.0</td>\n",
       "      <td>0.0</td>\n",
       "      <td>0.0</td>\n",
       "      <td>0.0</td>\n",
       "      <td>0.0</td>\n",
       "      <td>0.0</td>\n",
       "      <td>0.0</td>\n",
       "      <td>99.0</td>\n",
       "      <td>0.0</td>\n",
       "    </tr>\n",
       "    <tr>\n",
       "      <th>turicibacter</th>\n",
       "      <td>0.0</td>\n",
       "      <td>0.0</td>\n",
       "      <td>0.0</td>\n",
       "      <td>1109.0</td>\n",
       "      <td>44.0</td>\n",
       "      <td>34.0</td>\n",
       "      <td>0.0</td>\n",
       "      <td>0.0</td>\n",
       "      <td>0.0</td>\n",
       "      <td>0.0</td>\n",
       "      <td>...</td>\n",
       "      <td>0.0</td>\n",
       "      <td>0.0</td>\n",
       "      <td>0.0</td>\n",
       "      <td>0.0</td>\n",
       "      <td>0.0</td>\n",
       "      <td>0.0</td>\n",
       "      <td>0.0</td>\n",
       "      <td>0.0</td>\n",
       "      <td>8.0</td>\n",
       "      <td>0.0</td>\n",
       "    </tr>\n",
       "    <tr>\n",
       "      <th>tyzzerella</th>\n",
       "      <td>0.0</td>\n",
       "      <td>0.0</td>\n",
       "      <td>17.0</td>\n",
       "      <td>124.0</td>\n",
       "      <td>0.0</td>\n",
       "      <td>111.0</td>\n",
       "      <td>0.0</td>\n",
       "      <td>0.0</td>\n",
       "      <td>0.0</td>\n",
       "      <td>32.0</td>\n",
       "      <td>...</td>\n",
       "      <td>0.0</td>\n",
       "      <td>0.0</td>\n",
       "      <td>0.0</td>\n",
       "      <td>0.0</td>\n",
       "      <td>0.0</td>\n",
       "      <td>0.0</td>\n",
       "      <td>11.0</td>\n",
       "      <td>0.0</td>\n",
       "      <td>0.0</td>\n",
       "      <td>0.0</td>\n",
       "    </tr>\n",
       "    <tr>\n",
       "      <th>veillonella</th>\n",
       "      <td>0.0</td>\n",
       "      <td>0.0</td>\n",
       "      <td>7.0</td>\n",
       "      <td>0.0</td>\n",
       "      <td>0.0</td>\n",
       "      <td>53.0</td>\n",
       "      <td>67.0</td>\n",
       "      <td>80.0</td>\n",
       "      <td>6.0</td>\n",
       "      <td>0.0</td>\n",
       "      <td>...</td>\n",
       "      <td>0.0</td>\n",
       "      <td>0.0</td>\n",
       "      <td>0.0</td>\n",
       "      <td>0.0</td>\n",
       "      <td>0.0</td>\n",
       "      <td>0.0</td>\n",
       "      <td>0.0</td>\n",
       "      <td>8.0</td>\n",
       "      <td>9.0</td>\n",
       "      <td>5.0</td>\n",
       "    </tr>\n",
       "    <tr>\n",
       "      <th>weissella</th>\n",
       "      <td>0.0</td>\n",
       "      <td>0.0</td>\n",
       "      <td>0.0</td>\n",
       "      <td>0.0</td>\n",
       "      <td>0.0</td>\n",
       "      <td>0.0</td>\n",
       "      <td>0.0</td>\n",
       "      <td>0.0</td>\n",
       "      <td>0.0</td>\n",
       "      <td>0.0</td>\n",
       "      <td>...</td>\n",
       "      <td>0.0</td>\n",
       "      <td>0.0</td>\n",
       "      <td>0.0</td>\n",
       "      <td>0.0</td>\n",
       "      <td>0.0</td>\n",
       "      <td>0.0</td>\n",
       "      <td>0.0</td>\n",
       "      <td>0.0</td>\n",
       "      <td>0.0</td>\n",
       "      <td>0.0</td>\n",
       "    </tr>\n",
       "  </tbody>\n",
       "</table>\n",
       "<p>95 rows × 5123 columns</p>\n",
       "</div>"
      ],
      "text/plain": [
       "                  10317.000007058  10317.000007068  10317.000007072  \\\n",
       "                            600.0              0.0           1652.0   \n",
       "acidaminococcus               0.0              0.0              0.0   \n",
       "acinetobacter                 0.0              0.0              3.0   \n",
       "aeromonas                     0.0              0.0              0.0   \n",
       "akkermansia                  10.0              0.0            560.0   \n",
       "...                           ...              ...              ...   \n",
       "terrisporobacter              0.0              0.0              0.0   \n",
       "turicibacter                  0.0              0.0              0.0   \n",
       "tyzzerella                    0.0              0.0             17.0   \n",
       "veillonella                   0.0              0.0              7.0   \n",
       "weissella                     0.0              0.0              0.0   \n",
       "\n",
       "                  10317.000007073  10317.000007075  10317.000007083  \\\n",
       "                           3097.0           3252.0          43740.0   \n",
       "acidaminococcus               0.0              0.0              0.0   \n",
       "acinetobacter                 0.0              0.0              0.0   \n",
       "aeromonas                     0.0              0.0              0.0   \n",
       "akkermansia                   0.0            202.0           4477.0   \n",
       "...                           ...              ...              ...   \n",
       "terrisporobacter            429.0             35.0             21.0   \n",
       "turicibacter               1109.0             44.0             34.0   \n",
       "tyzzerella                  124.0              0.0            111.0   \n",
       "veillonella                   0.0              0.0             53.0   \n",
       "weissella                     0.0              0.0              0.0   \n",
       "\n",
       "                  10317.000007108  10317.000007127  10317.000007139  \\\n",
       "                          25877.0          13046.0           4712.0   \n",
       "acidaminococcus               0.0              0.0              0.0   \n",
       "acinetobacter                 0.0              0.0             34.0   \n",
       "aeromonas                     0.0              0.0              0.0   \n",
       "akkermansia                  10.0              0.0            152.0   \n",
       "...                           ...              ...              ...   \n",
       "terrisporobacter              0.0              0.0              0.0   \n",
       "turicibacter                  0.0              0.0              0.0   \n",
       "tyzzerella                    0.0              0.0              0.0   \n",
       "veillonella                  67.0             80.0              6.0   \n",
       "weissella                     0.0              0.0              0.0   \n",
       "\n",
       "                  10317.000007151  ...  10317.000100430  10317.000100436  \\\n",
       "                           3168.0  ...            710.0            673.0   \n",
       "acidaminococcus               0.0  ...              0.0              0.0   \n",
       "acinetobacter                 0.0  ...              0.0              0.0   \n",
       "aeromonas                     0.0  ...              0.0              0.0   \n",
       "akkermansia                  20.0  ...           3352.0              0.0   \n",
       "...                           ...  ...              ...              ...   \n",
       "terrisporobacter              0.0  ...              5.0              0.0   \n",
       "turicibacter                  0.0  ...              0.0              0.0   \n",
       "tyzzerella                   32.0  ...              0.0              0.0   \n",
       "veillonella                   0.0  ...              0.0              0.0   \n",
       "weissella                     0.0  ...              0.0              0.0   \n",
       "\n",
       "                  10317.000100441  10317.000100445  10317.000100492  \\\n",
       "                           1833.0           3469.0            361.0   \n",
       "acidaminococcus               0.0              0.0              0.0   \n",
       "acinetobacter                 0.0              0.0              0.0   \n",
       "aeromonas                     0.0              0.0              0.0   \n",
       "akkermansia                   0.0            688.0            129.0   \n",
       "...                           ...              ...              ...   \n",
       "terrisporobacter              0.0              0.0              0.0   \n",
       "turicibacter                  0.0              0.0              0.0   \n",
       "tyzzerella                    0.0              0.0              0.0   \n",
       "veillonella                   0.0              0.0              0.0   \n",
       "weissella                     0.0              0.0              0.0   \n",
       "\n",
       "                  10317.000100493  10317.000100535  10317.000101026  \\\n",
       "                            609.0            668.0           1278.0   \n",
       "acidaminococcus               0.0              0.0              0.0   \n",
       "acinetobacter                 0.0              0.0              0.0   \n",
       "aeromonas                     0.0              0.0              0.0   \n",
       "akkermansia                  46.0             31.0              0.0   \n",
       "...                           ...              ...              ...   \n",
       "terrisporobacter              0.0              0.0              0.0   \n",
       "turicibacter                  0.0              0.0              0.0   \n",
       "tyzzerella                    0.0             11.0              0.0   \n",
       "veillonella                   0.0              0.0              8.0   \n",
       "weissella                     0.0              0.0              0.0   \n",
       "\n",
       "                  10317.000101034  10317.000101035  \n",
       "                           6644.0            902.0  \n",
       "acidaminococcus               0.0              0.0  \n",
       "acinetobacter                 0.0              0.0  \n",
       "aeromonas                     0.0              0.0  \n",
       "akkermansia                   0.0              7.0  \n",
       "...                           ...              ...  \n",
       "terrisporobacter             99.0              0.0  \n",
       "turicibacter                  8.0              0.0  \n",
       "tyzzerella                    0.0              0.0  \n",
       "veillonella                   9.0              5.0  \n",
       "weissella                     0.0              0.0  \n",
       "\n",
       "[95 rows x 5123 columns]"
      ]
     },
     "execution_count": 22,
     "metadata": {},
     "output_type": "execute_result"
    }
   ],
   "source": [
    "genus_species_df"
   ]
  },
  {
   "cell_type": "code",
   "execution_count": 21,
   "metadata": {},
   "outputs": [
    {
     "name": "stdout",
     "output_type": "stream",
     "text": [
      "(133, 9580)\n",
      "(133, 9580)\n"
     ]
    },
    {
     "data": {
      "text/plain": [
       "bacteroides            47862017.0\n",
       "faecalibacterium       14758626.0\n",
       "                        7766775.0\n",
       "prevotella              7536076.0\n",
       "eubacterium             6449274.0\n",
       "alistipes               5305937.0\n",
       "blautia                 5105800.0\n",
       "agathobacter            4944968.0\n",
       "pseudomonas             4640902.0\n",
       "akkermansia             4338184.0\n",
       "parabacteroides         4106898.0\n",
       "lachnospiraceae         3810013.0\n",
       "ruminococcus            3744445.0\n",
       "ucg-002                 3563520.0\n",
       "subdoligranulum         3547051.0\n",
       "christensenellaceae     2764029.0\n",
       "clostridia              2713502.0\n",
       "roseburia               2686593.0\n",
       "bifidobacterium         2177295.0\n",
       "dialister               1848230.0\n",
       "dtype: float64"
      ]
     },
     "execution_count": 21,
     "metadata": {},
     "output_type": "execute_result"
    }
   ],
   "source": [
    "genus_species_df = mb_utils.group_asvs(taxon_df,asv_df, grp_id=\"genus\", asv_count_threshold=asv_count_threshold)\n",
    "genus_species_df.sum(axis=1).sort_values(ascending=False)[:20]"
   ]
  },
  {
   "cell_type": "code",
   "execution_count": 22,
   "metadata": {},
   "outputs": [
    {
     "name": "stdout",
     "output_type": "stream",
     "text": [
      "414\n",
      "genus: in- 99 , not in- 34\n",
      "species: in- 51 , not in- 37\n",
      "(100, 9580)\n",
      "(100, 9580)\n"
     ]
    }
   ],
   "source": [
    "genus_strain_dict, species_strain_dict, genus_species_dict = mb_utils.get_agora_strain_dicts(dir_agora2)\n",
    "taxon_df, agora_notin = mb_utils.get_agora_taxon_df(taxon_df, genus_strain_dict, species_strain_dict)\n",
    "agora_genus_df = mb_utils.group_asvs(taxon_df, asv_df, grp_id=\"agora\", asv_count_threshold=0)"
   ]
  },
  {
   "cell_type": "code",
   "execution_count": 23,
   "metadata": {},
   "outputs": [
    {
     "data": {
      "text/plain": [
       "bacteroides            47862017.0\n",
       "                       29267432.0\n",
       "faecalibacterium       14758626.0\n",
       "prevotella              7536076.0\n",
       "eubacterium             6449274.0\n",
       "alistipes               5305937.0\n",
       "blautia                 5105800.0\n",
       "pseudomonas             4640902.0\n",
       "akkermansia             4338184.0\n",
       "parabacteroides         4106898.0\n",
       "lachnospiraceae         3810013.0\n",
       "ruminococcus            3744445.0\n",
       "subdoligranulum         3547051.0\n",
       "christensenellaceae     2764029.0\n",
       "roseburia               2686593.0\n",
       "bifidobacterium         2177295.0\n",
       "dialister               1848230.0\n",
       "anaerostipes            1528157.0\n",
       "coprococcus             1527090.0\n",
       "lachnospira             1510303.0\n",
       "dtype: float64"
      ]
     },
     "execution_count": 23,
     "metadata": {},
     "output_type": "execute_result"
    }
   ],
   "source": [
    "agora_genus_df.sum(axis=1).sort_values(ascending=False)[:20]"
   ]
  },
  {
   "cell_type": "code",
   "execution_count": 24,
   "metadata": {},
   "outputs": [
    {
     "data": {
      "text/plain": [
       "                                                      7766775.0\n",
       "agathobacter                                          4944968.0\n",
       "ucg-002                                               3563520.0\n",
       "clostridia                                            2713502.0\n",
       "escherichia-shigella                                  1337477.0\n",
       "ucg-005                                               1322376.0\n",
       "cag-352                                                800997.0\n",
       "nk4a214                                                788207.0\n",
       "rf39                                                   578028.0\n",
       "prevotellaceae                                         528581.0\n",
       "monoglobus                                             483719.0\n",
       "muribaculaceae                                         483615.0\n",
       "ucg-003                                                470711.0\n",
       "fenollaria                                             417614.0\n",
       "incertae                                               412718.0\n",
       "colidextribacter                                       355659.0\n",
       "uba1819                                                347795.0\n",
       "hafnia-obesumbacterium                                 344045.0\n",
       "holdemanella                                           297260.0\n",
       "cag-56                                                 247613.0\n",
       "negativibacillus                                       191761.0\n",
       "gastranaerophilales                                    171572.0\n",
       "hungatella                                             140591.0\n",
       "ucg-010                                                108654.0\n",
       "ezakiella                                               99023.0\n",
       "izemoplasmatales                                        86981.0\n",
       "gca-900066575                                           62792.0\n",
       "rummeliibacillus                                        49284.0\n",
       "faecalitalea                                            34695.0\n",
       "dtu089                                                  27055.0\n",
       "s5-a14a                                                 25174.0\n",
       "moryella                                                22435.0\n",
       "allorhizobium-neorhizobium-pararhizobium-rhizobium      21638.0\n",
       "murdochiella                                            20597.0\n",
       "dtype: float64"
      ]
     },
     "execution_count": 24,
     "metadata": {},
     "output_type": "execute_result"
    }
   ],
   "source": [
    "genus_species_df.sum(axis=1).loc[agora_notin].sort_values(ascending=False)"
   ]
  },
  {
   "cell_type": "code",
   "execution_count": 46,
   "metadata": {},
   "outputs": [
    {
     "data": {
      "text/plain": [
       "47063.0"
      ]
     },
     "execution_count": 46,
     "metadata": {},
     "output_type": "execute_result"
    }
   ],
   "source": [
    "genus_species_df.loc[\"clostridium\"].sum()"
   ]
  },
  {
   "cell_type": "code",
   "execution_count": 44,
   "metadata": {},
   "outputs": [
    {
     "data": {
      "text/plain": [
       "dict_keys(['abiotrophia', 'acaricomes', 'acaryochloris', 'acetanaerobacterium', 'acetatifactor', 'acetivibrio', 'acetobacterium', 'acetonema', 'achromobacter', 'acidaminobacter', 'acidaminococcus', 'acidobacterium', 'acidovorax', 'acinetobacter', 'actinobacillus', 'actinomyces', 'acutalibacter', 'adlercreutzia', 'advenella', 'aerococcus', 'aeromicrobium', 'aeromonas', 'afipia', 'aggregatibacter', 'agrobacterium', 'akkermansia', 'alcaligenes', 'aliivibrio', 'alistipes', 'alkalibaculum', 'alkaliphilus', 'allobaculum', 'alloiococcus', 'alloprevotella', 'alloscardovia', 'amazonia', 'aminivibrio', 'anaerobacillus', 'anaerobaculum', 'anaerobiospirillum', 'anaerococcus', 'anaerofustis', 'anaeroglobus', 'anaeroplasma', 'anaerosalibacter', 'anaerosporobacter', 'anaerostipes', 'anaerotignum', 'anaerotruncus', 'anaerovorax', 'aneurinibacillus', 'arcanobacterium', 'arcobacter', 'ardenticatena', 'arthrobacter', 'atopobium', 'auritidibacter', 'bacillus', 'bacteroidales', 'bacteroides', 'bacteroidetes', 'barnesiella', 'bartonella', 'bdellovibrio', 'bifidobacterium', 'bilophila', 'bittarella', 'blastococcus', 'blautia', 'bordetella', 'borkfalkia', 'bosea', 'brachybacterium', 'brachyspira', 'bradyrhizobium', 'brevibacillus', 'brevibacterium', 'brevundimonas', 'brochothrix', 'bulleidia', 'burkholderiales', 'burkholderia', 'butyricicoccus', 'butyricimonas', 'butyrivibrio', 'campylobacter', 'candidatus', 'capnocytophaga', 'cardiobacterium', 'carnobacterium', 'catabacter', 'catenibacterium', 'catonella', 'cedecea', 'cellulomonas', 'cellulosilyticum', 'cellulosimicrobium', 'centipeda', 'cetobacterium', 'chlorobium', 'christensenellaceae', 'christensenella', 'citrobacter', 'cloacibacillus', 'cloacibacterium', 'clostridiaceae', 'clostridiales', 'clostridioides', 'clostridium', 'cohnella', 'collinsella', 'comamonas', 'coprobacillus', 'coprobacter', 'coprococcus', 'corynebacterium', 'cronobacter', 'cryocola', 'cryptobacterium', 'cuneatibacter', 'cupriavidus', 'curtobacterium', 'curvibacter', 'cutibacterium', 'dakarella', 'dechlorosoma', 'dehalobacterium', 'delftia', 'dermabacter', 'dermacoccus', 'desmospora', 'desulfitobacterium', 'desulfomicrobium', 'desulfovibrio', 'dialister', 'dielma', 'dietzia', 'dolosigranulum', 'dorea', 'dyadobacter', 'dysgonomonas', 'edwardsiella', 'eggerthella', 'eggerthia', 'eikenella', 'eisenbergiella', 'elusimicrobium', 'enhydrobacter', 'enorma', 'enterobacteriaceae', 'enterobacter', 'enterococcus', 'enterorhabdus', 'eremococcus', 'erwinia', 'erysipelatoclostridium', 'erysipelothrix', 'erysipelotrichaceae', 'escherichia', 'ethanoligenens', 'eubacterium', 'ewingella', 'exiguobacterium', 'extibacter', 'facklamia', 'faecalibacterium', 'filifactor', 'finegoldia', 'flaviflexus', 'flavobacterium', 'flavonifractor', 'frisingicoccus', 'fructobacillus', 'fulvimarina', 'fusicatenibacter', 'fusobacterium', 'gardnerella', 'gemella', 'gemmata', 'gemmatimonas', 'gemmiger', 'geobacillus', 'gordonia', 'gordonibacter', 'gottschalkia', 'gracilibacter', 'granulicatella', 'grimontia', 'guyana', 'haemophilus', 'hafnia', 'halococcus', 'halomonas', 'helicobacter', 'herbaspirillum', 'holdemania', 'hydrotalea', 'intestinibacter', 'intestinimonas', 'jeddahella', 'johnsonella', 'jonquetella', 'kallipyga', 'kandleria', 'kingella', 'klebsiella', 'kluyvera', 'kocuria', 'kosakonia', 'kurthia', 'kytococcus', 'lachnoanaerobaculum', 'lachnobacterium', 'lachnoclostridium', 'lachnospiraceae', 'lachnospira', 'lactobacillus', 'lactococcus', 'lactonifactor', 'laribacter', 'lautropia', 'leclercia', 'leminorella', 'leptotrichia', 'leuconostoc', 'listeria', 'loktanella', 'longibaculum', 'longicatena', 'lysinibacillus', 'marinospirillum', 'marvinbryantia', 'megamonas', 'megasphaera', 'meiothermus', 'melainabacterium', 'merdibacter', 'mesorhizobium', 'metakosakonia', 'methanobrevibacter', 'methanomassiliicoccus', 'methanosphaera', 'methylobacterium', 'methyloversatilis', 'microbacterium', 'micrococcus', 'micromonospora', 'microvirga', 'mitsuokella', 'mobiluncus', 'mogibacterium', 'moraxella', 'morganella', 'mucispirillum', 'muribaculum', 'muricomes', 'murimonas', 'mycobacterium', 'mycoplasma', 'myroides', 'natranaerovirga', 'neisseria', 'nesterenkonia', 'nevskia', 'nigerium', 'nocardioides', 'nosocomiicoccus', 'noviherbaspirillum', 'novosphingobium', 'numidum', 'obesumbacterium', 'oceanobacillus', 'ochrobactrum', 'odoribacter', 'oligella', 'olsenella', 'oribacterium', 'oscillibacter', 'oxalobacter', 'paenibacillus', 'paeniclostridium', 'paenisporosarcina', 'paludibacter', 'pantoea', 'papillibacter', 'parabacteroides', 'paraburkholderia', 'paraclostridium', 'paracoccus', 'paraeggerthella', 'parapedobacter', 'paraprevotella', 'parascardovia', 'parasporobacterium', 'parasutterella', 'parvibacter', 'parvimonas', 'pasteurella', 'pediococcus', 'pelomonas', 'peptoniphilus', 'peptostreptococcus', 'phascolarctobacterium', 'phocaeicola', 'photobacterium', 'photorhabdus', 'pirellula', 'plesiomonas', 'polynesia', 'porphyromonadaceae', 'porphyromonas', 'prevotella', 'propionibacterium', 'proteiniphilum', 'proteus', 'providencia', 'pseudoalteromonas', 'pseudobutyrivibrio', 'pseudoflavonifractor', 'pseudomonas', 'pseudoramibacter', 'pseudoxanthomonas', 'pyramidobacter', 'rahnella', 'ralstonia', 'raoultella', 'reyranella', 'rhizobium', 'rhodococcus', 'rickettsiella', 'rikenellaceae', 'rikenella', 'risungbinella', 'robinsoniella', 'rodentibacter', 'romboutsia', 'roseburia', 'roseomonas', 'rothia', 'rubrobacter', 'rudanella', 'ruminiclostridium', 'ruminococcaceae', 'ruminococcus', 'ruthenibacterium', 'saccharolobus', 'salinibacterium', 'salmonella', 'sarcina', 'scardovia', 'schlesneria', 'schwartzia', 'sediminibacterium', 'selenomonas', 'sellimonas', 'senegalimassilia', 'serratia', 'shewanella', 'shigella', 'shuttleworthia', 'silanimonas', 'sinobacterium', 'slackia', 'sneathia', 'solobacterium', 'sphingobium', 'sphingomonas', 'sphingosinicella', 'spiroplasma', 'spirosoma', 'sporobacter', 'staphylococcus', 'stenotrophomonas', 'stomatobaculum', 'stoquefichus', 'streptococcus', 'streptomyces', 'subdoligranulum', 'succinatimonas', 'succiniclasticum', 'succinivibrio', 'sutterella', 'synergistes', 'syntrophus', 'tannerella', 'tatumella', 'terrisporobacter', 'tessaracoccus', 'tetragenococcus', 'thalassobacillus', 'thermoanaerobacter', 'thermus', 'timonella', 'trabulsiella', 'treponema', 'tropheryma', 'trueperella', 'turicibacter', 'turicimonas', 'tyzzerella', 'ureaplasma', 'ureibacillus', 'vagococcus', 'vallitalea', 'varibaculum', 'variovorax', 'veillonellaceae', 'veillonella', 'vibrio', 'victivallis', 'virgibacillus', 'weissella', 'yersinia', 'yokenella'])"
      ]
     },
     "execution_count": 44,
     "metadata": {},
     "output_type": "execute_result"
    }
   ],
   "source": [
    "genus_strain_dict.keys()"
   ]
  },
  {
   "cell_type": "markdown",
   "metadata": {},
   "source": [
    "# Add specialized phenotypic functions"
   ]
  },
  {
   "cell_type": "code",
   "execution_count": 2,
   "metadata": {},
   "outputs": [
    {
     "name": "stderr",
     "output_type": "stream",
     "text": [
      "/Users/erolkavvas/anaconda3/lib/python3.7/site-packages/skbio/util/_testing.py:15: FutureWarning: pandas.util.testing is deprecated. Use the functions in the public API at pandas.testing instead.\n",
      "  import pandas.util.testing as pdt\n"
     ]
    }
   ],
   "source": [
    "import sys\n",
    "sys.path.append('../')\n",
    "import pandas as pd\n",
    "import numpy as np\n",
    "import matplotlib.pyplot as plt\n",
    "import seaborn as sns\n",
    "from sklearn.model_selection import StratifiedShuffleSplit\n",
    "from sklearn.metrics import PrecisionRecallDisplay, RocCurveDisplay\n",
    "from imblearn.over_sampling import SMOTE\n",
    "from imblearn.pipeline import make_pipeline\n",
    "## my functions/classes\n",
    "from mb_xai import mb_utils\n",
    "import mb_xai.gut_data as gd"
   ]
  },
  {
   "cell_type": "code",
   "execution_count": 3,
   "metadata": {},
   "outputs": [],
   "source": [
    "FIG_SAVE_LOC = \"../figures/\"\n",
    "# DATA_LOC = '../../../Data/community_optimization/data/'\n",
    "DATA_LOC = '../../../Data/microbiome_xai/'"
   ]
  },
  {
   "cell_type": "code",
   "execution_count": 4,
   "metadata": {},
   "outputs": [
    {
     "name": "stdout",
     "output_type": "stream",
     "text": [
      "Fixed EX_tDHNACOA(e)\n",
      "... normalizing raw ASV abundances to fractions, dropping samples with 0 total abundances\n",
      "# of genus in model and not filterd out of QA/QC: 50, # of genus not in model:0\n"
     ]
    }
   ],
   "source": [
    "gut_data = gd.GutData()\n",
    "gut_data.load_data(\n",
    "    # FILE_COMM_MODEL='../data/reconstructions/community_5_TOP-vegan.pickle',\n",
    "    FILE_COMM_MODEL= DATA_LOC + 'reconstructions/community_50_TOP.pickle',\n",
    "    # FILE_GENUS_ASVS = \"../data/agp_data/taxon_genus_asvs.csv\",\n",
    "    FILE_GENUS_ASVS = DATA_LOC + 'agp_data/taxon_genus_asvs.csv',\n",
    "    # FILE_METADATA = DATA_LOC + \"agp_data/mcdonald_agp_metadata.txt\",\n",
    "    FILE_METADATA = DATA_LOC + \"agp_data/metadata_biosample_filtered.csv\",\n",
    "    DIR_SIM_DATA = DATA_LOC + \"micom-sim-data/\"  # \"../data/micom-sim-data/\",\n",
    ")\n",
    "gut_data.norm_abundances(filter_model=True, add_delta=True) ## Filters genus to those in model, adds small value to abundaces\n",
    "gut_data.X_df = gut_data.asv_df.T.copy()\n",
    "gut_data.sample_list = gut_data.X_df.index.to_list()\n",
    "gut_data.set_vegan_df(sample_num=40)\n",
    "## Set vegan df changes X_df and y_df and will therefore change medium_df. Be sure to run medium df after setting samples\n",
    "medium_df = pd.DataFrame(1000, columns=gut_data.com_model.medium.keys(), index = gut_data.X_df.index)\n",
    "gut_data.sample_medium_dict = medium_df.T.to_dict()\n",
    "gut_data.return_fluxes = True\n",
    "gut_data.pfba_bool = True # otherwise optimum values will not be fluxes but intead min(sum flux)"
   ]
  },
  {
   "cell_type": "code",
   "execution_count": 6,
   "metadata": {},
   "outputs": [
    {
     "name": "stdout",
     "output_type": "stream",
     "text": [
      "covid_chronic_conditions_diabetes_or_high_blood_sugar\n",
      "diabetes\n",
      "diabetes_type\n",
      "subset_diabetes\n",
      "diabetes type\n",
      "subset diabetes\n"
     ]
    }
   ],
   "source": [
    "for col in gut_data.metadata_df.columns:\n",
    "    if \"diabetes\" in col or \"dbt2\" in col:\n",
    "        print(col)"
   ]
  },
  {
   "cell_type": "code",
   "execution_count": 8,
   "metadata": {},
   "outputs": [
    {
     "data": {
      "text/plain": [
       "array(['I do not have this condition', 'Not provided', nan,\n",
       "       'Diagnosed by a medical professional (doctor, physician assistant)',\n",
       "       'Unknown', 'Self-diagnosed'], dtype=object)"
      ]
     },
     "execution_count": 8,
     "metadata": {},
     "output_type": "execute_result"
    }
   ],
   "source": [
    "gut_data.metadata_df[\"diabetes\"].unique()"
   ]
  },
  {
   "cell_type": "code",
   "execution_count": 12,
   "metadata": {},
   "outputs": [
    {
     "data": {
      "text/plain": [
       "array([nan, 'Not provided'], dtype=object)"
      ]
     },
     "execution_count": 12,
     "metadata": {},
     "output_type": "execute_result"
    }
   ],
   "source": [
    "gut_data.metadata_df[\"diabetes type\"].unique()"
   ]
  },
  {
   "cell_type": "code",
   "execution_count": null,
   "metadata": {},
   "outputs": [],
   "source": [
    "def set_dbt2_df(self, sample_num=5):\n",
    "    "
   ]
  },
  {
   "cell_type": "code",
   "execution_count": null,
   "metadata": {},
   "outputs": [],
   "source": [
    "def set_vegan_df(self, sample_num=5):\n",
    "    \"\"\" Helper function for specifying a list of samples that include vegans \n",
    "        (will do something similar for IBS and other traits with strong signals)\n",
    "    \"\"\"\n",
    "    col_type = \"diet_type\"\n",
    "    y_df = mb_utils.numeric_metadata_col(self.metadata_df, col_type, encode_type=\"one-hot\")\n",
    "    y_df = mb_utils.drop_notprovided(y_df)\n",
    "\n",
    "    vegan_samples = y_df[\"diet_type_vegan\"][y_df[\"diet_type_vegan\"]!=0].index.tolist()\n",
    "    non_vegan_samples = y_df[\"diet_type_vegan\"][y_df[\"diet_type_vegan\"]==0].index.tolist()\n",
    "\n",
    "    # sample_list = vegan_samples+non_vegan_samples[:len(vegan_samples)]\n",
    "    sample_list = vegan_samples[:sample_num]+non_vegan_samples[:sample_num]\n",
    "    y_df = y_df[\"diet_type_vegan\"]\n",
    "    y_df = y_df.loc[sample_list]\n",
    "    self.y_df = y_df\n",
    "    self.sample_list = sample_list\n",
    "    self.X_df = self.asv_df.T #.loc[sample_list]\n",
    "    ### match the indices of X and y\n",
    "    self.match_Xy_df()"
   ]
  },
  {
   "cell_type": "code",
   "execution_count": null,
   "metadata": {},
   "outputs": [],
   "source": [
    "p = \"poop\""
   ]
  }
 ],
 "metadata": {
  "interpreter": {
   "hash": "156838cabedfa41e92b6a0125ab43851c3e1e4df9c246042123535d5266a51f7"
  },
  "kernelspec": {
   "display_name": "Python 3.8.5 64-bit ('base': conda)",
   "language": "python",
   "name": "python3"
  },
  "language_info": {
   "codemirror_mode": {
    "name": "ipython",
    "version": 3
   },
   "file_extension": ".py",
   "mimetype": "text/x-python",
   "name": "python",
   "nbconvert_exporter": "python",
   "pygments_lexer": "ipython3",
   "version": "3.8.5"
  },
  "orig_nbformat": 4
 },
 "nbformat": 4,
 "nbformat_minor": 2
}
