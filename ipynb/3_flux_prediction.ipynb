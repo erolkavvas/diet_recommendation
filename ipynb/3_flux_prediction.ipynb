{
 "cells": [
  {
   "cell_type": "markdown",
   "metadata": {},
   "source": [
    "# Compute fluxes with microbiome compositions and fit ML model to predict traits\n",
    "\n",
    "Before running this notebook, the following data needs to be acquired...\n",
    "\n",
    "    - genus asv dataframe\n",
    "    - community metabolic model\n",
    "    - sample traits\n",
    "\n",
    "TO DO:\n",
    "- Prepare the new metadata file corresponding to the new AGP dataset\n",
    "- Create functions similar to \"gut_data.set_vegan_df()\" for different traits\n",
    "- Save flux outputs for MICOM computations specific to different traits"
   ]
  },
  {
   "cell_type": "code",
   "execution_count": 1,
   "metadata": {},
   "outputs": [
    {
     "name": "stderr",
     "output_type": "stream",
     "text": [
      "/Users/erolkavvas/anaconda3/lib/python3.7/site-packages/skbio/util/_testing.py:15: FutureWarning: pandas.util.testing is deprecated. Use the functions in the public API at pandas.testing instead.\n",
      "  import pandas.util.testing as pdt\n"
     ]
    }
   ],
   "source": [
    "import sys\n",
    "sys.path.append('../')\n",
    "import pandas as pd\n",
    "import numpy as np\n",
    "import matplotlib.pyplot as plt\n",
    "import seaborn as sns\n",
    "from sklearn.feature_selection import RFE\n",
    "from sklearn.model_selection import cross_val_score, cross_validate, StratifiedShuffleSplit\n",
    "from sklearn.metrics import PrecisionRecallDisplay, RocCurveDisplay\n",
    "from imblearn.over_sampling import SMOTE, RandomOverSampler\n",
    "from imblearn.pipeline import make_pipeline\n",
    "## my functions/classes\n",
    "from mb_xai import mb_utils\n",
    "import mb_xai.gut_data as gd\n",
    "from sklearn.decomposition import PCA\n",
    "from sklearn.feature_selection import f_classif\n",
    "# import mb_xai.mb_data as gd\n",
    "# import mb_xai.mb_learn as gl"
   ]
  },
  {
   "cell_type": "code",
   "execution_count": 2,
   "metadata": {},
   "outputs": [],
   "source": [
    "FIG_SAVE_LOC = \"../figures/\"\n",
    "# DATA_LOC = '../../../Data/community_optimization/data/'\n",
    "DATA_LOC = '../../../Data/microbiome_xai/'\n",
    "# DATA_LOC = '../../Data/microbiome_xai/'"
   ]
  },
  {
   "cell_type": "code",
   "execution_count": 16,
   "metadata": {},
   "outputs": [
    {
     "name": "stdout",
     "output_type": "stream",
     "text": [
      "Fixed EX_tDHNACOA(e)\n",
      "... normalizing raw ASV abundances to fractions, dropping samples with 0 total abundances\n",
      "# of genus in model and not filterd out of QA/QC: 50, # of genus not in model:0\n"
     ]
    }
   ],
   "source": [
    "gut_data = gd.GutData()\n",
    "gut_data.load_data(\n",
    "    # FILE_COMM_MODEL='../data/reconstructions/community_5_TOP-vegan.pickle',\n",
    "    # FILE_COMM_MODEL= DATA_LOC + 'reconstructions/community_5_TOP-vegan.pickle',\n",
    "    FILE_COMM_MODEL= DATA_LOC + 'reconstructions/community_50_TOP.pickle',\n",
    "    # FILE_GENUS_ASVS = \"../data/agp_data/taxon_genus_asvs.csv\",\n",
    "    FILE_GENUS_ASVS = DATA_LOC + 'agp_data/taxon_genus_asvs.csv',\n",
    "    # FILE_METADATA = DATA_LOC + \"agp_data/mcdonald_agp_metadata.txt\",\n",
    "    FILE_METADATA = DATA_LOC + \"agp_data/metadata_biosample_filtered.csv\",\n",
    "    DIR_SIM_DATA = DATA_LOC + \"micom-sim-data/\"  # \"../data/micom-sim-data/\",\n",
    ")\n",
    "gut_data.norm_abundances(filter_model=True, add_delta=True) ## Filters genus to those in model, adds small value to abundaces\n",
    "gut_data.X_df = gut_data.asv_df.T.copy()\n",
    "gut_data.sample_list = gut_data.X_df.index.to_list()\n",
    "# gut_data.set_ibs_df(sample_num=20, add_other_diagnosis=False)\n",
    "gut_data.set_vegan_df(sample_num=200)\n",
    "## Set vegan df changes X_df and y_df and will therefore change medium_df. Be sure to run medium df after setting samples\n",
    "medium_df = pd.DataFrame(1000, columns=gut_data.com_model.medium.keys(), index = gut_data.X_df.index)\n",
    "gut_data.sample_medium_dict = medium_df.T.to_dict()\n",
    "gut_data.return_fluxes = True\n",
    "gut_data.pfba_bool = True # otherwise optimum values will not be fluxes but intead min(sum flux)"
   ]
  },
  {
   "cell_type": "markdown",
   "metadata": {},
   "source": [
    "# PCA of metabolic fluxes"
   ]
  },
  {
   "cell_type": "code",
   "execution_count": 3,
   "metadata": {},
   "outputs": [
    {
     "name": "stdout",
     "output_type": "stream",
     "text": [
      "Nothing to fix\n",
      "... normalizing raw ASV abundances to fractions, dropping samples with 0 total abundances\n",
      "# of genus in model and not filterd out of QA/QC: 5, # of genus not in model:0\n"
     ]
    }
   ],
   "source": [
    "gut_data = gd.GutData()\n",
    "gut_data.load_data(\n",
    "    # FILE_COMM_MODEL='../data/reconstructions/community_5_TOP-vegan.pickle',\n",
    "    FILE_COMM_MODEL= DATA_LOC + 'reconstructions/community_5_TOP-vegan.pickle',\n",
    "    # FILE_COMM_MODEL= DATA_LOC + 'reconstructions/community_50_TOP.pickle',\n",
    "    # FILE_GENUS_ASVS = \"../data/agp_data/taxon_genus_asvs.csv\",\n",
    "    FILE_GENUS_ASVS = DATA_LOC + 'agp_data/taxon_genus_asvs.csv',\n",
    "    # FILE_METADATA = DATA_LOC + \"agp_data/mcdonald_agp_metadata.txt\",\n",
    "    FILE_METADATA = DATA_LOC + \"agp_data/metadata_biosample_filtered.csv\",\n",
    "    DIR_SIM_DATA = DATA_LOC + \"micom-sim-data/\"  # \"../data/micom-sim-data/\",\n",
    ")\n",
    "gut_data.norm_abundances(filter_model=True, add_delta=True) ## Filters genus to those in model, adds small value to abundaces\n",
    "gut_data.X_df = gut_data.asv_df.T.copy()\n",
    "gut_data.sample_list = gut_data.X_df.index.to_list()\n",
    "# gut_data.set_ibs_df(sample_num=20, add_other_diagnosis=False)\n",
    "gut_data.set_vegan_df(sample_num=100)\n",
    "## Set vegan df changes X_df and y_df and will therefore change medium_df. Be sure to run medium df after setting samples\n",
    "medium_df = pd.DataFrame(1000, columns=gut_data.com_model.medium.keys(), index = gut_data.X_df.index)\n",
    "gut_data.sample_medium_dict = medium_df.T.to_dict()\n",
    "gut_data.return_fluxes = True\n",
    "gut_data.pfba_bool = True # otherwise optimum values will not be fluxes but intead min(sum flux)"
   ]
  },
  {
   "cell_type": "code",
   "execution_count": 4,
   "metadata": {},
   "outputs": [],
   "source": [
    "## Takes about 7 minutes for 800 samples on home computer for 5 genus model...\n",
    "## Crashes with top50 genus model (\"function tool longer than 300 seconds\")\n",
    "gut_data.tradeoff_bool = True\n",
    "gut_data.tradeoff_frac = 0.1\n",
    "# gut_data.sample_list = gut_data.X_df.index[:10].to_list() # using 10 samples in this case\n",
    "gut_data.run_micom_samples_parallel(gut_data.com_model, processes=gd.cpu_count(), atol=1e-6)\n",
    "## Save fluxes\n",
    "gut_data.fluxes.to_csv(gut_data.dir_sim_data+\"micom_fluxes-top5-%d_samples.csv\"%(len(gut_data.sample_list)))"
   ]
  },
  {
   "cell_type": "code",
   "execution_count": 5,
   "metadata": {},
   "outputs": [
    {
     "data": {
      "text/html": [
       "<div>\n",
       "<style scoped>\n",
       "    .dataframe tbody tr th:only-of-type {\n",
       "        vertical-align: middle;\n",
       "    }\n",
       "\n",
       "    .dataframe tbody tr th {\n",
       "        vertical-align: top;\n",
       "    }\n",
       "\n",
       "    .dataframe thead th {\n",
       "        text-align: right;\n",
       "    }\n",
       "</style>\n",
       "<table border=\"1\" class=\"dataframe\">\n",
       "  <thead>\n",
       "    <tr style=\"text-align: right;\">\n",
       "      <th>react</th>\n",
       "      <th>12DGR180tex__alistipes</th>\n",
       "      <th>12DGR180tipp__alistipes</th>\n",
       "      <th>12PPD_Stex__alistipes</th>\n",
       "      <th>12PPDtpp__alistipes</th>\n",
       "      <th>1HIBUPGLU_St2pp__alistipes</th>\n",
       "      <th>1HIBUPGLU_Stex__alistipes</th>\n",
       "      <th>1HIBUP_S_GLCAASE__alistipes</th>\n",
       "      <th>1HIBUP_S_GLCAASEepp__alistipes</th>\n",
       "      <th>1HIBUP_Stepp__alistipes</th>\n",
       "      <th>1HIBUP_Stex__alistipes</th>\n",
       "      <th>...</th>\n",
       "      <th>EX_turan_D_m__medium</th>\n",
       "      <th>EX_tym_m__medium</th>\n",
       "      <th>EX_tyr_L_m__medium</th>\n",
       "      <th>EX_ura_m__medium</th>\n",
       "      <th>EX_urea_m__medium</th>\n",
       "      <th>EX_uri_m__medium</th>\n",
       "      <th>EX_val_L_m__medium</th>\n",
       "      <th>EX_xan_m__medium</th>\n",
       "      <th>EX_xyl_D_m__medium</th>\n",
       "      <th>EX_zn2_m__medium</th>\n",
       "    </tr>\n",
       "  </thead>\n",
       "  <tbody>\n",
       "    <tr>\n",
       "      <th>10317.000002064</th>\n",
       "      <td>0.0</td>\n",
       "      <td>0.0</td>\n",
       "      <td>-5.054613e-11</td>\n",
       "      <td>-5.054613e-11</td>\n",
       "      <td>1.320093e-10</td>\n",
       "      <td>3.858678e-10</td>\n",
       "      <td>1.320093e-10</td>\n",
       "      <td>2.509517e-10</td>\n",
       "      <td>1.320093e-10</td>\n",
       "      <td>-3.822542e-10</td>\n",
       "      <td>...</td>\n",
       "      <td>-2.251527e-13</td>\n",
       "      <td>5.812091e-13</td>\n",
       "      <td>-0.417937</td>\n",
       "      <td>0.677612</td>\n",
       "      <td>1.874821e-10</td>\n",
       "      <td>-1.011762</td>\n",
       "      <td>-2.071784</td>\n",
       "      <td>-1.899391e-11</td>\n",
       "      <td>-2.903174e-11</td>\n",
       "      <td>-0.047983</td>\n",
       "    </tr>\n",
       "    <tr>\n",
       "      <th>10317.000001860</th>\n",
       "      <td>0.0</td>\n",
       "      <td>0.0</td>\n",
       "      <td>-3.016242e-10</td>\n",
       "      <td>-3.016242e-10</td>\n",
       "      <td>3.835376e-10</td>\n",
       "      <td>1.370238e-09</td>\n",
       "      <td>3.835376e-10</td>\n",
       "      <td>1.048343e-09</td>\n",
       "      <td>3.835376e-10</td>\n",
       "      <td>-1.381242e-09</td>\n",
       "      <td>...</td>\n",
       "      <td>-1.073668e-12</td>\n",
       "      <td>1.295385e-10</td>\n",
       "      <td>-1.165193</td>\n",
       "      <td>0.000033</td>\n",
       "      <td>9.978062e-10</td>\n",
       "      <td>-0.704727</td>\n",
       "      <td>-0.066445</td>\n",
       "      <td>-2.748630e-10</td>\n",
       "      <td>-3.020639e-10</td>\n",
       "      <td>-0.103504</td>\n",
       "    </tr>\n",
       "    <tr>\n",
       "      <th>10317.000003047</th>\n",
       "      <td>0.0</td>\n",
       "      <td>0.0</td>\n",
       "      <td>-2.101208e-11</td>\n",
       "      <td>-2.101208e-11</td>\n",
       "      <td>5.624351e-11</td>\n",
       "      <td>1.632893e-10</td>\n",
       "      <td>5.624351e-11</td>\n",
       "      <td>1.072715e-10</td>\n",
       "      <td>5.624351e-11</td>\n",
       "      <td>-1.608776e-10</td>\n",
       "      <td>...</td>\n",
       "      <td>-1.529082e-13</td>\n",
       "      <td>3.099665e-14</td>\n",
       "      <td>-0.504157</td>\n",
       "      <td>0.204750</td>\n",
       "      <td>1.292485e-10</td>\n",
       "      <td>-0.502669</td>\n",
       "      <td>-2.784346</td>\n",
       "      <td>-1.204959e-11</td>\n",
       "      <td>-1.783833e-11</td>\n",
       "      <td>-0.070010</td>\n",
       "    </tr>\n",
       "    <tr>\n",
       "      <th>10317.000001595</th>\n",
       "      <td>0.0</td>\n",
       "      <td>0.0</td>\n",
       "      <td>-3.591002e-12</td>\n",
       "      <td>-3.591002e-12</td>\n",
       "      <td>4.229255e-12</td>\n",
       "      <td>1.410436e-11</td>\n",
       "      <td>4.229255e-12</td>\n",
       "      <td>1.009288e-11</td>\n",
       "      <td>4.229255e-12</td>\n",
       "      <td>-1.423554e-11</td>\n",
       "      <td>...</td>\n",
       "      <td>-9.888731e-13</td>\n",
       "      <td>3.817502e-13</td>\n",
       "      <td>-0.891517</td>\n",
       "      <td>0.005048</td>\n",
       "      <td>5.433936e-12</td>\n",
       "      <td>-0.012022</td>\n",
       "      <td>-2.598897</td>\n",
       "      <td>-2.082766e-12</td>\n",
       "      <td>-4.109561e-12</td>\n",
       "      <td>-0.023865</td>\n",
       "    </tr>\n",
       "    <tr>\n",
       "      <th>10317.000001616</th>\n",
       "      <td>0.0</td>\n",
       "      <td>0.0</td>\n",
       "      <td>-3.266059e-10</td>\n",
       "      <td>-3.266059e-10</td>\n",
       "      <td>3.944211e-10</td>\n",
       "      <td>1.508390e-09</td>\n",
       "      <td>3.944211e-10</td>\n",
       "      <td>1.073916e-09</td>\n",
       "      <td>3.944211e-10</td>\n",
       "      <td>-1.453437e-09</td>\n",
       "      <td>...</td>\n",
       "      <td>-6.060728e-12</td>\n",
       "      <td>1.567659e-11</td>\n",
       "      <td>-0.375283</td>\n",
       "      <td>0.455910</td>\n",
       "      <td>2.765309e-10</td>\n",
       "      <td>-0.686420</td>\n",
       "      <td>-1.061276</td>\n",
       "      <td>-9.035470e-11</td>\n",
       "      <td>-1.593879e-10</td>\n",
       "      <td>-0.020220</td>\n",
       "    </tr>\n",
       "  </tbody>\n",
       "</table>\n",
       "<p>5 rows × 12761 columns</p>\n",
       "</div>"
      ],
      "text/plain": [
       "react            12DGR180tex__alistipes  12DGR180tipp__alistipes  \\\n",
       "10317.000002064                     0.0                      0.0   \n",
       "10317.000001860                     0.0                      0.0   \n",
       "10317.000003047                     0.0                      0.0   \n",
       "10317.000001595                     0.0                      0.0   \n",
       "10317.000001616                     0.0                      0.0   \n",
       "\n",
       "react            12PPD_Stex__alistipes  12PPDtpp__alistipes  \\\n",
       "10317.000002064          -5.054613e-11        -5.054613e-11   \n",
       "10317.000001860          -3.016242e-10        -3.016242e-10   \n",
       "10317.000003047          -2.101208e-11        -2.101208e-11   \n",
       "10317.000001595          -3.591002e-12        -3.591002e-12   \n",
       "10317.000001616          -3.266059e-10        -3.266059e-10   \n",
       "\n",
       "react            1HIBUPGLU_St2pp__alistipes  1HIBUPGLU_Stex__alistipes  \\\n",
       "10317.000002064                1.320093e-10               3.858678e-10   \n",
       "10317.000001860                3.835376e-10               1.370238e-09   \n",
       "10317.000003047                5.624351e-11               1.632893e-10   \n",
       "10317.000001595                4.229255e-12               1.410436e-11   \n",
       "10317.000001616                3.944211e-10               1.508390e-09   \n",
       "\n",
       "react            1HIBUP_S_GLCAASE__alistipes  1HIBUP_S_GLCAASEepp__alistipes  \\\n",
       "10317.000002064                 1.320093e-10                    2.509517e-10   \n",
       "10317.000001860                 3.835376e-10                    1.048343e-09   \n",
       "10317.000003047                 5.624351e-11                    1.072715e-10   \n",
       "10317.000001595                 4.229255e-12                    1.009288e-11   \n",
       "10317.000001616                 3.944211e-10                    1.073916e-09   \n",
       "\n",
       "react            1HIBUP_Stepp__alistipes  1HIBUP_Stex__alistipes  ...  \\\n",
       "10317.000002064             1.320093e-10           -3.822542e-10  ...   \n",
       "10317.000001860             3.835376e-10           -1.381242e-09  ...   \n",
       "10317.000003047             5.624351e-11           -1.608776e-10  ...   \n",
       "10317.000001595             4.229255e-12           -1.423554e-11  ...   \n",
       "10317.000001616             3.944211e-10           -1.453437e-09  ...   \n",
       "\n",
       "react            EX_turan_D_m__medium  EX_tym_m__medium  EX_tyr_L_m__medium  \\\n",
       "10317.000002064         -2.251527e-13      5.812091e-13           -0.417937   \n",
       "10317.000001860         -1.073668e-12      1.295385e-10           -1.165193   \n",
       "10317.000003047         -1.529082e-13      3.099665e-14           -0.504157   \n",
       "10317.000001595         -9.888731e-13      3.817502e-13           -0.891517   \n",
       "10317.000001616         -6.060728e-12      1.567659e-11           -0.375283   \n",
       "\n",
       "react            EX_ura_m__medium  EX_urea_m__medium  EX_uri_m__medium  \\\n",
       "10317.000002064          0.677612       1.874821e-10         -1.011762   \n",
       "10317.000001860          0.000033       9.978062e-10         -0.704727   \n",
       "10317.000003047          0.204750       1.292485e-10         -0.502669   \n",
       "10317.000001595          0.005048       5.433936e-12         -0.012022   \n",
       "10317.000001616          0.455910       2.765309e-10         -0.686420   \n",
       "\n",
       "react            EX_val_L_m__medium  EX_xan_m__medium  EX_xyl_D_m__medium  \\\n",
       "10317.000002064           -2.071784     -1.899391e-11       -2.903174e-11   \n",
       "10317.000001860           -0.066445     -2.748630e-10       -3.020639e-10   \n",
       "10317.000003047           -2.784346     -1.204959e-11       -1.783833e-11   \n",
       "10317.000001595           -2.598897     -2.082766e-12       -4.109561e-12   \n",
       "10317.000001616           -1.061276     -9.035470e-11       -1.593879e-10   \n",
       "\n",
       "react            EX_zn2_m__medium  \n",
       "10317.000002064         -0.047983  \n",
       "10317.000001860         -0.103504  \n",
       "10317.000003047         -0.070010  \n",
       "10317.000001595         -0.023865  \n",
       "10317.000001616         -0.020220  \n",
       "\n",
       "[5 rows x 12761 columns]"
      ]
     },
     "execution_count": 5,
     "metadata": {},
     "output_type": "execute_result"
    }
   ],
   "source": [
    "gut_data.fluxes.head()"
   ]
  },
  {
   "cell_type": "code",
   "execution_count": 7,
   "metadata": {},
   "outputs": [
    {
     "name": "stdout",
     "output_type": "stream",
     "text": [
      "EX_val_L(e)__alistipes\n",
      "EX_val_L(e)__corynebacterium\n",
      "EX_val_L(e)__staphylococcus\n",
      "EX_val_L(e)__bilophila\n",
      "EX_val_L(e)__christensenellaceae\n",
      "EX_val_L_m__medium\n"
     ]
    }
   ],
   "source": [
    "for col in gut_data.fluxes.columns:\n",
    "    # if \"EX_val_L_m\" in col:\n",
    "    if \"EX_val_L\" in col:\n",
    "        print(col)"
   ]
  },
  {
   "cell_type": "markdown",
   "metadata": {},
   "source": [
    "(B) Growth niche map for gut genera. Import fluxes for each genus in each sample were reduced to two dimensions using t-SNE. Each symbol denotes a genus in one sample and is colored and named by its genus. Genera that are close to each other consume similar sets of metabolites.(B) Growth niche map for gut genera. Import fluxes for each genus in each sample were reduced to two dimensions using t-SNE. Each symbol denotes a genus in one sample and is colored and named by its genus. Genera that are close to each other consume similar sets of metabolites."
   ]
  },
  {
   "cell_type": "code",
   "execution_count": 1,
   "metadata": {},
   "outputs": [],
   "source": [
    "def get_genus_exchange_df(X_df):\n",
    "    \"\"\"takes gut_data.fluxes as input. returns columns that are exchange reactions of specific genera\"\"\"\n",
    "    medium_cols = [x for x in X_df.columns if \"__medium\" in x]\n",
    "    genus_ex_fluxes = []\n",
    "    for med_flux in medium_cols:\n",
    "        ex_flux_id = med_flux.split(\"_m\")[0]+\"(e)\"\n",
    "        for col in X_df.columns:\n",
    "            if ex_flux_id in col:\n",
    "                genus_ex_fluxes.append(col)\n",
    "    genus_ex_df = X_df[genus_ex_fluxes].copy()\n",
    "    return genus_ex_df\n",
    "\n",
    "\n",
    "def get_genus_exchange_longform(X_df):\n",
    "    \"\"\"takes gut_data.fluxes[genus exchange reactions] as input and converts genera exchange reaction df to long form\"\"\"\n",
    "    genus_exchange_df_melt = X_df.copy()\n",
    "    columns_vals = list(genus_exchange_df_melt.columns)\n",
    "    genus_exchange_df_melt = genus_exchange_df_melt.reset_index()\n",
    "    genus_exchange_df_melt = pd.melt(genus_exchange_df_melt, id_vars=['index'], value_vars=columns_vals)\n",
    "    # genus_exchange_df_melt[[\"react\", \"genus\"]] = genus_exchange_df_melt[\"react\"].map(lambda x: x.split(\"__\"))\n",
    "    genus_exchange_df_melt[[\"react\", \"genus\"]] = genus_exchange_df_melt[\"react\"].str.split(\"__\", expand=True) # ,\n",
    "    return genus_exchange_df_melt\n"
   ]
  },
  {
   "cell_type": "code",
   "execution_count": 35,
   "metadata": {},
   "outputs": [],
   "source": [
    "genus_exchange_df = get_genus_exchange_df(gut_data.fluxes)\n",
    "genus_exchange_df_long = get_genus_exchange_longform(genus_exchange_df)"
   ]
  },
  {
   "cell_type": "code",
   "execution_count": 36,
   "metadata": {},
   "outputs": [
    {
     "data": {
      "text/html": [
       "<div>\n",
       "<style scoped>\n",
       "    .dataframe tbody tr th:only-of-type {\n",
       "        vertical-align: middle;\n",
       "    }\n",
       "\n",
       "    .dataframe tbody tr th {\n",
       "        vertical-align: top;\n",
       "    }\n",
       "\n",
       "    .dataframe thead th {\n",
       "        text-align: right;\n",
       "    }\n",
       "</style>\n",
       "<table border=\"1\" class=\"dataframe\">\n",
       "  <thead>\n",
       "    <tr style=\"text-align: right;\">\n",
       "      <th></th>\n",
       "      <th>index</th>\n",
       "      <th>react</th>\n",
       "      <th>value</th>\n",
       "      <th>genus</th>\n",
       "    </tr>\n",
       "  </thead>\n",
       "  <tbody>\n",
       "    <tr>\n",
       "      <th>0</th>\n",
       "      <td>10317.000002064</td>\n",
       "      <td>EX_12dgr180(e)</td>\n",
       "      <td>-0.0</td>\n",
       "      <td>alistipes</td>\n",
       "    </tr>\n",
       "    <tr>\n",
       "      <th>1</th>\n",
       "      <td>10317.000001860</td>\n",
       "      <td>EX_12dgr180(e)</td>\n",
       "      <td>-0.0</td>\n",
       "      <td>alistipes</td>\n",
       "    </tr>\n",
       "    <tr>\n",
       "      <th>2</th>\n",
       "      <td>10317.000003047</td>\n",
       "      <td>EX_12dgr180(e)</td>\n",
       "      <td>-0.0</td>\n",
       "      <td>alistipes</td>\n",
       "    </tr>\n",
       "    <tr>\n",
       "      <th>3</th>\n",
       "      <td>10317.000001595</td>\n",
       "      <td>EX_12dgr180(e)</td>\n",
       "      <td>-0.0</td>\n",
       "      <td>alistipes</td>\n",
       "    </tr>\n",
       "    <tr>\n",
       "      <th>4</th>\n",
       "      <td>10317.000001616</td>\n",
       "      <td>EX_12dgr180(e)</td>\n",
       "      <td>-0.0</td>\n",
       "      <td>alistipes</td>\n",
       "    </tr>\n",
       "  </tbody>\n",
       "</table>\n",
       "</div>"
      ],
      "text/plain": [
       "             index           react  value      genus\n",
       "0  10317.000002064  EX_12dgr180(e)   -0.0  alistipes\n",
       "1  10317.000001860  EX_12dgr180(e)   -0.0  alistipes\n",
       "2  10317.000003047  EX_12dgr180(e)   -0.0  alistipes\n",
       "3  10317.000001595  EX_12dgr180(e)   -0.0  alistipes\n",
       "4  10317.000001616  EX_12dgr180(e)   -0.0  alistipes"
      ]
     },
     "execution_count": 36,
     "metadata": {},
     "output_type": "execute_result"
    }
   ],
   "source": [
    "genus_exchange_df_long.head()\n"
   ]
  },
  {
   "cell_type": "markdown",
   "metadata": {},
   "source": [
    "1. convert to long form \n",
    "2. split column ids into two columns: flux id and genera id"
   ]
  },
  {
   "cell_type": "code",
   "execution_count": 33,
   "metadata": {},
   "outputs": [
    {
     "data": {
      "text/html": [
       "<div>\n",
       "<style scoped>\n",
       "    .dataframe tbody tr th:only-of-type {\n",
       "        vertical-align: middle;\n",
       "    }\n",
       "\n",
       "    .dataframe tbody tr th {\n",
       "        vertical-align: top;\n",
       "    }\n",
       "\n",
       "    .dataframe thead th {\n",
       "        text-align: right;\n",
       "    }\n",
       "</style>\n",
       "<table border=\"1\" class=\"dataframe\">\n",
       "  <thead>\n",
       "    <tr style=\"text-align: right;\">\n",
       "      <th></th>\n",
       "      <th>index</th>\n",
       "      <th>react</th>\n",
       "      <th>value</th>\n",
       "      <th>genus</th>\n",
       "    </tr>\n",
       "  </thead>\n",
       "  <tbody>\n",
       "    <tr>\n",
       "      <th>0</th>\n",
       "      <td>10317.000002064</td>\n",
       "      <td>EX_12dgr180(e)</td>\n",
       "      <td>-0.000000</td>\n",
       "      <td>alistipes</td>\n",
       "    </tr>\n",
       "    <tr>\n",
       "      <th>1</th>\n",
       "      <td>10317.000001860</td>\n",
       "      <td>EX_12dgr180(e)</td>\n",
       "      <td>-0.000000</td>\n",
       "      <td>alistipes</td>\n",
       "    </tr>\n",
       "    <tr>\n",
       "      <th>2</th>\n",
       "      <td>10317.000003047</td>\n",
       "      <td>EX_12dgr180(e)</td>\n",
       "      <td>-0.000000</td>\n",
       "      <td>alistipes</td>\n",
       "    </tr>\n",
       "    <tr>\n",
       "      <th>3</th>\n",
       "      <td>10317.000001595</td>\n",
       "      <td>EX_12dgr180(e)</td>\n",
       "      <td>-0.000000</td>\n",
       "      <td>alistipes</td>\n",
       "    </tr>\n",
       "    <tr>\n",
       "      <th>4</th>\n",
       "      <td>10317.000001616</td>\n",
       "      <td>EX_12dgr180(e)</td>\n",
       "      <td>-0.000000</td>\n",
       "      <td>alistipes</td>\n",
       "    </tr>\n",
       "    <tr>\n",
       "      <th>...</th>\n",
       "      <td>...</td>\n",
       "      <td>...</td>\n",
       "      <td>...</td>\n",
       "      <td>...</td>\n",
       "    </tr>\n",
       "    <tr>\n",
       "      <th>191403</th>\n",
       "      <td>10317.000001861</td>\n",
       "      <td>EX_zn2(e)</td>\n",
       "      <td>-0.034153</td>\n",
       "      <td>christensenellaceae</td>\n",
       "    </tr>\n",
       "    <tr>\n",
       "      <th>191404</th>\n",
       "      <td>10317.000003130</td>\n",
       "      <td>EX_zn2(e)</td>\n",
       "      <td>-0.000080</td>\n",
       "      <td>christensenellaceae</td>\n",
       "    </tr>\n",
       "    <tr>\n",
       "      <th>191405</th>\n",
       "      <td>10317.000001248</td>\n",
       "      <td>EX_zn2(e)</td>\n",
       "      <td>-0.000126</td>\n",
       "      <td>christensenellaceae</td>\n",
       "    </tr>\n",
       "    <tr>\n",
       "      <th>191406</th>\n",
       "      <td>10317.000001832</td>\n",
       "      <td>EX_zn2(e)</td>\n",
       "      <td>-0.001949</td>\n",
       "      <td>christensenellaceae</td>\n",
       "    </tr>\n",
       "    <tr>\n",
       "      <th>191407</th>\n",
       "      <td>10317.000001435</td>\n",
       "      <td>EX_zn2(e)</td>\n",
       "      <td>-0.000816</td>\n",
       "      <td>christensenellaceae</td>\n",
       "    </tr>\n",
       "  </tbody>\n",
       "</table>\n",
       "<p>191408 rows × 4 columns</p>\n",
       "</div>"
      ],
      "text/plain": [
       "                  index           react     value                genus\n",
       "0       10317.000002064  EX_12dgr180(e) -0.000000            alistipes\n",
       "1       10317.000001860  EX_12dgr180(e) -0.000000            alistipes\n",
       "2       10317.000003047  EX_12dgr180(e) -0.000000            alistipes\n",
       "3       10317.000001595  EX_12dgr180(e) -0.000000            alistipes\n",
       "4       10317.000001616  EX_12dgr180(e) -0.000000            alistipes\n",
       "...                 ...             ...       ...                  ...\n",
       "191403  10317.000001861       EX_zn2(e) -0.034153  christensenellaceae\n",
       "191404  10317.000003130       EX_zn2(e) -0.000080  christensenellaceae\n",
       "191405  10317.000001248       EX_zn2(e) -0.000126  christensenellaceae\n",
       "191406  10317.000001832       EX_zn2(e) -0.001949  christensenellaceae\n",
       "191407  10317.000001435       EX_zn2(e) -0.000816  christensenellaceae\n",
       "\n",
       "[191408 rows x 4 columns]"
      ]
     },
     "execution_count": 33,
     "metadata": {},
     "output_type": "execute_result"
    }
   ],
   "source": [
    "genus_exchange_df_melt = genus_exchange_df.copy()\n",
    "columns_vals = list(genus_exchange_df_melt.columns)\n",
    "genus_exchange_df_melt = genus_exchange_df_melt.reset_index()\n",
    "genus_exchange_df_melt = pd.melt(genus_exchange_df_melt, id_vars=['index'], value_vars=columns_vals)\n",
    "# genus_exchange_df_melt[[\"react\", \"genus\"]] = genus_exchange_df_melt[\"react\"].map(lambda x: x.split(\"__\"))\n",
    "genus_exchange_df_melt[[\"react\", \"genus\"]] = genus_exchange_df_melt[\"react\"].str.split(\"__\", expand=True) # ,\n",
    "genus_exchange_df_melt"
   ]
  },
  {
   "cell_type": "code",
   "execution_count": 20,
   "metadata": {},
   "outputs": [
    {
     "data": {
      "text/plain": [
       "Index(['EX_12dgr180(e)__alistipes', 'EX_12dgr180(e)__corynebacterium',\n",
       "       'EX_12dgr180(e)__staphylococcus', 'EX_12ppd_S(e)__alistipes',\n",
       "       'EX_12ppd_S(e)__corynebacterium', 'EX_1hibup_S(e)__alistipes',\n",
       "       'EX_1hibup_S(e)__corynebacterium', 'EX_1hibup_S(e)__staphylococcus',\n",
       "       'EX_1hibupglu_S(e)__alistipes', 'EX_1hibupglu_S(e)__corynebacterium',\n",
       "       ...\n",
       "       'EX_xan(e)__staphylococcus', 'EX_xyl_D(e)__alistipes',\n",
       "       'EX_xyl_D(e)__corynebacterium', 'EX_xyl_D(e)__staphylococcus',\n",
       "       'EX_xyl_D(e)__bilophila', 'EX_zn2(e)__alistipes',\n",
       "       'EX_zn2(e)__corynebacterium', 'EX_zn2(e)__staphylococcus',\n",
       "       'EX_zn2(e)__bilophila', 'EX_zn2(e)__christensenellaceae'],\n",
       "      dtype='object', name='react', length=1709)"
      ]
     },
     "execution_count": 20,
     "metadata": {},
     "output_type": "execute_result"
    }
   ],
   "source": [
    "columns_vals"
   ]
  },
  {
   "cell_type": "code",
   "execution_count": 29,
   "metadata": {},
   "outputs": [
    {
     "data": {
      "text/plain": [
       "array(['alistipes', 'corynebacterium', 'staphylococcus', 'bilophila',\n",
       "       'christensenellaceae'], dtype=object)"
      ]
     },
     "execution_count": 29,
     "metadata": {},
     "output_type": "execute_result"
    }
   ],
   "source": [
    "genus_exchange_df_melt[\"genus\"].unique()"
   ]
  },
  {
   "cell_type": "code",
   "execution_count": 73,
   "metadata": {},
   "outputs": [],
   "source": [
    "gut_data.fluxes.to_csv(gut_data.dir_sim_data+\"micom_fluxes-top5-%d_samples.csv\"%(len(gut_data.sample_list)))"
   ]
  },
  {
   "cell_type": "code",
   "execution_count": 56,
   "metadata": {},
   "outputs": [],
   "source": [
    "def get_medium_fluxes(X_df_in):\n",
    "    X_df = X_df_in.copy()\n",
    "    medium_cols = [x for x in X_df.columns if \"__medium\" in x]\n",
    "    X_df = X_df[medium_cols]\n",
    "    return X_df"
   ]
  },
  {
   "cell_type": "code",
   "execution_count": 65,
   "metadata": {},
   "outputs": [
    {
     "name": "stdout",
     "output_type": "stream",
     "text": [
      "[0.3335975  0.27949463 0.21311381]\n"
     ]
    },
    {
     "data": {
      "text/plain": [
       "Text(0, 0.5, 'component 1')"
      ]
     },
     "execution_count": 65,
     "metadata": {},
     "output_type": "execute_result"
    },
    {
     "data": {
      "image/png": "[encoded data removed]",
      "text/plain": [
       "<Figure size 432x288 with 1 Axes>"
      ]
     },
     "metadata": {
      "needs_background": "light"
     },
     "output_type": "display_data"
    }
   ],
   "source": [
    "n_components=3\n",
    "\n",
    "X = gut_data.fluxes.copy()\n",
    "## fluxes tend to stratify based on genus... thus look at medium fluxes instead\n",
    "X = get_medium_fluxes(X)\n",
    "\n",
    "X = gut_data.X_df.copy()\n",
    "\n",
    "X_scale = mb_utils.scale_inputs(X,  pd_bool=False)\n",
    "# X_scale = mb_utils.scale_inputs_minmax(X,  pd_bool=False)\n",
    "\n",
    "pca = PCA(n_components=n_components, whiten=True)\n",
    "X_pca = pca.fit_transform(X_scale)\n",
    "X_pca_df = pd.DataFrame(X_pca, index=X.index, columns=range(n_components))\n",
    "X_pca_df.columns = [\"PCA comp \"+str(x) for x in X_pca_df.columns]\n",
    "### Get matrix of pca weights as well\n",
    "pca_weight_df = pd.DataFrame(pca.components_,index=X_pca_df.columns,columns=X.columns).T\n",
    "\n",
    "print(pca.explained_variance_ratio_)\n",
    "plt.scatter(X_pca[:, 0], X_pca[:, 1],\n",
    "            # c=digits.target, edgecolor='none', alpha=0.5,\n",
    "            #cmap=plt.cm.get_cmap('spectral', 10)\n",
    "            )\n",
    "plt.xlabel('component 0')\n",
    "plt.ylabel('component 1')\n",
    "# plt.colorbar();"
   ]
  },
  {
   "cell_type": "code",
   "execution_count": 63,
   "metadata": {},
   "outputs": [
    {
     "data": {
      "text/plain": [
       "react\n",
       "EX_rsv_m__medium         -0.121277\n",
       "EX_ptvst_m__medium       -0.121277\n",
       "EX_lac_L_m__medium       -0.105275\n",
       "EX_glyc_m__medium        -0.104670\n",
       "EX_no2_m__medium         -0.103942\n",
       "                            ...   \n",
       "EX_ptrc_m__medium         0.108995\n",
       "EX_trp_L_m__medium        0.109058\n",
       "EX_thm_m__medium          0.109222\n",
       "EX_rsvgluc_m__medium      0.121277\n",
       "EX_ptvstgluc_m__medium    0.121277\n",
       "Name: 2, Length: 621, dtype: float64"
      ]
     },
     "execution_count": 63,
     "metadata": {},
     "output_type": "execute_result"
    }
   ],
   "source": [
    "PCA_weight_df[2].sort_values()"
   ]
  },
  {
   "cell_type": "code",
   "execution_count": 51,
   "metadata": {},
   "outputs": [
    {
     "data": {
      "text/plain": [
       "christensenellaceae    0.066672\n",
       "bilophila              0.156475\n",
       "alistipes              0.774212\n",
       "corynebacterium        0.001320\n",
       "staphylococcus         0.001320\n",
       "Name: 10317.000002649, dtype: float64"
      ]
     },
     "execution_count": 51,
     "metadata": {},
     "output_type": "execute_result"
    }
   ],
   "source": [
    "gut_data.X_df.loc[\"10317.000002649\"]"
   ]
  },
  {
   "cell_type": "code",
   "execution_count": 8,
   "metadata": {},
   "outputs": [],
   "source": [
    "gut_data.get_num_metadata_df()"
   ]
  },
  {
   "cell_type": "code",
   "execution_count": 37,
   "metadata": {},
   "outputs": [
    {
     "name": "stdout",
     "output_type": "stream",
     "text": [
      "(109, 1076)\n"
     ]
    }
   ],
   "source": [
    "num_metadata_fstat_df = pd.DataFrame()\n",
    "num_metadata_pval_df = pd.DataFrame()\n",
    "\n",
    "y_num_corr_df = gut_data.num_metadata_df.loc[X_pca_df.index].copy()\n",
    "y_num_corr_df = y_num_corr_df[y_num_corr_df.columns[y_num_corr_df.std()>1e-3]]\n",
    "y_num_corr_df = y_num_corr_df[y_num_corr_df.columns[y_num_corr_df.sum()>1]]\n",
    "\n",
    "drop_cols = [x for x in y_num_corr_df.columns if \"host_subject_id\" in x or \"survey_id_\" in x or \"anonymized_name\" in x or \"bmi_\" in x or \"collection_timestamp_\" in x or \"collection_time_\" in x]\n",
    "# drop_cols = [x for x in y_num_corr_df.columns if \"bmi_\" in x]\n",
    "y_num_corr_df.drop(drop_cols,axis=1,inplace=True)\n",
    "\n",
    "print(y_num_corr_df.shape)\n",
    "for col in y_num_corr_df.columns[1:1000]:\n",
    "    f_stat, p_val = f_classif(X_pca_df, y_num_corr_df[col])\n",
    "    ## f_stat_df\n",
    "    f_stat_df = pd.DataFrame(f_stat, index=X_pca_df.columns, columns=[col])\n",
    "    num_metadata_fstat_df = pd.concat([num_metadata_fstat_df, f_stat_df],axis=1)\n",
    "\n",
    "    ## p_val_df\n",
    "    p_val_df = pd.DataFrame(p_val, index=X_pca_df.columns, columns=[col])\n",
    "    num_metadata_pval_df = pd.concat([num_metadata_pval_df, p_val_df],axis=1)\n",
    "\n",
    "num_metadata_pval_df = num_metadata_pval_df.T\n",
    "num_metadata_fstat_df = num_metadata_fstat_df.T"
   ]
  },
  {
   "cell_type": "code",
   "execution_count": 39,
   "metadata": {},
   "outputs": [
    {
     "data": {
      "text/plain": [
       "state_il                                  0.000199\n",
       "longitude_-88.0                           0.000271\n",
       "acne_medication_otc_yes                   0.000403\n",
       "weight_kg_81.0                            0.000575\n",
       "age_cat_20s                               0.000602\n",
       "                                            ...   \n",
       "fed_as_infant_primarily infant formula    0.997544\n",
       "whole_grain_frequency_daily               0.998558\n",
       "olive_oil_daily                           0.999171\n",
       "asd_i do not have this condition          0.999681\n",
       "consume_animal_products_abx_no            0.999758\n",
       "Name: PCA comp 0, Length: 999, dtype: float64"
      ]
     },
     "execution_count": 39,
     "metadata": {},
     "output_type": "execute_result"
    }
   ],
   "source": [
    "num_metadata_pval_df[\"PCA comp 0\"].sort_values()"
   ]
  },
  {
   "cell_type": "code",
   "execution_count": 42,
   "metadata": {},
   "outputs": [
    {
     "data": {
      "text/plain": [
       "<AxesSubplot:xlabel='PCA comp 0', ylabel='PCA comp 1'>"
      ]
     },
     "execution_count": 42,
     "metadata": {},
     "output_type": "execute_result"
    },
    {
     "data": {
      "image/png": "[encoded data removed]",
      "text/plain": [
       "<Figure size 432x288 with 1 Axes>"
      ]
     },
     "metadata": {
      "needs_background": "light"
     },
     "output_type": "display_data"
    }
   ],
   "source": [
    "X_pca_trait_df = pd.concat([X_pca_df, gut_data.num_metadata_df.loc[X_pca_df.index]],axis=1)\n",
    "# X_pca_df\n",
    "\n",
    "sns.scatterplot(data=X_pca_trait_df, x=\"PCA comp 0\", y=\"PCA comp 1\", hue=\"state_il\")"
   ]
  },
  {
   "cell_type": "markdown",
   "metadata": {},
   "source": [
    "Look at weight matrix"
   ]
  },
  {
   "cell_type": "markdown",
   "metadata": {},
   "source": [
    "# Predict traits using fluxes and abundances"
   ]
  },
  {
   "cell_type": "code",
   "execution_count": 5,
   "metadata": {},
   "outputs": [
    {
     "name": "stdout",
     "output_type": "stream",
     "text": [
      "Nothing to fix\n",
      "... normalizing raw ASV abundances to fractions, dropping samples with 0 total abundances\n",
      "# of genus in model and not filterd out of QA/QC: 5, # of genus not in model:0\n"
     ]
    }
   ],
   "source": [
    "gut_data = gd.GutData()\n",
    "gut_data.load_data(\n",
    "    # FILE_COMM_MODEL='../data/reconstructions/community_5_TOP-vegan.pickle',\n",
    "    FILE_COMM_MODEL= DATA_LOC + 'reconstructions/community_5_TOP-vegan.pickle',\n",
    "    # FILE_GENUS_ASVS = \"../data/agp_data/taxon_genus_asvs.csv\",\n",
    "    FILE_GENUS_ASVS = DATA_LOC + 'agp_data/taxon_genus_asvs.csv',\n",
    "    # FILE_METADATA = DATA_LOC + \"agp_data/mcdonald_agp_metadata.txt\",\n",
    "    FILE_METADATA = DATA_LOC + \"agp_data/metadata_biosample_filtered.csv\",\n",
    "    DIR_SIM_DATA = DATA_LOC + \"micom-sim-data/\"  # \"../data/micom-sim-data/\",\n",
    ")\n",
    "gut_data.norm_abundances(filter_model=True, add_delta=True) ## Filters genus to those in model, adds small value to abundaces\n",
    "gut_data.X_df = gut_data.asv_df.T.copy()\n",
    "gut_data.sample_list = gut_data.X_df.index.to_list()\n",
    "gut_data.set_vegan_df(sample_num=40)\n",
    "## Set vegan df changes X_df and y_df and will therefore change medium_df. Be sure to run medium df after setting samples\n",
    "medium_df = pd.DataFrame(1000, columns=gut_data.com_model.medium.keys(), index = gut_data.X_df.index)\n",
    "gut_data.sample_medium_dict = medium_df.T.to_dict()\n",
    "gut_data.return_fluxes = True\n",
    "gut_data.pfba_bool = True # otherwise optimum values will not be fluxes but intead min(sum flux)"
   ]
  },
  {
   "cell_type": "code",
   "execution_count": 67,
   "metadata": {},
   "outputs": [
    {
     "name": "stdout",
     "output_type": "stream",
     "text": [
      "CPU times: user 375 ms, sys: 844 ms, total: 1.22 s\n",
      "Wall time: 29 s\n"
     ]
    }
   ],
   "source": [
    "%%time\n",
    "# using Cooperative Tradeoff, 9mins 12seconds for 1000 samples \n",
    "gut_data.tradeoff_bool = True\n",
    "gut_data.tradeoff_frac = 0.1\n",
    "# gut_data.sample_list = gut_data.X_df.index[:10].to_list() # using 10 samples in this case\n",
    "gut_data.run_micom_samples_parallel(gut_data.com_model, processes=gd.cpu_count(), atol=1e-6)\n",
    "# print(gut_data.compute_results)"
   ]
  },
  {
   "cell_type": "markdown",
   "metadata": {},
   "source": [
    "Looping through list of traits"
   ]
  },
  {
   "cell_type": "code",
   "execution_count": 74,
   "metadata": {},
   "outputs": [],
   "source": [
    "fluxes_df = pd.read_csv(gut_data.dir_sim_data+\"micom_fluxes-top5-%d_samples.csv\"%(len(gut_data.sample_list)),index_col=0)"
   ]
  },
  {
   "cell_type": "code",
   "execution_count": 78,
   "metadata": {},
   "outputs": [],
   "source": [
    "gut_data.get_num_metadata_df()"
   ]
  },
  {
   "cell_type": "code",
   "execution_count": 79,
   "metadata": {},
   "outputs": [
    {
     "name": "stdout",
     "output_type": "stream",
     "text": [
      "ibs_diagnosed by a medical professional (doctor, physician assistant)\n",
      "ibs_diagnosed by an alternative medicine practitioner\n",
      "ibs_i do not have this condition\n",
      "ibs_not provided\n",
      "ibs_self-diagnosed\n",
      "ibs_unknown\n",
      "pm_gastro_problems_irritable_bowel_syndrome_ibs_not provided\n"
     ]
    }
   ],
   "source": [
    "for col in gut_data.num_metadata_df.columns:\n",
    "    if \"ibs\" in col:\n",
    "        print(col)"
   ]
  },
  {
   "cell_type": "code",
   "execution_count": 11,
   "metadata": {},
   "outputs": [
    {
     "name": "stdout",
     "output_type": "stream",
     "text": [
      "Nothing to fix\n",
      "... normalizing raw ASV abundances to fractions, dropping samples with 0 total abundances\n",
      "# of genus in model and not filterd out of QA/QC: 5, # of genus not in model:0\n",
      "Nothing to fix\n",
      "... normalizing raw ASV abundances to fractions, dropping samples with 0 total abundances\n",
      "# of genus in model and not filterd out of QA/QC: 5, # of genus not in model:0\n"
     ]
    }
   ],
   "source": [
    "sample_num = 40\n",
    "for trait_id in [\"vegan\", \"ibs\"]:\n",
    "    gut_data = gd.GutData()\n",
    "    gut_data.load_data(\n",
    "        # FILE_COMM_MODEL='../data/reconstructions/community_5_TOP-vegan.pickle',\n",
    "        FILE_COMM_MODEL= DATA_LOC + 'reconstructions/community_5_TOP-vegan.pickle',\n",
    "        # FILE_GENUS_ASVS = \"../data/agp_data/taxon_genus_asvs.csv\",\n",
    "        FILE_GENUS_ASVS = DATA_LOC + 'agp_data/taxon_genus_asvs.csv',\n",
    "        # FILE_METADATA = DATA_LOC + \"agp_data/mcdonald_agp_metadata.txt\",\n",
    "        FILE_METADATA = DATA_LOC + \"agp_data/metadata_biosample_filtered.csv\",\n",
    "        DIR_SIM_DATA = DATA_LOC + \"micom-sim-data/\"  # \"../data/micom-sim-data/\",\n",
    "    )\n",
    "    gut_data.norm_abundances(filter_model=True, add_delta=True) ## Filters genus to those in model, adds small value to abundaces\n",
    "    gut_data.X_df = gut_data.asv_df.T.copy()\n",
    "    gut_data.sample_list = gut_data.X_df.index.to_list()\n",
    "    if trait_id==\"vegan\":\n",
    "        gut_data.set_vegan_df(sample_num=sample_num)\n",
    "    elif trait_id==\"ibs\":\n",
    "        gut_data.set_ibs_df(sample_num=sample_num, add_other_diagnosis=False)\n",
    "    ## Set vegan df changes X_df and y_df and will therefore change medium_df. Be sure to run medium df after setting samples\n",
    "    medium_df = pd.DataFrame(1000, columns=gut_data.com_model.medium.keys(), index = gut_data.X_df.index)\n",
    "    gut_data.sample_medium_dict = medium_df.T.to_dict()\n",
    "\n",
    "    # gut_data.fluxes.to_csv(gut_data.dir_sim_data+\"micom_fluxes-%s.csv\"%(trait_id))\n",
    "    gut_data.X_df.to_csv(gut_data.dir_sim_data+\"micom_X_df-%s.csv\"%(trait_id))\n",
    "    gut_data.y_df.to_csv(gut_data.dir_sim_data+\"micom_y_df-%s.csv\"%(trait_id))"
   ]
  },
  {
   "cell_type": "code",
   "execution_count": null,
   "metadata": {},
   "outputs": [],
   "source": [
    "gut_data.fluxes.to_csv(gut_data.dir_sim_data+\"micom_fluxes-%s.csv\"%(trait_id))"
   ]
  },
  {
   "cell_type": "markdown",
   "metadata": {},
   "source": [
    "# Build simple ML models using either fluxes or abundances as inputs and compare results"
   ]
  },
  {
   "cell_type": "code",
   "execution_count": 17,
   "metadata": {},
   "outputs": [],
   "source": [
    "def filter_X_cols(X_df, std_thresh=1e-3, verbose=False):\n",
    "    \"\"\"Drop features in X_df that are all 0, or the same number (or have very little std)\"\"\"\n",
    "    if verbose==True:\n",
    "        print(X_df.shape)\n",
    "    X_df = X_df[X_df.columns[X_df.std()>std_thresh]]\n",
    "    if verbose==True:\n",
    "        print(X_df.shape)\n",
    "    return X_df\n",
    "\n",
    "def match_Xy_df(X_in_df, y_in_df):\n",
    "    X_df, y_df = X_in_df.copy(), y_in_df.copy()\n",
    "    \"\"\" Makes sure X_df and y_df have the same indices\"\"\"\n",
    "    overlap = list(set(X_df.index).intersection(set(y_df.index)))\n",
    "    X_df =  X_df.loc[overlap]\n",
    "    y_df =  y_df.loc[overlap]\n",
    "    return X_df, y_df"
   ]
  },
  {
   "cell_type": "code",
   "execution_count": 18,
   "metadata": {},
   "outputs": [],
   "source": [
    "# FLUX_DF_NAME = \"micom_fluxes-top5-109_samples.csv\"\n",
    "FLUX_DF_NAME = \"micom_medium-fluxes-top5-736_samples.csv\"\n",
    "X_flux = pd.read_csv(gut_data.dir_sim_data+FLUX_DF_NAME,index_col=0)\n",
    "X_flux.index = X_flux.index.astype(str)\n",
    "\n",
    "# FLUX_DF_NAME = \"micom_fluxes-top5-736_samples.csv\"\n",
    "# X_flux = pd.read_csv(gut_data.dir_sim_data+FLUX_DF_NAME,index_col=0, chunksize=50)\n",
    "# X_flux.index = X_flux.index.astype(str)\n",
    "# for x_flux_df in X_flux:\n",
    "#     print(x_flux_df.shape)"
   ]
  },
  {
   "cell_type": "markdown",
   "metadata": {},
   "source": [
    "Takes about 6 minutes to run for 200 samples..."
   ]
  },
  {
   "cell_type": "code",
   "execution_count": 19,
   "metadata": {},
   "outputs": [],
   "source": [
    "from sklearn.preprocessing import StandardScaler\n",
    "from sklearn.feature_selection import SelectKBest, f_classif"
   ]
  },
  {
   "cell_type": "code",
   "execution_count": 16,
   "metadata": {},
   "outputs": [
    {
     "name": "stdout",
     "output_type": "stream",
     "text": [
      "0.85 0.6626488095238094\n"
     ]
    },
    {
     "data": {
      "text/plain": [
       "{'fit_time': array([66.82487249, 43.6760633 , 58.04426527, 56.30538225, 56.66689277]),\n",
       " 'score_time': array([0.00154233, 0.00170565, 0.00137925, 0.00148082, 0.00140953]),\n",
       " 'test_accuracy': array([0.82692308, 0.84615385, 0.86538462, 0.82692308, 0.88461538]),\n",
       " 'test_roc_auc': array([0.62585034, 0.63945578, 0.59895833, 0.57823129, 0.8707483 ])}"
      ]
     },
     "execution_count": 16,
     "metadata": {},
     "output_type": "execute_result"
    }
   ],
   "source": [
    "# RFE test\n",
    "n_splits = 5 #10\n",
    "test_size = 0.25\n",
    "n_features = 50\n",
    "input_type = \"vegan\"\n",
    "\n",
    "# y_df=pd.read_csv(gut_data.dir_sim_data+\"micom_y_df-%s.csv\"%(input_type),index_col=0)\n",
    "# y_df = y_df[y_df.columns[0]]\n",
    "y_df = gut_data.y_df.copy()\n",
    "\n",
    "X, y = match_Xy_df(X_flux, y_df)\n",
    "# X = mb_utils.filter_X_cols(X)\n",
    "X, y = X.values, y.values\n",
    "\n",
    "feat_filter = RFE(estimator=gut_data.logreg, n_features_to_select=n_features)\n",
    "# feat_filter = SelectKBest(f_classif, k=n_features)\n",
    "\n",
    "skf = StratifiedShuffleSplit(n_splits=n_splits, test_size=test_size)\n",
    "# model = make_pipeline(SMOTE(),gut_data.logreg)\n",
    "# model = make_pipeline(RandomOverSampler(),gut_data.logreg)\n",
    "model = make_pipeline(StandardScaler(), RandomOverSampler(), feat_filter, gut_data.logreg)\n",
    "\n",
    "# n_scores = cross_val_score(model, X, y, scoring=['accuracy', 'roc_auc'], cv=skf, n_jobs=-1, error_score='raise')\n",
    "n_scores = cross_validate(model, X, y, scoring=['accuracy','balanced_accuracy','roc_auc','average_precision'], cv=skf, n_jobs=-1, error_score='raise')\n",
    "print(np.mean(n_scores[\"test_accuracy\"]), np.mean(n_scores[\"test_roc_auc\"]))\n",
    "n_scores"
   ]
  },
  {
   "cell_type": "code",
   "execution_count": 40,
   "metadata": {},
   "outputs": [
    {
     "data": {
      "text/plain": [
       "'l2'"
      ]
     },
     "execution_count": 40,
     "metadata": {},
     "output_type": "execute_result"
    }
   ],
   "source": [
    "gut_data.logreg.penalty"
   ]
  },
  {
   "cell_type": "code",
   "execution_count": 8,
   "metadata": {},
   "outputs": [],
   "source": [
    "##### -------- Iterate over different ML params ---------\n",
    "## FLUX_DF_NAME = \"micom_fluxes-top5-109_samples.csv\"\n",
    "FLUX_DF_NAME = \"micom_medium-fluxes-top5-736_samples.csv\"\n",
    "X_flux = pd.read_csv(gut_data.dir_sim_data+FLUX_DF_NAME,index_col=0)\n",
    "X_flux.index = X_flux.index.astype(str)\n",
    "\n",
    "# RFE test\n",
    "n_splits = 10 #10\n",
    "test_size = 0.25\n",
    "# input_type = \"vegan\"\n",
    "input_type = \"ibs\"\n",
    "\n",
    "y_df = gut_data.y_df.copy()\n",
    "X, y = match_Xy_df(X_flux, y_df)\n",
    "# X, y = match_Xy_df(gut_data.X_df, y_df)\n",
    "# X = mb_utils.filter_X_cols(X)\n",
    "X, y = X.values, y.values\n",
    "\n",
    "score_list = ['accuracy','balanced_accuracy','roc_auc','average_precision']\n",
    "\n",
    "param_score_dict = {}\n",
    "for c_param in [1e-3, 1e-2, 1e-1, 1, 5, 1e1, 1e2, 1e3]:\n",
    "    for n_features in [5, 10, 15, 20, 35, 50]:\n",
    "        for penalty_param in [\"l1\", \"l2\"]:\n",
    "\n",
    "            gut_data.logreg.C = c_param\n",
    "            gut_data.logreg.penalty = penalty_param\n",
    "\n",
    "            # feat_filter = RFE(estimator=gut_data.logreg, n_features_to_select=n_features)\n",
    "            feat_filter = SelectKBest(f_classif, k=n_features)\n",
    "\n",
    "            skf = StratifiedShuffleSplit(n_splits=n_splits, test_size=test_size)\n",
    "            model = make_pipeline(StandardScaler(), SMOTE(), feat_filter, gut_data.logreg)\n",
    "            # model = make_pipeline(StandardScaler(), RandomOverSampler(), feat_filter, gut_data.logreg)\n",
    "            n_scores = cross_validate(model, X, y, scoring=score_list, cv=skf, n_jobs=-1, error_score='raise')\n",
    "            score_dict = {score_id: n_scores[\"test_\"+score_id].mean() for score_id in score_list}\n",
    "            param_score_dict.update({(c_param, n_features, penalty_param): score_dict})\n",
    "\n",
    "score_df = pd.DataFrame(param_score_dict).T"
   ]
  },
  {
   "cell_type": "code",
   "execution_count": 9,
   "metadata": {},
   "outputs": [
    {
     "data": {
      "text/html": [
       "<div>\n",
       "<style scoped>\n",
       "    .dataframe tbody tr th:only-of-type {\n",
       "        vertical-align: middle;\n",
       "    }\n",
       "\n",
       "    .dataframe tbody tr th {\n",
       "        vertical-align: top;\n",
       "    }\n",
       "\n",
       "    .dataframe thead th {\n",
       "        text-align: right;\n",
       "    }\n",
       "</style>\n",
       "<table border=\"1\" class=\"dataframe\">\n",
       "  <thead>\n",
       "    <tr style=\"text-align: right;\">\n",
       "      <th></th>\n",
       "      <th></th>\n",
       "      <th></th>\n",
       "      <th>accuracy</th>\n",
       "      <th>balanced_accuracy</th>\n",
       "      <th>roc_auc</th>\n",
       "      <th>average_precision</th>\n",
       "    </tr>\n",
       "  </thead>\n",
       "  <tbody>\n",
       "    <tr>\n",
       "      <th>0.100</th>\n",
       "      <th>15</th>\n",
       "      <th>l2</th>\n",
       "      <td>0.675472</td>\n",
       "      <td>0.698214</td>\n",
       "      <td>0.743367</td>\n",
       "      <td>0.232926</td>\n",
       "    </tr>\n",
       "    <tr>\n",
       "      <th>0.010</th>\n",
       "      <th>10</th>\n",
       "      <th>l2</th>\n",
       "      <td>0.616981</td>\n",
       "      <td>0.689541</td>\n",
       "      <td>0.706122</td>\n",
       "      <td>0.156832</td>\n",
       "    </tr>\n",
       "    <tr>\n",
       "      <th>0.001</th>\n",
       "      <th>35</th>\n",
       "      <th>l2</th>\n",
       "      <td>0.460377</td>\n",
       "      <td>0.685204</td>\n",
       "      <td>0.729082</td>\n",
       "      <td>0.188902</td>\n",
       "    </tr>\n",
       "    <tr>\n",
       "      <th>0.010</th>\n",
       "      <th>35</th>\n",
       "      <th>l2</th>\n",
       "      <td>0.626415</td>\n",
       "      <td>0.683163</td>\n",
       "      <td>0.713265</td>\n",
       "      <td>0.211031</td>\n",
       "    </tr>\n",
       "    <tr>\n",
       "      <th>100.000</th>\n",
       "      <th>10</th>\n",
       "      <th>l1</th>\n",
       "      <td>0.750943</td>\n",
       "      <td>0.670153</td>\n",
       "      <td>0.704082</td>\n",
       "      <td>0.223658</td>\n",
       "    </tr>\n",
       "  </tbody>\n",
       "</table>\n",
       "</div>"
      ],
      "text/plain": [
       "               accuracy  balanced_accuracy   roc_auc  average_precision\n",
       "0.100   15 l2  0.675472           0.698214  0.743367           0.232926\n",
       "0.010   10 l2  0.616981           0.689541  0.706122           0.156832\n",
       "0.001   35 l2  0.460377           0.685204  0.729082           0.188902\n",
       "0.010   35 l2  0.626415           0.683163  0.713265           0.211031\n",
       "100.000 10 l1  0.750943           0.670153  0.704082           0.223658"
      ]
     },
     "execution_count": 9,
     "metadata": {},
     "output_type": "execute_result"
    }
   ],
   "source": [
    "score_df.sort_values([\"balanced_accuracy\", \"roc_auc\"],ascending=False).head()"
   ]
  },
  {
   "cell_type": "code",
   "execution_count": 12,
   "metadata": {},
   "outputs": [],
   "source": [
    "writer = pd.ExcelWriter(gut_data.dir_sim_data+'ml_params.xlsx')\n",
    "score_df.to_excel(writer, \"ibs\"+\"_\"+\"flux\")\n",
    "writer.save()"
   ]
  },
  {
   "cell_type": "code",
   "execution_count": 20,
   "metadata": {},
   "outputs": [
    {
     "data": {
      "text/plain": [
       "'../../../Data/microbiome_xai/micom-sim-data/'"
      ]
     },
     "execution_count": 20,
     "metadata": {},
     "output_type": "execute_result"
    }
   ],
   "source": [
    "gut_data.dir_sim_data"
   ]
  },
  {
   "cell_type": "code",
   "execution_count": 21,
   "metadata": {},
   "outputs": [
    {
     "data": {
      "text/plain": [
       "MultiIndex([( 0.001,  5, 'l1'),\n",
       "            ( 0.001,  5, 'l2'),\n",
       "            ( 0.001, 10, 'l1'),\n",
       "            ( 0.001, 10, 'l2'),\n",
       "            ( 0.001, 15, 'l1'),\n",
       "            ( 0.001, 15, 'l2'),\n",
       "            ( 0.001, 20, 'l1'),\n",
       "            ( 0.001, 20, 'l2'),\n",
       "            ( 0.001, 35, 'l1'),\n",
       "            ( 0.001, 35, 'l2'),\n",
       "            ( 0.001, 50, 'l1'),\n",
       "            ( 0.001, 50, 'l2'),\n",
       "            (  0.01,  5, 'l1'),\n",
       "            (  0.01,  5, 'l2'),\n",
       "            (  0.01, 10, 'l1'),\n",
       "            (  0.01, 10, 'l2'),\n",
       "            (  0.01, 15, 'l1'),\n",
       "            (  0.01, 15, 'l2'),\n",
       "            (  0.01, 20, 'l1'),\n",
       "            (  0.01, 20, 'l2'),\n",
       "            (  0.01, 35, 'l1'),\n",
       "            (  0.01, 35, 'l2'),\n",
       "            (  0.01, 50, 'l1'),\n",
       "            (  0.01, 50, 'l2'),\n",
       "            (   0.1,  5, 'l1'),\n",
       "            (   0.1,  5, 'l2'),\n",
       "            (   0.1, 10, 'l1'),\n",
       "            (   0.1, 10, 'l2'),\n",
       "            (   0.1, 15, 'l1'),\n",
       "            (   0.1, 15, 'l2'),\n",
       "            (   0.1, 20, 'l1'),\n",
       "            (   0.1, 20, 'l2'),\n",
       "            (   0.1, 35, 'l1'),\n",
       "            (   0.1, 35, 'l2'),\n",
       "            (   0.1, 50, 'l1'),\n",
       "            (   0.1, 50, 'l2'),\n",
       "            (   1.0,  5, 'l1'),\n",
       "            (   1.0,  5, 'l2'),\n",
       "            (   1.0, 10, 'l1'),\n",
       "            (   1.0, 10, 'l2'),\n",
       "            (   1.0, 15, 'l1'),\n",
       "            (   1.0, 15, 'l2'),\n",
       "            (   1.0, 20, 'l1'),\n",
       "            (   1.0, 20, 'l2'),\n",
       "            (   1.0, 35, 'l1'),\n",
       "            (   1.0, 35, 'l2'),\n",
       "            (   1.0, 50, 'l1'),\n",
       "            (   1.0, 50, 'l2'),\n",
       "            (   5.0,  5, 'l1'),\n",
       "            (   5.0,  5, 'l2'),\n",
       "            (   5.0, 10, 'l1'),\n",
       "            (   5.0, 10, 'l2'),\n",
       "            (   5.0, 15, 'l1'),\n",
       "            (   5.0, 15, 'l2'),\n",
       "            (   5.0, 20, 'l1'),\n",
       "            (   5.0, 20, 'l2'),\n",
       "            (   5.0, 35, 'l1'),\n",
       "            (   5.0, 35, 'l2'),\n",
       "            (   5.0, 50, 'l1'),\n",
       "            (   5.0, 50, 'l2'),\n",
       "            (  10.0,  5, 'l1'),\n",
       "            (  10.0,  5, 'l2'),\n",
       "            (  10.0, 10, 'l1'),\n",
       "            (  10.0, 10, 'l2'),\n",
       "            (  10.0, 15, 'l1'),\n",
       "            (  10.0, 15, 'l2'),\n",
       "            (  10.0, 20, 'l1'),\n",
       "            (  10.0, 20, 'l2'),\n",
       "            (  10.0, 35, 'l1'),\n",
       "            (  10.0, 35, 'l2'),\n",
       "            (  10.0, 50, 'l1'),\n",
       "            (  10.0, 50, 'l2'),\n",
       "            ( 100.0,  5, 'l1'),\n",
       "            ( 100.0,  5, 'l2'),\n",
       "            ( 100.0, 10, 'l1'),\n",
       "            ( 100.0, 10, 'l2'),\n",
       "            ( 100.0, 15, 'l1'),\n",
       "            ( 100.0, 15, 'l2'),\n",
       "            ( 100.0, 20, 'l1'),\n",
       "            ( 100.0, 20, 'l2'),\n",
       "            ( 100.0, 35, 'l1'),\n",
       "            ( 100.0, 35, 'l2'),\n",
       "            ( 100.0, 50, 'l1'),\n",
       "            ( 100.0, 50, 'l2'),\n",
       "            (1000.0,  5, 'l1'),\n",
       "            (1000.0,  5, 'l2'),\n",
       "            (1000.0, 10, 'l1'),\n",
       "            (1000.0, 10, 'l2'),\n",
       "            (1000.0, 15, 'l1'),\n",
       "            (1000.0, 15, 'l2'),\n",
       "            (1000.0, 20, 'l1'),\n",
       "            (1000.0, 20, 'l2'),\n",
       "            (1000.0, 35, 'l1'),\n",
       "            (1000.0, 35, 'l2'),\n",
       "            (1000.0, 50, 'l1'),\n",
       "            (1000.0, 50, 'l2')],\n",
       "           )"
      ]
     },
     "execution_count": 21,
     "metadata": {},
     "output_type": "execute_result"
    }
   ],
   "source": [
    "score_df.index"
   ]
  },
  {
   "cell_type": "code",
   "execution_count": 73,
   "metadata": {},
   "outputs": [
    {
     "data": {
      "text/html": [
       "<div>\n",
       "<style scoped>\n",
       "    .dataframe tbody tr th:only-of-type {\n",
       "        vertical-align: middle;\n",
       "    }\n",
       "\n",
       "    .dataframe tbody tr th {\n",
       "        vertical-align: top;\n",
       "    }\n",
       "\n",
       "    .dataframe thead th {\n",
       "        text-align: right;\n",
       "    }\n",
       "</style>\n",
       "<table border=\"1\" class=\"dataframe\">\n",
       "  <thead>\n",
       "    <tr style=\"text-align: right;\">\n",
       "      <th></th>\n",
       "      <th></th>\n",
       "      <th></th>\n",
       "      <th>accuracy</th>\n",
       "      <th>balanced_accuracy</th>\n",
       "      <th>roc_auc</th>\n",
       "      <th>average_precision</th>\n",
       "    </tr>\n",
       "  </thead>\n",
       "  <tbody>\n",
       "    <tr>\n",
       "      <th>1.000</th>\n",
       "      <th>15</th>\n",
       "      <th>l1</th>\n",
       "      <td>0.755769</td>\n",
       "      <td>0.738138</td>\n",
       "      <td>0.777721</td>\n",
       "      <td>0.227143</td>\n",
       "    </tr>\n",
       "    <tr>\n",
       "      <th>0.001</th>\n",
       "      <th>10</th>\n",
       "      <th>l2</th>\n",
       "      <td>0.494231</td>\n",
       "      <td>0.705602</td>\n",
       "      <td>0.735868</td>\n",
       "      <td>0.186809</td>\n",
       "    </tr>\n",
       "    <tr>\n",
       "      <th>0.100</th>\n",
       "      <th>10</th>\n",
       "      <th>l2</th>\n",
       "      <td>0.674038</td>\n",
       "      <td>0.701499</td>\n",
       "      <td>0.729645</td>\n",
       "      <td>0.159949</td>\n",
       "    </tr>\n",
       "    <tr>\n",
       "      <th>0.001</th>\n",
       "      <th>35</th>\n",
       "      <th>l2</th>\n",
       "      <td>0.468269</td>\n",
       "      <td>0.701424</td>\n",
       "      <td>0.757781</td>\n",
       "      <td>0.211122</td>\n",
       "    </tr>\n",
       "    <tr>\n",
       "      <th>0.100</th>\n",
       "      <th>20</th>\n",
       "      <th>l2</th>\n",
       "      <td>0.684615</td>\n",
       "      <td>0.697715</td>\n",
       "      <td>0.760767</td>\n",
       "      <td>0.222313</td>\n",
       "    </tr>\n",
       "  </tbody>\n",
       "</table>\n",
       "</div>"
      ],
      "text/plain": [
       "             accuracy  balanced_accuracy   roc_auc  average_precision\n",
       "1.000 15 l1  0.755769           0.738138  0.777721           0.227143\n",
       "0.001 10 l2  0.494231           0.705602  0.735868           0.186809\n",
       "0.100 10 l2  0.674038           0.701499  0.729645           0.159949\n",
       "0.001 35 l2  0.468269           0.701424  0.757781           0.211122\n",
       "0.100 20 l2  0.684615           0.697715  0.760767           0.222313"
      ]
     },
     "execution_count": 73,
     "metadata": {},
     "output_type": "execute_result"
    }
   ],
   "source": [
    "score_df.sort_values([\"balanced_accuracy\", \"roc_auc\"],ascending=False).head()"
   ]
  },
  {
   "cell_type": "code",
   "execution_count": 79,
   "metadata": {},
   "outputs": [
    {
     "data": {
      "text/html": [
       "<div>\n",
       "<style scoped>\n",
       "    .dataframe tbody tr th:only-of-type {\n",
       "        vertical-align: middle;\n",
       "    }\n",
       "\n",
       "    .dataframe tbody tr th {\n",
       "        vertical-align: top;\n",
       "    }\n",
       "\n",
       "    .dataframe thead th {\n",
       "        text-align: right;\n",
       "    }\n",
       "</style>\n",
       "<table border=\"1\" class=\"dataframe\">\n",
       "  <thead>\n",
       "    <tr style=\"text-align: right;\">\n",
       "      <th></th>\n",
       "      <th></th>\n",
       "      <th></th>\n",
       "      <th>accuracy</th>\n",
       "      <th>balanced_accuracy</th>\n",
       "      <th>roc_auc</th>\n",
       "      <th>average_precision</th>\n",
       "    </tr>\n",
       "  </thead>\n",
       "  <tbody>\n",
       "    <tr>\n",
       "      <th>5.000</th>\n",
       "      <th>35</th>\n",
       "      <th>l2</th>\n",
       "      <td>0.755769</td>\n",
       "      <td>0.763467</td>\n",
       "      <td>0.795849</td>\n",
       "      <td>0.217643</td>\n",
       "    </tr>\n",
       "    <tr>\n",
       "      <th>0.001</th>\n",
       "      <th>5</th>\n",
       "      <th>l2</th>\n",
       "      <td>0.535577</td>\n",
       "      <td>0.733684</td>\n",
       "      <td>0.771253</td>\n",
       "      <td>0.201962</td>\n",
       "    </tr>\n",
       "    <tr>\n",
       "      <th>100.000</th>\n",
       "      <th>15</th>\n",
       "      <th>l2</th>\n",
       "      <td>0.766346</td>\n",
       "      <td>0.729114</td>\n",
       "      <td>0.786001</td>\n",
       "      <td>0.240652</td>\n",
       "    </tr>\n",
       "    <tr>\n",
       "      <th>0.001</th>\n",
       "      <th>10</th>\n",
       "      <th>l2</th>\n",
       "      <td>0.504808</td>\n",
       "      <td>0.718559</td>\n",
       "      <td>0.717990</td>\n",
       "      <td>0.170939</td>\n",
       "    </tr>\n",
       "    <tr>\n",
       "      <th>10.000</th>\n",
       "      <th>50</th>\n",
       "      <th>l2</th>\n",
       "      <td>0.761538</td>\n",
       "      <td>0.708780</td>\n",
       "      <td>0.763069</td>\n",
       "      <td>0.195587</td>\n",
       "    </tr>\n",
       "  </tbody>\n",
       "</table>\n",
       "</div>"
      ],
      "text/plain": [
       "               accuracy  balanced_accuracy   roc_auc  average_precision\n",
       "5.000   35 l2  0.755769           0.763467  0.795849           0.217643\n",
       "0.001   5  l2  0.535577           0.733684  0.771253           0.201962\n",
       "100.000 15 l2  0.766346           0.729114  0.786001           0.240652\n",
       "0.001   10 l2  0.504808           0.718559  0.717990           0.170939\n",
       "10.000  50 l2  0.761538           0.708780  0.763069           0.195587"
      ]
     },
     "execution_count": 79,
     "metadata": {},
     "output_type": "execute_result"
    }
   ],
   "source": [
    "score_df.sort_values([\"balanced_accuracy\", \"roc_auc\"],ascending=False).head()"
   ]
  },
  {
   "cell_type": "code",
   "execution_count": 83,
   "metadata": {},
   "outputs": [
    {
     "data": {
      "text/plain": [
       "'SelectKBest'"
      ]
     },
     "execution_count": 83,
     "metadata": {},
     "output_type": "execute_result"
    }
   ],
   "source": [
    "feat_filter.__class__.__name__"
   ]
  },
  {
   "cell_type": "code",
   "execution_count": 63,
   "metadata": {},
   "outputs": [
    {
     "data": {
      "text/plain": [
       "Index(['EX_3mop_m__medium', 'EX_acald_m__medium', 'EX_ade_m__medium',\n",
       "       'EX_asn_L_m__medium', 'EX_cgly_m__medium', 'EX_dgsn_m__medium',\n",
       "       'EX_for_m__medium', 'EX_glcn_m__medium', 'EX_glyc3p_m__medium',\n",
       "       'EX_glyleu_m__medium', 'EX_ha_deg1_m__medium', 'EX_ile_L_m__medium',\n",
       "       'EX_mnl_m__medium', 'EX_nadp_m__medium', 'EX_ncam_m__medium',\n",
       "       'EX_nmn_m__medium', 'EX_ser_L_m__medium', 'EX_thr_L_m__medium',\n",
       "       'EX_ttdca_m__medium', 'EX_ura_m__medium'],\n",
       "      dtype='object')"
      ]
     },
     "execution_count": 63,
     "metadata": {},
     "output_type": "execute_result"
    }
   ],
   "source": [
    "X_flux.columns[selector.support_]"
   ]
  },
  {
   "cell_type": "code",
   "execution_count": 17,
   "metadata": {},
   "outputs": [],
   "source": [
    "n_splits = 5 #10\n",
    "test_size = 0.25\n",
    "\n",
    "input_type_aucs_long = pd.DataFrame()\n",
    "for input_type in [\"vegan\", \"ibs\"][:]: # , \"ibs\"\n",
    "\n",
    "    ### Code here initializes the data set (gut_data object)\n",
    "    ### ...\n",
    "    ### ...\n",
    "    # y_df=pd.read_csv(gut_data.dir_sim_data+\"micom_y_df-%s.csv\"%(input_type),index_col=0)\n",
    "    # y_df = y_df[y_df.columns[0]]\n",
    "    y_df = gut_data.y_df.copy()\n",
    "\n",
    "    ml_data_dict = {}\n",
    "    for data_fit in [\"flux\", \"abundance\"]:\n",
    "        if data_fit == \"flux\":\n",
    "            ### This should change to loading the computed data\n",
    "            X, y = match_Xy_df(X_flux, y_df)\n",
    "            X = mb_utils.filter_X_cols(X)\n",
    "            X, y = X.values, y.values\n",
    "             # remove features that don't change...\n",
    "        else:\n",
    "            # X = pd.read_csv(gut_data.dir_sim_data+\"micom_X_df-%s.csv\"%(input_type),index_col=0)\n",
    "            X = gut_data.X_df.copy()\n",
    "            X, y = match_Xy_df(X, y_df)\n",
    "            X, y = X.values, y.values\n",
    "            \n",
    "        ### LogReg\n",
    "        skf = StratifiedShuffleSplit(n_splits=n_splits, test_size=test_size)\n",
    "\n",
    "        # model = make_pipeline(RandomOverSampler(), gut_data.logreg)\n",
    "\n",
    "        rfe = RFE(estimator=gut_data.logreg, n_features_to_select=5)\n",
    "        model = make_pipeline(RandomOverSampler(), rfe, gut_data.logreg)\n",
    "        # model = make_pipeline(SMOTE(),gut_data.logreg)\n",
    "\n",
    "        n_scores = cross_validate(model, X, y, scoring=['accuracy', 'roc_auc'], cv=skf, n_jobs=-1, error_score='raise')\n",
    "        ml_data_dict.update({\n",
    "            data_fit: {\n",
    "                \"aucs\": n_scores[\"test_roc_auc\"],\n",
    "                \"aps\": n_scores[\"test_accuracy\"]\n",
    "            }\n",
    "        })\n",
    "        \n",
    "        \n",
    "        # recall_vals, precision_vals, avg_AP, tpr_vals, fpr_vals, avg_AUC, auc_list, ap_list = mb_utils.get_PR_ROC(\n",
    "        #     model, skf, X, y, bool_scale_inputs=True)\n",
    "        # ml_data_dict.update({\n",
    "        #     data_fit: {\n",
    "        #         \"aucs\": auc_list,\n",
    "        #         \"aps\": ap_list\n",
    "        #     }\n",
    "        # })\n",
    "\n",
    "    ml_data_df = pd.DataFrame.from_dict(ml_data_dict,orient=\"index\")\n",
    "    ml_data_df.reset_index(inplace=True)\n",
    "    ml_data_df_long = ml_data_df.explode(\"aucs\",ignore_index=True)[[\"index\",\"aucs\"]]\n",
    "    for col in [\"aps\"]:\n",
    "        ml_data_df_long = pd.concat([ml_data_df_long, ml_data_df.explode(col,ignore_index=True)[col]],axis=1)\n",
    "\n",
    "    ml_data_df_long[\"aucs\"] = ml_data_df_long[\"aucs\"].astype(float)\n",
    "    ml_data_df_long[\"input_type\"] = input_type\n",
    "    input_type_aucs_long = pd.concat([input_type_aucs_long, ml_data_df_long])"
   ]
  },
  {
   "cell_type": "code",
   "execution_count": 18,
   "metadata": {},
   "outputs": [
    {
     "data": {
      "text/plain": [
       "Text(0.5, 1.0, 'LogReg AUCs comparison')"
      ]
     },
     "execution_count": 18,
     "metadata": {},
     "output_type": "execute_result"
    },
    {
     "data": {
      "image/png": "[encoded data removed]",
      "text/plain": [
       "<Figure size 432x288 with 1 Axes>"
      ]
     },
     "metadata": {
      "needs_background": "light"
     },
     "output_type": "display_data"
    }
   ],
   "source": [
    "f, ax = plt.subplots()\n",
    "# ax = sns.barplot(x=\"index\", y=\"aucs\", hue=\"input_type\", data=input_type_aucs_long, palette=\"Set2\")\n",
    "# ax = sns.barplot(x=\"input_type\", y=\"aucs\", hue=\"index\", data=input_type_aucs_long, palette=\"Set2\")\n",
    "ax = sns.boxplot(x=\"input_type\", y=\"aucs\", hue=\"index\", data=input_type_aucs_long)\n",
    "ax = sns.swarmplot(x=\"input_type\", y=\"aucs\", hue=\"index\", data=input_type_aucs_long, color=\".25\")\n",
    "# ax.set_ylabel(\"features\")\n",
    "ax.set_xlabel(\"trait\")\n",
    "ax.set_title(\"LogReg AUCs comparison\")\n",
    "# f.savefig(FIG_SAVE_LOC+\"LogReg_aucs_comparison.svg\")\n",
    "# f.savefig(FIG_SAVE_LOC+\"LogReg_aucs_comparison.png\")"
   ]
  },
  {
   "cell_type": "code",
   "execution_count": 87,
   "metadata": {},
   "outputs": [
    {
     "data": {
      "image/png": "[encoded data removed]",
      "text/plain": [
       "<Figure size 432x288 with 1 Axes>"
      ]
     },
     "metadata": {
      "needs_background": "light"
     },
     "output_type": "display_data"
    }
   ],
   "source": [
    "ml_data_df = pd.DataFrame.from_dict(ml_data_dict,orient=\"index\")\n",
    "ml_data_df.reset_index(inplace=True)\n",
    "\n",
    "# ml_data_df_long = pd.DataFrame()\n",
    "# ml_data_df = ml_data_df.explode(\"aucs\",ignore_index=True)\n",
    "ml_data_df_long = ml_data_df.explode(\"aucs\",ignore_index=True)[[\"index\",\"aucs\"]]\n",
    "for col in [\"aps\"]:\n",
    "    ml_data_df_long = pd.concat([ml_data_df_long, ml_data_df.explode(col,ignore_index=True)[col]],axis=1)\n",
    "\n",
    "ml_data_df_long[\"aucs\"] = ml_data_df_long[\"aucs\"].astype(float)\n",
    "# ax = sns.boxplot(x=\"aucs\", y=\"index\", orient=\"h\", data=ml_data_df_long)\n",
    "# ax = sns.swarmplot(x=\"aucs\", y=\"index\", orient=\"h\", data=ml_data_df_long, color=\".25\")\n",
    "ax = sns.boxplot(x=\"index\", y=\"aucs\", orient=\"v\", data=ml_data_df_long)\n",
    "ax = sns.swarmplot(x=\"index\", y=\"aucs\", orient=\"v\", data=ml_data_df_long, color=\".25\")"
   ]
  },
  {
   "cell_type": "code",
   "execution_count": null,
   "metadata": {},
   "outputs": [],
   "source": [
    "f, ax = plt.subplots()\n",
    "ax = sns.barplot(x=\"index\", y=\"aucs\", hue=\"input_type\", data=input_type_aucs_long, palette=\"Set2\")\n",
    "# ax.set_ylabel(\"features\")\n",
    "# ax.set_xlabel(\"rf importance\")\n",
    "ax.set_title(\"rf aucs comparison\")\n",
    "f.savefig(FIG_SAVE_LOC+\"rf_aucs_comparison.svg\")\n",
    "f.savefig(FIG_SAVE_LOC+\"rf_aucs_comparison.png\")"
   ]
  },
  {
   "cell_type": "markdown",
   "metadata": {},
   "source": [
    "### Precision Recall curves if desired..."
   ]
  },
  {
   "cell_type": "code",
   "execution_count": 8,
   "metadata": {
    "scrolled": false
   },
   "outputs": [
    {
     "data": {
      "text/plain": [
       "<sklearn.metrics._plot.precision_recall_curve.PrecisionRecallDisplay at 0x7f360fcb75e0>"
      ]
     },
     "execution_count": 8,
     "metadata": {},
     "output_type": "execute_result"
    },
    {
     "data": {
      "image/png": "[encoded data removed]",
      "text/plain": [
       "<Figure size 720x288 with 2 Axes>"
      ]
     },
     "metadata": {
      "needs_background": "light"
     },
     "output_type": "display_data"
    }
   ],
   "source": [
    "f, (ax1, ax2) = plt.subplots(1, 2, figsize=(10, 4))\n",
    "n_splits = 10\n",
    "test_size = 0.3\n",
    "X, y = gut_data.fluxes.values, gut_data.y_df.values\n",
    "skf = StratifiedShuffleSplit(n_splits=n_splits, test_size=test_size)\n",
    "# skf = ShuffleSplit(n_splits=n_splits, test_size=test_size)\n",
    "\n",
    "### LogReg\n",
    "model = make_pipeline(SMOTE(),gut_data.logreg)\n",
    "recall_vals, precision_vals, avg_AP, tpr_vals, fpr_vals, avg_AUC = mb_utils.get_PR_ROC(\n",
    "    model, skf, X, y, bool_scale_inputs=True)\n",
    "\n",
    "pr_display = PrecisionRecallDisplay(precision=precision_vals, recall=recall_vals)\n",
    "roc_display = RocCurveDisplay(fpr=fpr_vals, tpr=tpr_vals)\n",
    "\n",
    "roc_display.plot(ax=ax1, label='RF AUC={0:0.2f}'.format(avg_AUC))\n",
    "pr_display.plot(ax=ax2, label='RF AP={0:0.2f}'.format(avg_AP))"
   ]
  },
  {
   "cell_type": "code",
   "execution_count": 7,
   "metadata": {},
   "outputs": [
    {
     "data": {
      "text/plain": [
       "<sklearn.metrics._plot.precision_recall_curve.PrecisionRecallDisplay at 0x7f360fd28820>"
      ]
     },
     "execution_count": 7,
     "metadata": {},
     "output_type": "execute_result"
    },
    {
     "data": {
      "image/png": "[encoded data removed]",
      "text/plain": [
       "<Figure size 576x288 with 2 Axes>"
      ]
     },
     "metadata": {
      "needs_background": "light"
     },
     "output_type": "display_data"
    }
   ],
   "source": [
    "f, (ax1, ax2) = plt.subplots(1, 2, figsize=(8, 4))\n",
    "n_splits = 5\n",
    "test_size = 0.5\n",
    "## Flux fit with logistic regression\n",
    "X, y = gut_data.fluxes.values, gut_data.y_df.values\n",
    "skf = StratifiedShuffleSplit(n_splits=n_splits, test_size=test_size)\n",
    "### LogReg\n",
    "model = make_pipeline(SMOTE(),gut_data.logreg)\n",
    "recall_vals, precision_vals, avg_AP, tpr_vals, fpr_vals, avg_AUC = mb_utils.get_PR_ROC(\n",
    "    model, skf, X, y, bool_scale_inputs=True)\n",
    "pr_display = PrecisionRecallDisplay(precision=precision_vals, recall=recall_vals)\n",
    "roc_display = RocCurveDisplay(fpr=fpr_vals, tpr=tpr_vals)\n",
    "\n",
    "roc_display.plot(ax=ax1, label='Flux Avg AUC={0:0.2f}'.format(avg_AUC))\n",
    "pr_display.plot(ax=ax2, label='Flux Avg AP={0:0.2f}'.format(avg_AP))\n",
    "\n",
    "## Gut abundance fit with logistic regression\n",
    "X, y = gut_data.X_df.values, gut_data.y_df.values\n",
    "### LogReg\n",
    "model = make_pipeline(SMOTE(),gut_data.logreg)\n",
    "recall_vals, precision_vals, avg_AP, tpr_vals, fpr_vals, avg_AUC = mb_utils.get_PR_ROC(\n",
    "    model, skf, X, y, bool_scale_inputs=True)\n",
    "pr_display = PrecisionRecallDisplay(precision=precision_vals, recall=recall_vals)\n",
    "roc_display = RocCurveDisplay(fpr=fpr_vals, tpr=tpr_vals)\n",
    "\n",
    "roc_display.plot(ax=ax1, label='Abundance Avg AUC={0:0.2f}'.format(avg_AUC), c=\"red\")\n",
    "pr_display.plot(ax=ax2, label='Abundance Avg AP={0:0.2f}'.format(avg_AP), c=\"red\")"
   ]
  },
  {
   "cell_type": "code",
   "execution_count": 28,
   "metadata": {},
   "outputs": [],
   "source": [
    "# sol = gut_learn.com_model.optimize(fluxes=True)\n",
    "# gresults = gl.get_micom_results(gut_learn.com_model, sol, tradeoff=1, atol=1e-6)\n",
    "# gresults.growth_rates"
   ]
  },
  {
   "cell_type": "markdown",
   "metadata": {},
   "source": [
    "# Correlate growth fluxes with traits"
   ]
  },
  {
   "cell_type": "code",
   "execution_count": 3,
   "metadata": {},
   "outputs": [],
   "source": [
    "from sklearn.feature_selection import f_classif, f_regression"
   ]
  },
  {
   "cell_type": "code",
   "execution_count": 4,
   "metadata": {},
   "outputs": [
    {
     "data": {
      "text/html": [
       "<div>\n",
       "<style scoped>\n",
       "    .dataframe tbody tr th:only-of-type {\n",
       "        vertical-align: middle;\n",
       "    }\n",
       "\n",
       "    .dataframe tbody tr th {\n",
       "        vertical-align: top;\n",
       "    }\n",
       "\n",
       "    .dataframe thead th {\n",
       "        text-align: right;\n",
       "    }\n",
       "</style>\n",
       "<table border=\"1\" class=\"dataframe\">\n",
       "  <thead>\n",
       "    <tr style=\"text-align: right;\">\n",
       "      <th></th>\n",
       "      <th>pval</th>\n",
       "    </tr>\n",
       "  </thead>\n",
       "  <tbody>\n",
       "    <tr>\n",
       "      <th>alistipes</th>\n",
       "      <td>1.253417e-07</td>\n",
       "    </tr>\n",
       "    <tr>\n",
       "      <th>corynebacterium</th>\n",
       "      <td>7.732097e-04</td>\n",
       "    </tr>\n",
       "    <tr>\n",
       "      <th>staphylococcus</th>\n",
       "      <td>6.056109e-03</td>\n",
       "    </tr>\n",
       "    <tr>\n",
       "      <th>christensenellaceae</th>\n",
       "      <td>1.277991e-02</td>\n",
       "    </tr>\n",
       "    <tr>\n",
       "      <th>bilophila</th>\n",
       "      <td>6.272631e-02</td>\n",
       "    </tr>\n",
       "  </tbody>\n",
       "</table>\n",
       "</div>"
      ],
      "text/plain": [
       "                             pval\n",
       "alistipes            1.253417e-07\n",
       "corynebacterium      7.732097e-04\n",
       "staphylococcus       6.056109e-03\n",
       "christensenellaceae  1.277991e-02\n",
       "bilophila            6.272631e-02"
      ]
     },
     "execution_count": 4,
     "metadata": {},
     "output_type": "execute_result"
    }
   ],
   "source": [
    "X_df = gut_learn.X_df\n",
    "f_flux_opt, pval_flux_opt = f_classif(X_df, gut_learn.y_df)\n",
    "pval_flux_opt_df = pd.DataFrame(pval_flux_opt,index=X_df.columns, columns=['pval'])\n",
    "pval_flux_opt_df.sort_values('pval',ascending=True,inplace=True)\n",
    "pval_flux_opt_df"
   ]
  },
  {
   "cell_type": "code",
   "execution_count": 5,
   "metadata": {
    "scrolled": true
   },
   "outputs": [
    {
     "name": "stderr",
     "output_type": "stream",
     "text": [
      "/home/eskavvas/anaconda3/lib/python3.8/site-packages/sklearn/feature_selection/_univariate_selection.py:114: UserWarning: Features [2809 2810 2836 3155 3172 3210 3277 3361 3386 3408 3409 3581 3582 3583\n",
      " 3652 3658 3705 3706 3719 3803 3845 3846 7653 7894 8039 8327] are constant.\n",
      "  warnings.warn(\"Features %s are constant.\" % constant_features_idx,\n",
      "/home/eskavvas/anaconda3/lib/python3.8/site-packages/sklearn/feature_selection/_univariate_selection.py:116: RuntimeWarning: divide by zero encountered in true_divide\n",
      "  f = msb / msw\n",
      "/home/eskavvas/anaconda3/lib/python3.8/site-packages/sklearn/feature_selection/_univariate_selection.py:116: RuntimeWarning: invalid value encountered in true_divide\n",
      "  f = msb / msw\n"
     ]
    },
    {
     "data": {
      "text/html": [
       "<div>\n",
       "<style scoped>\n",
       "    .dataframe tbody tr th:only-of-type {\n",
       "        vertical-align: middle;\n",
       "    }\n",
       "\n",
       "    .dataframe tbody tr th {\n",
       "        vertical-align: top;\n",
       "    }\n",
       "\n",
       "    .dataframe thead th {\n",
       "        text-align: right;\n",
       "    }\n",
       "</style>\n",
       "<table border=\"1\" class=\"dataframe\">\n",
       "  <thead>\n",
       "    <tr style=\"text-align: right;\">\n",
       "      <th></th>\n",
       "      <th>pval</th>\n",
       "    </tr>\n",
       "    <tr>\n",
       "      <th>react</th>\n",
       "      <th></th>\n",
       "    </tr>\n",
       "  </thead>\n",
       "  <tbody>\n",
       "    <tr>\n",
       "      <th>MLTG3__corynebacterium</th>\n",
       "      <td>0.0</td>\n",
       "    </tr>\n",
       "    <tr>\n",
       "      <th>GLCURt2r__corynebacterium</th>\n",
       "      <td>0.0</td>\n",
       "    </tr>\n",
       "    <tr>\n",
       "      <th>ACONTb__corynebacterium</th>\n",
       "      <td>0.0</td>\n",
       "    </tr>\n",
       "    <tr>\n",
       "      <th>O2t__corynebacterium</th>\n",
       "      <td>0.0</td>\n",
       "    </tr>\n",
       "    <tr>\n",
       "      <th>ACONTa__corynebacterium</th>\n",
       "      <td>0.0</td>\n",
       "    </tr>\n",
       "    <tr>\n",
       "      <th>...</th>\n",
       "      <td>...</td>\n",
       "    </tr>\n",
       "    <tr>\n",
       "      <th>TDPGAT__staphylococcus</th>\n",
       "      <td>NaN</td>\n",
       "    </tr>\n",
       "    <tr>\n",
       "      <th>G3PAT140__christensenellaceae</th>\n",
       "      <td>NaN</td>\n",
       "    </tr>\n",
       "    <tr>\n",
       "      <th>TDCOATA__christensenellaceae</th>\n",
       "      <td>NaN</td>\n",
       "    </tr>\n",
       "    <tr>\n",
       "      <th>EX_acald_m__medium</th>\n",
       "      <td>NaN</td>\n",
       "    </tr>\n",
       "    <tr>\n",
       "      <th>EX_o2_m__medium</th>\n",
       "      <td>NaN</td>\n",
       "    </tr>\n",
       "  </tbody>\n",
       "</table>\n",
       "<p>8482 rows × 1 columns</p>\n",
       "</div>"
      ],
      "text/plain": [
       "                               pval\n",
       "react                              \n",
       "MLTG3__corynebacterium          0.0\n",
       "GLCURt2r__corynebacterium       0.0\n",
       "ACONTb__corynebacterium         0.0\n",
       "O2t__corynebacterium            0.0\n",
       "ACONTa__corynebacterium         0.0\n",
       "...                             ...\n",
       "TDPGAT__staphylococcus          NaN\n",
       "G3PAT140__christensenellaceae   NaN\n",
       "TDCOATA__christensenellaceae    NaN\n",
       "EX_acald_m__medium              NaN\n",
       "EX_o2_m__medium                 NaN\n",
       "\n",
       "[8482 rows x 1 columns]"
      ]
     },
     "execution_count": 5,
     "metadata": {},
     "output_type": "execute_result"
    }
   ],
   "source": [
    "# X_df = fluxes\n",
    "X_df = gut_learn.fluxes\n",
    "\n",
    "X_df = X_df[X_df.columns[X_df.std()>1e-6]] # fitler constant flux\n",
    "f_flux_opt, pval_flux_opt = f_classif(X_df, gut_learn.y_df)\n",
    "pval_flux_opt_df = pd.DataFrame(pval_flux_opt,index=X_df.columns, columns=['pval'])\n",
    "pval_flux_opt_df.sort_values('pval',ascending=True,inplace=True)\n",
    "pval_flux_opt_df"
   ]
  },
  {
   "cell_type": "code",
   "execution_count": 8,
   "metadata": {},
   "outputs": [
    {
     "data": {
      "text/html": [
       "<div>\n",
       "<style scoped>\n",
       "    .dataframe tbody tr th:only-of-type {\n",
       "        vertical-align: middle;\n",
       "    }\n",
       "\n",
       "    .dataframe tbody tr th {\n",
       "        vertical-align: top;\n",
       "    }\n",
       "\n",
       "    .dataframe thead th {\n",
       "        text-align: right;\n",
       "    }\n",
       "</style>\n",
       "<table border=\"1\" class=\"dataframe\">\n",
       "  <thead>\n",
       "    <tr style=\"text-align: right;\">\n",
       "      <th></th>\n",
       "      <th>pval</th>\n",
       "    </tr>\n",
       "    <tr>\n",
       "      <th>compartments</th>\n",
       "      <th></th>\n",
       "    </tr>\n",
       "  </thead>\n",
       "  <tbody>\n",
       "    <tr>\n",
       "      <th>christensenellaceae</th>\n",
       "      <td>0.059042</td>\n",
       "    </tr>\n",
       "    <tr>\n",
       "      <th>bilophila</th>\n",
       "      <td>0.096870</td>\n",
       "    </tr>\n",
       "    <tr>\n",
       "      <th>alistipes</th>\n",
       "      <td>0.149993</td>\n",
       "    </tr>\n",
       "    <tr>\n",
       "      <th>corynebacterium</th>\n",
       "      <td>NaN</td>\n",
       "    </tr>\n",
       "    <tr>\n",
       "      <th>staphylococcus</th>\n",
       "      <td>NaN</td>\n",
       "    </tr>\n",
       "  </tbody>\n",
       "</table>\n",
       "</div>"
      ],
      "text/plain": [
       "                         pval\n",
       "compartments                 \n",
       "christensenellaceae  0.059042\n",
       "bilophila            0.096870\n",
       "alistipes            0.149993\n",
       "corynebacterium           NaN\n",
       "staphylococcus            NaN"
      ]
     },
     "execution_count": 8,
     "metadata": {},
     "output_type": "execute_result"
    }
   ],
   "source": [
    "# X_df = pd.DataFrame(grates_df)\n",
    "X_df = gut_learn.member_growth_rates\n",
    "\n",
    "X_df = X_df[X_df.columns[X_df.std()>1e-6]] # fitler constant flux\n",
    "f_flux_opt, pval_flux_opt = f_classif(X_df, gut_learn.y_df)\n",
    "pval_flux_opt_df = pd.DataFrame(pval_flux_opt,index=X_df.columns, columns=['pval'])\n",
    "pval_flux_opt_df.sort_values('pval',ascending=True,inplace=True)\n",
    "pval_flux_opt_df"
   ]
  }
 ],
 "metadata": {
  "kernelspec": {
   "display_name": "Python 3",
   "language": "python",
   "name": "python3"
  },
  "language_info": {
   "codemirror_mode": {
    "name": "ipython",
    "version": 3
   },
   "file_extension": ".py",
   "mimetype": "text/x-python",
   "name": "python",
   "nbconvert_exporter": "python",
   "pygments_lexer": "ipython3",
   "version": "3.8.5"
  }
 },
 "nbformat": 4,
 "nbformat_minor": 4
}
